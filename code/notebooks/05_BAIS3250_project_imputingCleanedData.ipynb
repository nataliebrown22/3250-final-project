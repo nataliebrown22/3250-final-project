{
 "cells": [
  {
   "cell_type": "markdown",
   "id": "3894ec80-aa6f-4c6f-854e-afae6fd0eb56",
   "metadata": {},
   "source": [
    "# BAIS:3250 - Final Project\n",
    "### Data Transformation\n",
    "\n",
    "**Author(s):** Natalie Brown, Max Kaiser\n",
    "\n",
    "**Date Modified:** 11-21-2024 (*date created:* 11-21-2024)\n",
    "\n",
    "\n",
    "**Description:** Transforming columns and dropping / imputing nulls for final dataset\n",
    "\n",
    "---"
   ]
  },
  {
   "cell_type": "markdown",
   "id": "3bc16047-ce89-4d5e-86fd-ae8d98163904",
   "metadata": {},
   "source": [
    "### Import Libaries\n",
    "* **pandas:** for data frames and data cleaning functions"
   ]
  },
  {
   "cell_type": "code",
   "execution_count": 3,
   "id": "2a3c68e5-96ee-4be3-8a4a-789e24659169",
   "metadata": {},
   "outputs": [],
   "source": [
    "import pandas as pd"
   ]
  },
  {
   "cell_type": "markdown",
   "id": "d254df90-ddb0-4e62-a0c5-3fe4cbe95bc4",
   "metadata": {},
   "source": [
    "---\n",
    "### Load Data\n",
    "* **country_merged_clean.csv**"
   ]
  },
  {
   "cell_type": "code",
   "execution_count": 5,
   "id": "2ef15407-9fa4-4291-89bc-21e4c7a04bff",
   "metadata": {},
   "outputs": [
    {
     "data": {
      "text/html": [
       "<div>\n",
       "<style scoped>\n",
       "    .dataframe tbody tr th:only-of-type {\n",
       "        vertical-align: middle;\n",
       "    }\n",
       "\n",
       "    .dataframe tbody tr th {\n",
       "        vertical-align: top;\n",
       "    }\n",
       "\n",
       "    .dataframe thead th {\n",
       "        text-align: right;\n",
       "    }\n",
       "</style>\n",
       "<table border=\"1\" class=\"dataframe\">\n",
       "  <thead>\n",
       "    <tr style=\"text-align: right;\">\n",
       "      <th></th>\n",
       "      <th>country</th>\n",
       "      <th>birth_rt</th>\n",
       "      <th>currency_code</th>\n",
       "      <th>fertility_rt</th>\n",
       "      <th>infant_mortality_rt</th>\n",
       "      <th>life_expectancy</th>\n",
       "      <th>official_language</th>\n",
       "      <th>physicians_per_thousand</th>\n",
       "      <th>lat</th>\n",
       "      <th>long</th>\n",
       "      <th>...</th>\n",
       "      <th>primary_education_enrollment_pct</th>\n",
       "      <th>secondary_education_enrollment_pct</th>\n",
       "      <th>tax_revenue_pct</th>\n",
       "      <th>unemployment_rt</th>\n",
       "      <th>country_edited</th>\n",
       "      <th>continent</th>\n",
       "      <th>covid_cases</th>\n",
       "      <th>covid_deaths</th>\n",
       "      <th>total_area_km2</th>\n",
       "      <th>average_population</th>\n",
       "    </tr>\n",
       "  </thead>\n",
       "  <tbody>\n",
       "    <tr>\n",
       "      <th>0</th>\n",
       "      <td>Afghanistan</td>\n",
       "      <td>32.49</td>\n",
       "      <td>AFN</td>\n",
       "      <td>4.47</td>\n",
       "      <td>47.9</td>\n",
       "      <td>64.5</td>\n",
       "      <td>Pashto</td>\n",
       "      <td>0.28</td>\n",
       "      <td>33.939110</td>\n",
       "      <td>67.709953</td>\n",
       "      <td>...</td>\n",
       "      <td>104.0</td>\n",
       "      <td>9.7</td>\n",
       "      <td>9.3</td>\n",
       "      <td>11.12</td>\n",
       "      <td>Afghanistan</td>\n",
       "      <td>Asia</td>\n",
       "      <td>46498</td>\n",
       "      <td>1774</td>\n",
       "      <td>652000</td>\n",
       "      <td>38673974</td>\n",
       "    </tr>\n",
       "    <tr>\n",
       "      <th>1</th>\n",
       "      <td>Albania</td>\n",
       "      <td>11.78</td>\n",
       "      <td>ALL</td>\n",
       "      <td>1.62</td>\n",
       "      <td>7.8</td>\n",
       "      <td>78.5</td>\n",
       "      <td>Albanian</td>\n",
       "      <td>1.20</td>\n",
       "      <td>41.153332</td>\n",
       "      <td>20.168331</td>\n",
       "      <td>...</td>\n",
       "      <td>107.0</td>\n",
       "      <td>55.0</td>\n",
       "      <td>18.6</td>\n",
       "      <td>12.33</td>\n",
       "      <td>Albania</td>\n",
       "      <td>Europe</td>\n",
       "      <td>37625</td>\n",
       "      <td>798</td>\n",
       "      <td>28748</td>\n",
       "      <td>2865340</td>\n",
       "    </tr>\n",
       "    <tr>\n",
       "      <th>2</th>\n",
       "      <td>Algeria</td>\n",
       "      <td>24.28</td>\n",
       "      <td>DZD</td>\n",
       "      <td>3.02</td>\n",
       "      <td>20.1</td>\n",
       "      <td>76.7</td>\n",
       "      <td>Arabic</td>\n",
       "      <td>1.72</td>\n",
       "      <td>28.033886</td>\n",
       "      <td>1.659626</td>\n",
       "      <td>...</td>\n",
       "      <td>109.9</td>\n",
       "      <td>51.4</td>\n",
       "      <td>37.2</td>\n",
       "      <td>11.70</td>\n",
       "      <td>Algeria</td>\n",
       "      <td>Africa</td>\n",
       "      <td>83199</td>\n",
       "      <td>2431</td>\n",
       "      <td>2381741</td>\n",
       "      <td>43621542</td>\n",
       "    </tr>\n",
       "    <tr>\n",
       "      <th>3</th>\n",
       "      <td>Andorra</td>\n",
       "      <td>7.20</td>\n",
       "      <td>EUR</td>\n",
       "      <td>1.27</td>\n",
       "      <td>2.7</td>\n",
       "      <td>NaN</td>\n",
       "      <td>Catalan</td>\n",
       "      <td>3.33</td>\n",
       "      <td>42.506285</td>\n",
       "      <td>1.521801</td>\n",
       "      <td>...</td>\n",
       "      <td>106.4</td>\n",
       "      <td>NaN</td>\n",
       "      <td>NaN</td>\n",
       "      <td>NaN</td>\n",
       "      <td>Andorra</td>\n",
       "      <td>Europe</td>\n",
       "      <td>6712</td>\n",
       "      <td>76</td>\n",
       "      <td>468</td>\n",
       "      <td>77230</td>\n",
       "    </tr>\n",
       "    <tr>\n",
       "      <th>4</th>\n",
       "      <td>Angola</td>\n",
       "      <td>40.73</td>\n",
       "      <td>AOA</td>\n",
       "      <td>5.52</td>\n",
       "      <td>51.6</td>\n",
       "      <td>60.8</td>\n",
       "      <td>Portuguese</td>\n",
       "      <td>0.21</td>\n",
       "      <td>-11.202692</td>\n",
       "      <td>17.873887</td>\n",
       "      <td>...</td>\n",
       "      <td>113.5</td>\n",
       "      <td>9.3</td>\n",
       "      <td>9.2</td>\n",
       "      <td>6.89</td>\n",
       "      <td>Angola</td>\n",
       "      <td>Africa</td>\n",
       "      <td>15139</td>\n",
       "      <td>348</td>\n",
       "      <td>1246620</td>\n",
       "      <td>32569069</td>\n",
       "    </tr>\n",
       "  </tbody>\n",
       "</table>\n",
       "<p>5 rows × 24 columns</p>\n",
       "</div>"
      ],
      "text/plain": [
       "       country  birth_rt currency_code  fertility_rt  infant_mortality_rt  \\\n",
       "0  Afghanistan     32.49           AFN          4.47                 47.9   \n",
       "1      Albania     11.78           ALL          1.62                  7.8   \n",
       "2      Algeria     24.28           DZD          3.02                 20.1   \n",
       "3      Andorra      7.20           EUR          1.27                  2.7   \n",
       "4       Angola     40.73           AOA          5.52                 51.6   \n",
       "\n",
       "   life_expectancy official_language  physicians_per_thousand        lat  \\\n",
       "0             64.5            Pashto                     0.28  33.939110   \n",
       "1             78.5          Albanian                     1.20  41.153332   \n",
       "2             76.7            Arabic                     1.72  28.033886   \n",
       "3              NaN           Catalan                     3.33  42.506285   \n",
       "4             60.8        Portuguese                     0.21 -11.202692   \n",
       "\n",
       "        long  ...  primary_education_enrollment_pct  \\\n",
       "0  67.709953  ...                             104.0   \n",
       "1  20.168331  ...                             107.0   \n",
       "2   1.659626  ...                             109.9   \n",
       "3   1.521801  ...                             106.4   \n",
       "4  17.873887  ...                             113.5   \n",
       "\n",
       "   secondary_education_enrollment_pct  tax_revenue_pct  unemployment_rt  \\\n",
       "0                                 9.7              9.3            11.12   \n",
       "1                                55.0             18.6            12.33   \n",
       "2                                51.4             37.2            11.70   \n",
       "3                                 NaN              NaN              NaN   \n",
       "4                                 9.3              9.2             6.89   \n",
       "\n",
       "   country_edited  continent  covid_cases  covid_deaths total_area_km2  \\\n",
       "0     Afghanistan       Asia        46498          1774         652000   \n",
       "1         Albania     Europe        37625           798          28748   \n",
       "2         Algeria     Africa        83199          2431        2381741   \n",
       "3         Andorra     Europe         6712            76            468   \n",
       "4          Angola     Africa        15139           348        1246620   \n",
       "\n",
       "  average_population  \n",
       "0           38673974  \n",
       "1            2865340  \n",
       "2           43621542  \n",
       "3              77230  \n",
       "4           32569069  \n",
       "\n",
       "[5 rows x 24 columns]"
      ]
     },
     "execution_count": 5,
     "metadata": {},
     "output_type": "execute_result"
    }
   ],
   "source": [
    "# load data\n",
    "country_df=pd.read_csv('05_country_merged_clean.csv',sep=',',encoding='utf-8')\n",
    "\n",
    "# display\n",
    "country_df.head()"
   ]
  },
  {
   "cell_type": "markdown",
   "id": "77db3c40-996f-48b5-9b30-d774540f393b",
   "metadata": {},
   "source": [
    "---\n",
    "### Null Display\n",
    "* determine how many nulls are in each column, should they be imputed or dropped?\n",
    "    * we will look up data for nulls on WHO website and create a map to impute (world health organization) and other various reputable sources\n",
    "* nulls columns:\n",
    "  - [x] lat\n",
    "  - [x] long\n",
    "  - [x] infant mortality_rt\n",
    "  - [x] birth_rt\n",
    "  - [x] ~ag_land_pct~\n",
    "      * we can drop this because we have data to compute a new column ourselves\n",
    "  - [x] physicians per thousand\n",
    "  - [x] fertility rt\n",
    "  - [x] primary education enrollment_pct\n",
    "  - [x] life expectancy\n",
    "  - [x] secondary_education_enrollment_pct\n",
    "  - [x] currency_code\n",
    "  - [x] consuer_price_index\n",
    "  - [x] unemployment_rt\n",
    "  - [x] tax_revenue_pct\n",
    "  - [ ] official language\n",
    "        "
   ]
  },
  {
   "cell_type": "code",
   "execution_count": 7,
   "id": "7e12c991-3987-42e7-8dc4-c039331af301",
   "metadata": {},
   "outputs": [
    {
     "name": "stdout",
     "output_type": "stream",
     "text": [
      "Country Data Nulls\n"
     ]
    },
    {
     "data": {
      "text/html": [
       "<div>\n",
       "<style scoped>\n",
       "    .dataframe tbody tr th:only-of-type {\n",
       "        vertical-align: middle;\n",
       "    }\n",
       "\n",
       "    .dataframe tbody tr th {\n",
       "        vertical-align: top;\n",
       "    }\n",
       "\n",
       "    .dataframe thead th {\n",
       "        text-align: right;\n",
       "    }\n",
       "</style>\n",
       "<table border=\"1\" class=\"dataframe\">\n",
       "  <thead>\n",
       "    <tr style=\"text-align: right;\">\n",
       "      <th></th>\n",
       "      <th>Nulls</th>\n",
       "      <th>Nulls (%)</th>\n",
       "    </tr>\n",
       "  </thead>\n",
       "  <tbody>\n",
       "    <tr>\n",
       "      <th>tax_revenue_pct</th>\n",
       "      <td>22</td>\n",
       "      <td>11.96</td>\n",
       "    </tr>\n",
       "    <tr>\n",
       "      <th>unemployment_rt</th>\n",
       "      <td>15</td>\n",
       "      <td>8.15</td>\n",
       "    </tr>\n",
       "    <tr>\n",
       "      <th>consumer_price_index</th>\n",
       "      <td>13</td>\n",
       "      <td>7.07</td>\n",
       "    </tr>\n",
       "    <tr>\n",
       "      <th>currency_code</th>\n",
       "      <td>13</td>\n",
       "      <td>7.07</td>\n",
       "    </tr>\n",
       "    <tr>\n",
       "      <th>secondary_education_enrollment_pct</th>\n",
       "      <td>9</td>\n",
       "      <td>4.89</td>\n",
       "    </tr>\n",
       "    <tr>\n",
       "      <th>life_expectancy</th>\n",
       "      <td>5</td>\n",
       "      <td>2.72</td>\n",
       "    </tr>\n",
       "    <tr>\n",
       "      <th>official_language</th>\n",
       "      <td>5</td>\n",
       "      <td>2.72</td>\n",
       "    </tr>\n",
       "    <tr>\n",
       "      <th>primary_education_enrollment_pct</th>\n",
       "      <td>4</td>\n",
       "      <td>2.17</td>\n",
       "    </tr>\n",
       "    <tr>\n",
       "      <th>fertility_rt</th>\n",
       "      <td>4</td>\n",
       "      <td>2.17</td>\n",
       "    </tr>\n",
       "    <tr>\n",
       "      <th>physicians_per_thousand</th>\n",
       "      <td>4</td>\n",
       "      <td>2.17</td>\n",
       "    </tr>\n",
       "    <tr>\n",
       "      <th>ag_land_pct</th>\n",
       "      <td>4</td>\n",
       "      <td>2.17</td>\n",
       "    </tr>\n",
       "    <tr>\n",
       "      <th>infant_mortality_rt</th>\n",
       "      <td>3</td>\n",
       "      <td>1.63</td>\n",
       "    </tr>\n",
       "    <tr>\n",
       "      <th>birth_rt</th>\n",
       "      <td>3</td>\n",
       "      <td>1.63</td>\n",
       "    </tr>\n",
       "    <tr>\n",
       "      <th>long</th>\n",
       "      <td>1</td>\n",
       "      <td>0.54</td>\n",
       "    </tr>\n",
       "    <tr>\n",
       "      <th>lat</th>\n",
       "      <td>1</td>\n",
       "      <td>0.54</td>\n",
       "    </tr>\n",
       "    <tr>\n",
       "      <th>covid_deaths</th>\n",
       "      <td>0</td>\n",
       "      <td>0.00</td>\n",
       "    </tr>\n",
       "    <tr>\n",
       "      <th>total_area_km2</th>\n",
       "      <td>0</td>\n",
       "      <td>0.00</td>\n",
       "    </tr>\n",
       "    <tr>\n",
       "      <th>continent</th>\n",
       "      <td>0</td>\n",
       "      <td>0.00</td>\n",
       "    </tr>\n",
       "    <tr>\n",
       "      <th>covid_cases</th>\n",
       "      <td>0</td>\n",
       "      <td>0.00</td>\n",
       "    </tr>\n",
       "    <tr>\n",
       "      <th>country</th>\n",
       "      <td>0</td>\n",
       "      <td>0.00</td>\n",
       "    </tr>\n",
       "    <tr>\n",
       "      <th>country_edited</th>\n",
       "      <td>0</td>\n",
       "      <td>0.00</td>\n",
       "    </tr>\n",
       "    <tr>\n",
       "      <th>gross_domestic_product_usd(b)</th>\n",
       "      <td>0</td>\n",
       "      <td>0.00</td>\n",
       "    </tr>\n",
       "    <tr>\n",
       "      <th>land_area_km2</th>\n",
       "      <td>0</td>\n",
       "      <td>0.00</td>\n",
       "    </tr>\n",
       "    <tr>\n",
       "      <th>average_population</th>\n",
       "      <td>0</td>\n",
       "      <td>0.00</td>\n",
       "    </tr>\n",
       "  </tbody>\n",
       "</table>\n",
       "</div>"
      ],
      "text/plain": [
       "                                    Nulls  Nulls (%)\n",
       "tax_revenue_pct                        22      11.96\n",
       "unemployment_rt                        15       8.15\n",
       "consumer_price_index                   13       7.07\n",
       "currency_code                          13       7.07\n",
       "secondary_education_enrollment_pct      9       4.89\n",
       "life_expectancy                         5       2.72\n",
       "official_language                       5       2.72\n",
       "primary_education_enrollment_pct        4       2.17\n",
       "fertility_rt                            4       2.17\n",
       "physicians_per_thousand                 4       2.17\n",
       "ag_land_pct                             4       2.17\n",
       "infant_mortality_rt                     3       1.63\n",
       "birth_rt                                3       1.63\n",
       "long                                    1       0.54\n",
       "lat                                     1       0.54\n",
       "covid_deaths                            0       0.00\n",
       "total_area_km2                          0       0.00\n",
       "continent                               0       0.00\n",
       "covid_cases                             0       0.00\n",
       "country                                 0       0.00\n",
       "country_edited                          0       0.00\n",
       "gross_domestic_product_usd(b)           0       0.00\n",
       "land_area_km2                           0       0.00\n",
       "average_population                      0       0.00"
      ]
     },
     "metadata": {},
     "output_type": "display_data"
    }
   ],
   "source": [
    "# function for nulls, returns a dataframe with nulls\n",
    "def df_nulls(df):\n",
    "    null_counts=country_df.isna().sum()\n",
    "    null_percentages=round((df.isna().sum()/df.shape[0])*100,2)\n",
    "\n",
    "    # data frame for results\n",
    "    nulls_df=pd.DataFrame({\n",
    "        'Nulls':null_counts,\n",
    "        'Nulls (%)':null_percentages\n",
    "    })\n",
    "    \n",
    "    # display\n",
    "    print(\"Country Data Nulls\")\n",
    "    display(nulls_df.sort_values(by='Nulls',ascending=False))\n",
    "\n",
    "df_nulls(country_df)"
   ]
  },
  {
   "cell_type": "code",
   "execution_count": 8,
   "id": "dbe82e50-ffdd-406b-a699-1eab37f94beb",
   "metadata": {},
   "outputs": [],
   "source": [
    "# function for displaying all nulls in a column\n",
    "def find_nulls(df,column):\n",
    "    return df[df[column].isnull()][['country_edited',column]]\n",
    "\n",
    "def null_list(df,column):\n",
    "    return df[df[column].isnull()]['country_edited'].tolist()\n",
    "    \n",
    "# function to display column format\n",
    "def col_format(df,col):\n",
    "    format_list=df[col].unique()\n",
    "    return format_list[0:5]"
   ]
  },
  {
   "cell_type": "markdown",
   "id": "0d60e4e9-c8ad-45f4-a7c4-2893c255e550",
   "metadata": {},
   "source": [
    "---\n",
    "**latitude**"
   ]
  },
  {
   "cell_type": "code",
   "execution_count": 10,
   "id": "3ce9561b-1088-4cff-b785-de2014c4dda4",
   "metadata": {},
   "outputs": [
    {
     "data": {
      "text/html": [
       "<div>\n",
       "<style scoped>\n",
       "    .dataframe tbody tr th:only-of-type {\n",
       "        vertical-align: middle;\n",
       "    }\n",
       "\n",
       "    .dataframe tbody tr th {\n",
       "        vertical-align: top;\n",
       "    }\n",
       "\n",
       "    .dataframe thead th {\n",
       "        text-align: right;\n",
       "    }\n",
       "</style>\n",
       "<table border=\"1\" class=\"dataframe\">\n",
       "  <thead>\n",
       "    <tr style=\"text-align: right;\">\n",
       "      <th></th>\n",
       "      <th>country_edited</th>\n",
       "      <th>lat</th>\n",
       "    </tr>\n",
       "  </thead>\n",
       "  <tbody>\n",
       "    <tr>\n",
       "      <th>141</th>\n",
       "      <td>Sao Tome and Principe</td>\n",
       "      <td>NaN</td>\n",
       "    </tr>\n",
       "  </tbody>\n",
       "</table>\n",
       "</div>"
      ],
      "text/plain": [
       "            country_edited  lat\n",
       "141  Sao Tome and Principe  NaN"
      ]
     },
     "execution_count": 10,
     "metadata": {},
     "output_type": "execute_result"
    }
   ],
   "source": [
    "# find countrys with null\n",
    "find_nulls(country_df,'lat')"
   ]
  },
  {
   "cell_type": "code",
   "execution_count": 11,
   "id": "3ddea425-27da-4c09-875a-06267643bae5",
   "metadata": {},
   "outputs": [
    {
     "data": {
      "text/plain": [
       "array([ 33.93911 ,  41.153332,  28.033886,  42.506285, -11.202692])"
      ]
     },
     "execution_count": 11,
     "metadata": {},
     "output_type": "execute_result"
    }
   ],
   "source": [
    "# find format\n",
    "col_format(country_df,'lat')"
   ]
  },
  {
   "cell_type": "markdown",
   "id": "1075156a-2831-42ef-96fd-f7cc3c7ee373",
   "metadata": {},
   "source": [
    "**latitude found on [GPS Coordinates](https://gps-coordinates.org/sao-tome-and-principe-latitude.php)**\n",
    "- 0.203237"
   ]
  },
  {
   "cell_type": "code",
   "execution_count": 13,
   "id": "868bd07b-7b95-4e2d-a00e-f29982f42c44",
   "metadata": {},
   "outputs": [
    {
     "data": {
      "text/html": [
       "<div>\n",
       "<style scoped>\n",
       "    .dataframe tbody tr th:only-of-type {\n",
       "        vertical-align: middle;\n",
       "    }\n",
       "\n",
       "    .dataframe tbody tr th {\n",
       "        vertical-align: top;\n",
       "    }\n",
       "\n",
       "    .dataframe thead th {\n",
       "        text-align: right;\n",
       "    }\n",
       "</style>\n",
       "<table border=\"1\" class=\"dataframe\">\n",
       "  <thead>\n",
       "    <tr style=\"text-align: right;\">\n",
       "      <th></th>\n",
       "      <th>country_edited</th>\n",
       "      <th>lat</th>\n",
       "    </tr>\n",
       "  </thead>\n",
       "  <tbody>\n",
       "  </tbody>\n",
       "</table>\n",
       "</div>"
      ],
      "text/plain": [
       "Empty DataFrame\n",
       "Columns: [country_edited, lat]\n",
       "Index: []"
      ]
     },
     "execution_count": 13,
     "metadata": {},
     "output_type": "execute_result"
    }
   ],
   "source": [
    "# impute\n",
    "country_df.loc[country_df['country_edited'] == 'Sao Tome and Principe', 'lat'] = 0.203237\n",
    "\n",
    "# review\n",
    "find_nulls(country_df,'lat')"
   ]
  },
  {
   "cell_type": "markdown",
   "id": "c74ab729-c9a9-4678-9873-4f5896eae18c",
   "metadata": {},
   "source": [
    "---\n",
    "**longitude**"
   ]
  },
  {
   "cell_type": "code",
   "execution_count": 15,
   "id": "c2eca89a-d0dd-4008-8c9a-756cda972390",
   "metadata": {},
   "outputs": [
    {
     "data": {
      "text/html": [
       "<div>\n",
       "<style scoped>\n",
       "    .dataframe tbody tr th:only-of-type {\n",
       "        vertical-align: middle;\n",
       "    }\n",
       "\n",
       "    .dataframe tbody tr th {\n",
       "        vertical-align: top;\n",
       "    }\n",
       "\n",
       "    .dataframe thead th {\n",
       "        text-align: right;\n",
       "    }\n",
       "</style>\n",
       "<table border=\"1\" class=\"dataframe\">\n",
       "  <thead>\n",
       "    <tr style=\"text-align: right;\">\n",
       "      <th></th>\n",
       "      <th>country_edited</th>\n",
       "      <th>long</th>\n",
       "    </tr>\n",
       "  </thead>\n",
       "  <tbody>\n",
       "    <tr>\n",
       "      <th>141</th>\n",
       "      <td>Sao Tome and Principe</td>\n",
       "      <td>NaN</td>\n",
       "    </tr>\n",
       "  </tbody>\n",
       "</table>\n",
       "</div>"
      ],
      "text/plain": [
       "            country_edited  long\n",
       "141  Sao Tome and Principe   NaN"
      ]
     },
     "execution_count": 15,
     "metadata": {},
     "output_type": "execute_result"
    }
   ],
   "source": [
    "# find countrys with null\n",
    "find_nulls(country_df,'long')"
   ]
  },
  {
   "cell_type": "markdown",
   "id": "8942e71a-924f-4c84-bc9a-43889b0caf67",
   "metadata": {},
   "source": [
    "**longitude found on [GPS Coordinates](https://gps-coordinates.org/sao-tome-and-principe-latitude.php)**\n",
    "- 6.608357"
   ]
  },
  {
   "cell_type": "code",
   "execution_count": 17,
   "id": "80bbf52b-77a4-4b6e-8706-6ee583da2df5",
   "metadata": {},
   "outputs": [
    {
     "data": {
      "text/html": [
       "<div>\n",
       "<style scoped>\n",
       "    .dataframe tbody tr th:only-of-type {\n",
       "        vertical-align: middle;\n",
       "    }\n",
       "\n",
       "    .dataframe tbody tr th {\n",
       "        vertical-align: top;\n",
       "    }\n",
       "\n",
       "    .dataframe thead th {\n",
       "        text-align: right;\n",
       "    }\n",
       "</style>\n",
       "<table border=\"1\" class=\"dataframe\">\n",
       "  <thead>\n",
       "    <tr style=\"text-align: right;\">\n",
       "      <th></th>\n",
       "      <th>country_edited</th>\n",
       "      <th>long</th>\n",
       "    </tr>\n",
       "  </thead>\n",
       "  <tbody>\n",
       "  </tbody>\n",
       "</table>\n",
       "</div>"
      ],
      "text/plain": [
       "Empty DataFrame\n",
       "Columns: [country_edited, long]\n",
       "Index: []"
      ]
     },
     "execution_count": 17,
     "metadata": {},
     "output_type": "execute_result"
    }
   ],
   "source": [
    "# impute\n",
    "country_df.loc[country_df['country_edited'] == 'Sao Tome and Principe', 'long'] = 6.608357\n",
    "\n",
    "# review\n",
    "find_nulls(country_df,'long')"
   ]
  },
  {
   "cell_type": "markdown",
   "id": "6636a0f3-44cd-4209-8331-7d728cf3a326",
   "metadata": {},
   "source": [
    "---\n",
    "**infant mortality rate found on [CIA World Factbook](https://www.cia.gov/the-world-factbook/field/infant-mortality-rate/country-comparison/)**"
   ]
  },
  {
   "cell_type": "code",
   "execution_count": 19,
   "id": "13b87062-d02b-49cc-bc93-38bfb6548782",
   "metadata": {},
   "outputs": [
    {
     "data": {
      "text/html": [
       "<div>\n",
       "<style scoped>\n",
       "    .dataframe tbody tr th:only-of-type {\n",
       "        vertical-align: middle;\n",
       "    }\n",
       "\n",
       "    .dataframe tbody tr th {\n",
       "        vertical-align: top;\n",
       "    }\n",
       "\n",
       "    .dataframe thead th {\n",
       "        text-align: right;\n",
       "    }\n",
       "</style>\n",
       "<table border=\"1\" class=\"dataframe\">\n",
       "  <thead>\n",
       "    <tr style=\"text-align: right;\">\n",
       "      <th></th>\n",
       "      <th>country_edited</th>\n",
       "      <th>infant_mortality_rt</th>\n",
       "    </tr>\n",
       "  </thead>\n",
       "  <tbody>\n",
       "    <tr>\n",
       "      <th>53</th>\n",
       "      <td>Eswatini</td>\n",
       "      <td>NaN</td>\n",
       "    </tr>\n",
       "    <tr>\n",
       "      <th>94</th>\n",
       "      <td>Liechtenstein</td>\n",
       "      <td>NaN</td>\n",
       "    </tr>\n",
       "    <tr>\n",
       "      <th>116</th>\n",
       "      <td>Nauru</td>\n",
       "      <td>NaN</td>\n",
       "    </tr>\n",
       "  </tbody>\n",
       "</table>\n",
       "</div>"
      ],
      "text/plain": [
       "    country_edited  infant_mortality_rt\n",
       "53        Eswatini                  NaN\n",
       "94   Liechtenstein                  NaN\n",
       "116          Nauru                  NaN"
      ]
     },
     "execution_count": 19,
     "metadata": {},
     "output_type": "execute_result"
    }
   ],
   "source": [
    "# find nulls\n",
    "find_nulls(country_df,'infant_mortality_rt')"
   ]
  },
  {
   "cell_type": "code",
   "execution_count": 20,
   "id": "a6ff8c63-687d-4c1a-b43c-5ac8b95dec1f",
   "metadata": {},
   "outputs": [
    {
     "data": {
      "text/plain": [
       "array([47.9,  7.8, 20.1,  2.7, 51.6])"
      ]
     },
     "execution_count": 20,
     "metadata": {},
     "output_type": "execute_result"
    }
   ],
   "source": [
    "# get current format\n",
    "col_format(country_df,'infant_mortality_rt')"
   ]
  },
  {
   "cell_type": "code",
   "execution_count": 21,
   "id": "a5f35290-bf54-46c5-a1dd-eeaea56179bf",
   "metadata": {},
   "outputs": [
    {
     "data": {
      "text/html": [
       "<div>\n",
       "<style scoped>\n",
       "    .dataframe tbody tr th:only-of-type {\n",
       "        vertical-align: middle;\n",
       "    }\n",
       "\n",
       "    .dataframe tbody tr th {\n",
       "        vertical-align: top;\n",
       "    }\n",
       "\n",
       "    .dataframe thead th {\n",
       "        text-align: right;\n",
       "    }\n",
       "</style>\n",
       "<table border=\"1\" class=\"dataframe\">\n",
       "  <thead>\n",
       "    <tr style=\"text-align: right;\">\n",
       "      <th></th>\n",
       "      <th>country_edited</th>\n",
       "      <th>infant_mortality_rt</th>\n",
       "    </tr>\n",
       "  </thead>\n",
       "  <tbody>\n",
       "  </tbody>\n",
       "</table>\n",
       "</div>"
      ],
      "text/plain": [
       "Empty DataFrame\n",
       "Columns: [country_edited, infant_mortality_rt]\n",
       "Index: []"
      ]
     },
     "execution_count": 21,
     "metadata": {},
     "output_type": "execute_result"
    }
   ],
   "source": [
    "# define infant morality rates\n",
    "impute_mortality_rts={\n",
    "    'Eswatini':36.7,\n",
    "    'Liechtenstein':3.9,\n",
    "    'Nauru':7.6\n",
    "}\n",
    "\n",
    "# impute\n",
    "for country,rt in impute_mortality_rts.items():\n",
    "    country_df.loc[country_df['country_edited']==country,'infant_mortality_rt']=rt\n",
    "\n",
    "# review\n",
    "find_nulls(country_df,'infant_mortality_rt')"
   ]
  },
  {
   "cell_type": "markdown",
   "id": "172c697c-4a60-4dff-92ef-0e4632cca894",
   "metadata": {},
   "source": [
    "---\n",
    "**birth rate found on [CIA World Factbook](https://www.cia.gov/the-world-factbook/field/birth-rate/country-comparison/)**"
   ]
  },
  {
   "cell_type": "code",
   "execution_count": 23,
   "id": "a55b50fe-523e-4659-b258-e7d166cff78a",
   "metadata": {},
   "outputs": [
    {
     "data": {
      "text/html": [
       "<div>\n",
       "<style scoped>\n",
       "    .dataframe tbody tr th:only-of-type {\n",
       "        vertical-align: middle;\n",
       "    }\n",
       "\n",
       "    .dataframe tbody tr th {\n",
       "        vertical-align: top;\n",
       "    }\n",
       "\n",
       "    .dataframe thead th {\n",
       "        text-align: right;\n",
       "    }\n",
       "</style>\n",
       "<table border=\"1\" class=\"dataframe\">\n",
       "  <thead>\n",
       "    <tr style=\"text-align: right;\">\n",
       "      <th></th>\n",
       "      <th>country_edited</th>\n",
       "      <th>birth_rt</th>\n",
       "    </tr>\n",
       "  </thead>\n",
       "  <tbody>\n",
       "    <tr>\n",
       "      <th>53</th>\n",
       "      <td>Eswatini</td>\n",
       "      <td>NaN</td>\n",
       "    </tr>\n",
       "    <tr>\n",
       "      <th>116</th>\n",
       "      <td>Nauru</td>\n",
       "      <td>NaN</td>\n",
       "    </tr>\n",
       "    <tr>\n",
       "      <th>170</th>\n",
       "      <td>Tuvalu</td>\n",
       "      <td>NaN</td>\n",
       "    </tr>\n",
       "  </tbody>\n",
       "</table>\n",
       "</div>"
      ],
      "text/plain": [
       "    country_edited  birth_rt\n",
       "53        Eswatini       NaN\n",
       "116          Nauru       NaN\n",
       "170         Tuvalu       NaN"
      ]
     },
     "execution_count": 23,
     "metadata": {},
     "output_type": "execute_result"
    }
   ],
   "source": [
    "# find nulls\n",
    "find_nulls(country_df,'birth_rt')"
   ]
  },
  {
   "cell_type": "code",
   "execution_count": 24,
   "id": "143819c6-c5ab-4d60-b10e-d540f718dbc2",
   "metadata": {},
   "outputs": [
    {
     "data": {
      "text/plain": [
       "array([32.49, 11.78, 24.28,  7.2 , 40.73])"
      ]
     },
     "execution_count": 24,
     "metadata": {},
     "output_type": "execute_result"
    }
   ],
   "source": [
    "# get format\n",
    "col_format(country_df,'birth_rt')"
   ]
  },
  {
   "cell_type": "code",
   "execution_count": 25,
   "id": "a162bb02-d4bf-4754-a321-39d346a9965a",
   "metadata": {},
   "outputs": [
    {
     "data": {
      "text/html": [
       "<div>\n",
       "<style scoped>\n",
       "    .dataframe tbody tr th:only-of-type {\n",
       "        vertical-align: middle;\n",
       "    }\n",
       "\n",
       "    .dataframe tbody tr th {\n",
       "        vertical-align: top;\n",
       "    }\n",
       "\n",
       "    .dataframe thead th {\n",
       "        text-align: right;\n",
       "    }\n",
       "</style>\n",
       "<table border=\"1\" class=\"dataframe\">\n",
       "  <thead>\n",
       "    <tr style=\"text-align: right;\">\n",
       "      <th></th>\n",
       "      <th>country_edited</th>\n",
       "      <th>birth_rt</th>\n",
       "    </tr>\n",
       "  </thead>\n",
       "  <tbody>\n",
       "  </tbody>\n",
       "</table>\n",
       "</div>"
      ],
      "text/plain": [
       "Empty DataFrame\n",
       "Columns: [country_edited, birth_rt]\n",
       "Index: []"
      ]
     },
     "execution_count": 25,
     "metadata": {},
     "output_type": "execute_result"
    }
   ],
   "source": [
    "# define rates\n",
    "impute_birth_rts={\n",
    "    'Eswatini':22.3,\n",
    "    'Nauru':20.2,\n",
    "    'Tuvalu':22\n",
    "}\n",
    "\n",
    "# impute\n",
    "for country,rt in impute_birth_rts.items():\n",
    "    country_df.loc[country_df['country_edited']==country,'birth_rt']=rt\n",
    "\n",
    "# review\n",
    "find_nulls(country_df,'birth_rt')"
   ]
  },
  {
   "cell_type": "markdown",
   "id": "41e14fae-5f18-4984-8d4c-3604161fcb61",
   "metadata": {},
   "source": [
    "---\n",
    "**fertility rate found on [CIA World Factbook](https://www.cia.gov/the-world-factbook/field/total-fertility-rate/country-comparison/)**"
   ]
  },
  {
   "cell_type": "code",
   "execution_count": 27,
   "id": "eb0a0a87-65b7-4069-9ddf-50e55955dbee",
   "metadata": {},
   "outputs": [
    {
     "data": {
      "text/html": [
       "<div>\n",
       "<style scoped>\n",
       "    .dataframe tbody tr th:only-of-type {\n",
       "        vertical-align: middle;\n",
       "    }\n",
       "\n",
       "    .dataframe tbody tr th {\n",
       "        vertical-align: top;\n",
       "    }\n",
       "\n",
       "    .dataframe thead th {\n",
       "        text-align: right;\n",
       "    }\n",
       "</style>\n",
       "<table border=\"1\" class=\"dataframe\">\n",
       "  <thead>\n",
       "    <tr style=\"text-align: right;\">\n",
       "      <th></th>\n",
       "      <th>country_edited</th>\n",
       "      <th>fertility_rt</th>\n",
       "    </tr>\n",
       "  </thead>\n",
       "  <tbody>\n",
       "    <tr>\n",
       "      <th>53</th>\n",
       "      <td>Eswatini</td>\n",
       "      <td>NaN</td>\n",
       "    </tr>\n",
       "    <tr>\n",
       "      <th>109</th>\n",
       "      <td>Monaco</td>\n",
       "      <td>NaN</td>\n",
       "    </tr>\n",
       "    <tr>\n",
       "      <th>116</th>\n",
       "      <td>Nauru</td>\n",
       "      <td>NaN</td>\n",
       "    </tr>\n",
       "    <tr>\n",
       "      <th>170</th>\n",
       "      <td>Tuvalu</td>\n",
       "      <td>NaN</td>\n",
       "    </tr>\n",
       "  </tbody>\n",
       "</table>\n",
       "</div>"
      ],
      "text/plain": [
       "    country_edited  fertility_rt\n",
       "53        Eswatini           NaN\n",
       "109         Monaco           NaN\n",
       "116          Nauru           NaN\n",
       "170         Tuvalu           NaN"
      ]
     },
     "execution_count": 27,
     "metadata": {},
     "output_type": "execute_result"
    }
   ],
   "source": [
    "# find nulls\n",
    "find_nulls(country_df,'fertility_rt')"
   ]
  },
  {
   "cell_type": "code",
   "execution_count": 28,
   "id": "3e2a494e-20bd-4aed-add4-1c6f5e697c11",
   "metadata": {},
   "outputs": [
    {
     "data": {
      "text/plain": [
       "array([4.47, 1.62, 3.02, 1.27, 5.52])"
      ]
     },
     "execution_count": 28,
     "metadata": {},
     "output_type": "execute_result"
    }
   ],
   "source": [
    "# get format\n",
    "col_format(country_df,'fertility_rt')"
   ]
  },
  {
   "cell_type": "code",
   "execution_count": 29,
   "id": "ef4799b3-523e-43b7-b6b1-b46cbb6e9016",
   "metadata": {},
   "outputs": [
    {
     "data": {
      "text/html": [
       "<div>\n",
       "<style scoped>\n",
       "    .dataframe tbody tr th:only-of-type {\n",
       "        vertical-align: middle;\n",
       "    }\n",
       "\n",
       "    .dataframe tbody tr th {\n",
       "        vertical-align: top;\n",
       "    }\n",
       "\n",
       "    .dataframe thead th {\n",
       "        text-align: right;\n",
       "    }\n",
       "</style>\n",
       "<table border=\"1\" class=\"dataframe\">\n",
       "  <thead>\n",
       "    <tr style=\"text-align: right;\">\n",
       "      <th></th>\n",
       "      <th>country_edited</th>\n",
       "      <th>fertility_rt</th>\n",
       "    </tr>\n",
       "  </thead>\n",
       "  <tbody>\n",
       "  </tbody>\n",
       "</table>\n",
       "</div>"
      ],
      "text/plain": [
       "Empty DataFrame\n",
       "Columns: [country_edited, fertility_rt]\n",
       "Index: []"
      ]
     },
     "execution_count": 29,
     "metadata": {},
     "output_type": "execute_result"
    }
   ],
   "source": [
    "# define rates\n",
    "impute_fertility_rts={\n",
    "    'Eswatini':2.37,\n",
    "    'Monaco':1.54,\n",
    "    'Nauru':2.55,\n",
    "    'Tuvalu':2.78\n",
    "}\n",
    "\n",
    "# impute\n",
    "for country,rt in impute_fertility_rts.items():\n",
    "    country_df.loc[country_df['country_edited']==country,'fertility_rt']=rt\n",
    "\n",
    "# review\n",
    "find_nulls(country_df,'fertility_rt')"
   ]
  },
  {
   "cell_type": "markdown",
   "id": "cad249c2-880c-41dc-ba9d-32890a9253e4",
   "metadata": {},
   "source": [
    "---\n",
    "**unemployment rate found on [CIA World Factbook](https://www.cia.gov/the-world-factbook/field/unemployment-rate/country-comparison/)**"
   ]
  },
  {
   "cell_type": "code",
   "execution_count": 31,
   "id": "d10c087a-a534-42d6-9ace-9ca7b5a3e765",
   "metadata": {},
   "outputs": [
    {
     "data": {
      "text/html": [
       "<div>\n",
       "<style scoped>\n",
       "    .dataframe tbody tr th:only-of-type {\n",
       "        vertical-align: middle;\n",
       "    }\n",
       "\n",
       "    .dataframe tbody tr th {\n",
       "        vertical-align: top;\n",
       "    }\n",
       "\n",
       "    .dataframe thead th {\n",
       "        text-align: right;\n",
       "    }\n",
       "</style>\n",
       "<table border=\"1\" class=\"dataframe\">\n",
       "  <thead>\n",
       "    <tr style=\"text-align: right;\">\n",
       "      <th></th>\n",
       "      <th>country_edited</th>\n",
       "      <th>unemployment_rt</th>\n",
       "    </tr>\n",
       "  </thead>\n",
       "  <tbody>\n",
       "    <tr>\n",
       "      <th>3</th>\n",
       "      <td>Andorra</td>\n",
       "      <td>NaN</td>\n",
       "    </tr>\n",
       "    <tr>\n",
       "      <th>5</th>\n",
       "      <td>Antigua and Barbuda</td>\n",
       "      <td>NaN</td>\n",
       "    </tr>\n",
       "    <tr>\n",
       "      <th>45</th>\n",
       "      <td>Dominica</td>\n",
       "      <td>NaN</td>\n",
       "    </tr>\n",
       "    <tr>\n",
       "      <th>53</th>\n",
       "      <td>Eswatini</td>\n",
       "      <td>NaN</td>\n",
       "    </tr>\n",
       "    <tr>\n",
       "      <th>64</th>\n",
       "      <td>Grenada</td>\n",
       "      <td>NaN</td>\n",
       "    </tr>\n",
       "    <tr>\n",
       "      <th>85</th>\n",
       "      <td>Kiribati</td>\n",
       "      <td>NaN</td>\n",
       "    </tr>\n",
       "    <tr>\n",
       "      <th>94</th>\n",
       "      <td>Liechtenstein</td>\n",
       "      <td>NaN</td>\n",
       "    </tr>\n",
       "    <tr>\n",
       "      <th>103</th>\n",
       "      <td>Marshall Islands</td>\n",
       "      <td>NaN</td>\n",
       "    </tr>\n",
       "    <tr>\n",
       "      <th>107</th>\n",
       "      <td>Micronesia</td>\n",
       "      <td>NaN</td>\n",
       "    </tr>\n",
       "    <tr>\n",
       "      <th>109</th>\n",
       "      <td>Monaco</td>\n",
       "      <td>NaN</td>\n",
       "    </tr>\n",
       "    <tr>\n",
       "      <th>116</th>\n",
       "      <td>Nauru</td>\n",
       "      <td>NaN</td>\n",
       "    </tr>\n",
       "    <tr>\n",
       "      <th>125</th>\n",
       "      <td>Palau</td>\n",
       "      <td>NaN</td>\n",
       "    </tr>\n",
       "    <tr>\n",
       "      <th>140</th>\n",
       "      <td>San Marino</td>\n",
       "      <td>NaN</td>\n",
       "    </tr>\n",
       "    <tr>\n",
       "      <th>145</th>\n",
       "      <td>Seychelles</td>\n",
       "      <td>NaN</td>\n",
       "    </tr>\n",
       "    <tr>\n",
       "      <th>170</th>\n",
       "      <td>Tuvalu</td>\n",
       "      <td>NaN</td>\n",
       "    </tr>\n",
       "  </tbody>\n",
       "</table>\n",
       "</div>"
      ],
      "text/plain": [
       "          country_edited  unemployment_rt\n",
       "3                Andorra              NaN\n",
       "5    Antigua and Barbuda              NaN\n",
       "45              Dominica              NaN\n",
       "53              Eswatini              NaN\n",
       "64               Grenada              NaN\n",
       "85              Kiribati              NaN\n",
       "94         Liechtenstein              NaN\n",
       "103     Marshall Islands              NaN\n",
       "107           Micronesia              NaN\n",
       "109               Monaco              NaN\n",
       "116                Nauru              NaN\n",
       "125                Palau              NaN\n",
       "140           San Marino              NaN\n",
       "145           Seychelles              NaN\n",
       "170               Tuvalu              NaN"
      ]
     },
     "execution_count": 31,
     "metadata": {},
     "output_type": "execute_result"
    }
   ],
   "source": [
    "# find nulls\n",
    "find_nulls(country_df,'unemployment_rt')"
   ]
  },
  {
   "cell_type": "code",
   "execution_count": 32,
   "id": "bc63e6c7-8b61-461b-ae4b-028cb3f9d518",
   "metadata": {},
   "outputs": [
    {
     "data": {
      "text/plain": [
       "array([11.12, 12.33, 11.7 ,   nan,  6.89])"
      ]
     },
     "execution_count": 32,
     "metadata": {},
     "output_type": "execute_result"
    }
   ],
   "source": [
    "# get format\n",
    "col_format(country_df,'unemployment_rt')"
   ]
  },
  {
   "cell_type": "code",
   "execution_count": 33,
   "id": "5106d54b-3305-4c97-8948-cbaeb165fc81",
   "metadata": {},
   "outputs": [
    {
     "data": {
      "text/html": [
       "<div>\n",
       "<style scoped>\n",
       "    .dataframe tbody tr th:only-of-type {\n",
       "        vertical-align: middle;\n",
       "    }\n",
       "\n",
       "    .dataframe tbody tr th {\n",
       "        vertical-align: top;\n",
       "    }\n",
       "\n",
       "    .dataframe thead th {\n",
       "        text-align: right;\n",
       "    }\n",
       "</style>\n",
       "<table border=\"1\" class=\"dataframe\">\n",
       "  <thead>\n",
       "    <tr style=\"text-align: right;\">\n",
       "      <th></th>\n",
       "      <th>country_edited</th>\n",
       "      <th>unemployment_rt</th>\n",
       "    </tr>\n",
       "  </thead>\n",
       "  <tbody>\n",
       "  </tbody>\n",
       "</table>\n",
       "</div>"
      ],
      "text/plain": [
       "Empty DataFrame\n",
       "Columns: [country_edited, unemployment_rt]\n",
       "Index: []"
      ]
     },
     "execution_count": 33,
     "metadata": {},
     "output_type": "execute_result"
    }
   ],
   "source": [
    "# dictionary\n",
    "impute_ue_rts={\n",
    "    'Andorra': 3.7,\n",
    "    'Antigua and Barbuda': 11,\n",
    "    'Dominica': 11,\n",
    "    'Eswatini': 37.64,\n",
    "    'Grenada': 24,\n",
    "    'Kiribati': 8.6,\n",
    "    'Liechtenstein': 2.4,\n",
    "    'Marshall Islands': 9.8,\n",
    "    'Micronesia': 8.9, \n",
    "    'Monaco': 6.3,\n",
    "    'Nauru': 5.1,\n",
    "    'Palau': 1.7, \n",
    "    'San Marino': 8.1, \n",
    "    'Seychelles': 3, \n",
    "    'Tuvalu': 11\n",
    "}\n",
    "\n",
    "# impute\n",
    "for country,rt in impute_ue_rts.items():\n",
    "    country_df.loc[country_df['country_edited']==country,'unemployment_rt']=rt\n",
    "\n",
    "# review\n",
    "find_nulls(country_df,'unemployment_rt')"
   ]
  },
  {
   "cell_type": "markdown",
   "id": "7dbb558e-c341-477d-b93c-ec3fb6ca27af",
   "metadata": {},
   "source": [
    "---\n",
    "**tax revenue percentage found on [CIA World Factbook](https://www.cia.gov/the-world-factbook/field/taxes-and-other-revenues/)**"
   ]
  },
  {
   "cell_type": "code",
   "execution_count": 35,
   "id": "0baba1aa-a49e-4ca2-b9be-2306e2396877",
   "metadata": {},
   "outputs": [
    {
     "data": {
      "text/html": [
       "<div>\n",
       "<style scoped>\n",
       "    .dataframe tbody tr th:only-of-type {\n",
       "        vertical-align: middle;\n",
       "    }\n",
       "\n",
       "    .dataframe tbody tr th {\n",
       "        vertical-align: top;\n",
       "    }\n",
       "\n",
       "    .dataframe thead th {\n",
       "        text-align: right;\n",
       "    }\n",
       "</style>\n",
       "<table border=\"1\" class=\"dataframe\">\n",
       "  <thead>\n",
       "    <tr style=\"text-align: right;\">\n",
       "      <th></th>\n",
       "      <th>country_edited</th>\n",
       "      <th>tax_revenue_pct</th>\n",
       "    </tr>\n",
       "  </thead>\n",
       "  <tbody>\n",
       "    <tr>\n",
       "      <th>3</th>\n",
       "      <td>Andorra</td>\n",
       "      <td>NaN</td>\n",
       "    </tr>\n",
       "    <tr>\n",
       "      <th>24</th>\n",
       "      <td>Brunei</td>\n",
       "      <td>NaN</td>\n",
       "    </tr>\n",
       "    <tr>\n",
       "      <th>33</th>\n",
       "      <td>Chad</td>\n",
       "      <td>NaN</td>\n",
       "    </tr>\n",
       "    <tr>\n",
       "      <th>37</th>\n",
       "      <td>Comoros</td>\n",
       "      <td>NaN</td>\n",
       "    </tr>\n",
       "    <tr>\n",
       "      <th>40</th>\n",
       "      <td>Cuba</td>\n",
       "      <td>NaN</td>\n",
       "    </tr>\n",
       "    <tr>\n",
       "      <th>44</th>\n",
       "      <td>Djibouti</td>\n",
       "      <td>NaN</td>\n",
       "    </tr>\n",
       "    <tr>\n",
       "      <th>47</th>\n",
       "      <td>Ecuador</td>\n",
       "      <td>NaN</td>\n",
       "    </tr>\n",
       "    <tr>\n",
       "      <th>51</th>\n",
       "      <td>Eritrea</td>\n",
       "      <td>NaN</td>\n",
       "    </tr>\n",
       "    <tr>\n",
       "      <th>68</th>\n",
       "      <td>Guyana</td>\n",
       "      <td>NaN</td>\n",
       "    </tr>\n",
       "    <tr>\n",
       "      <th>69</th>\n",
       "      <td>Haiti</td>\n",
       "      <td>NaN</td>\n",
       "    </tr>\n",
       "    <tr>\n",
       "      <th>93</th>\n",
       "      <td>Libya</td>\n",
       "      <td>NaN</td>\n",
       "    </tr>\n",
       "    <tr>\n",
       "      <th>94</th>\n",
       "      <td>Liechtenstein</td>\n",
       "      <td>NaN</td>\n",
       "    </tr>\n",
       "    <tr>\n",
       "      <th>104</th>\n",
       "      <td>Mauritania</td>\n",
       "      <td>NaN</td>\n",
       "    </tr>\n",
       "    <tr>\n",
       "      <th>109</th>\n",
       "      <td>Monaco</td>\n",
       "      <td>NaN</td>\n",
       "    </tr>\n",
       "    <tr>\n",
       "      <th>111</th>\n",
       "      <td>Montenegro</td>\n",
       "      <td>NaN</td>\n",
       "    </tr>\n",
       "    <tr>\n",
       "      <th>116</th>\n",
       "      <td>Nauru</td>\n",
       "      <td>NaN</td>\n",
       "    </tr>\n",
       "    <tr>\n",
       "      <th>126</th>\n",
       "      <td>Panama</td>\n",
       "      <td>NaN</td>\n",
       "    </tr>\n",
       "    <tr>\n",
       "      <th>153</th>\n",
       "      <td>South Sudan</td>\n",
       "      <td>NaN</td>\n",
       "    </tr>\n",
       "    <tr>\n",
       "      <th>169</th>\n",
       "      <td>Turkmenistan</td>\n",
       "      <td>NaN</td>\n",
       "    </tr>\n",
       "    <tr>\n",
       "      <th>170</th>\n",
       "      <td>Tuvalu</td>\n",
       "      <td>NaN</td>\n",
       "    </tr>\n",
       "    <tr>\n",
       "      <th>179</th>\n",
       "      <td>Venezuela</td>\n",
       "      <td>NaN</td>\n",
       "    </tr>\n",
       "    <tr>\n",
       "      <th>181</th>\n",
       "      <td>Yemen</td>\n",
       "      <td>NaN</td>\n",
       "    </tr>\n",
       "  </tbody>\n",
       "</table>\n",
       "</div>"
      ],
      "text/plain": [
       "    country_edited  tax_revenue_pct\n",
       "3          Andorra              NaN\n",
       "24          Brunei              NaN\n",
       "33            Chad              NaN\n",
       "37         Comoros              NaN\n",
       "40            Cuba              NaN\n",
       "44        Djibouti              NaN\n",
       "47         Ecuador              NaN\n",
       "51         Eritrea              NaN\n",
       "68          Guyana              NaN\n",
       "69           Haiti              NaN\n",
       "93           Libya              NaN\n",
       "94   Liechtenstein              NaN\n",
       "104     Mauritania              NaN\n",
       "109         Monaco              NaN\n",
       "111     Montenegro              NaN\n",
       "116          Nauru              NaN\n",
       "126         Panama              NaN\n",
       "153    South Sudan              NaN\n",
       "169   Turkmenistan              NaN\n",
       "170         Tuvalu              NaN\n",
       "179      Venezuela              NaN\n",
       "181          Yemen              NaN"
      ]
     },
     "execution_count": 35,
     "metadata": {},
     "output_type": "execute_result"
    }
   ],
   "source": [
    "# find nulls\n",
    "find_nulls(country_df,'tax_revenue_pct')"
   ]
  },
  {
   "cell_type": "code",
   "execution_count": 36,
   "id": "b560a328-b9b1-4716-bf85-e60577b0005c",
   "metadata": {},
   "outputs": [
    {
     "data": {
      "text/plain": [
       "['Andorra',\n",
       " 'Brunei',\n",
       " 'Chad',\n",
       " 'Comoros',\n",
       " 'Cuba',\n",
       " 'Djibouti',\n",
       " 'Ecuador',\n",
       " 'Eritrea',\n",
       " 'Guyana',\n",
       " 'Haiti',\n",
       " 'Libya',\n",
       " 'Liechtenstein',\n",
       " 'Mauritania',\n",
       " 'Monaco',\n",
       " 'Montenegro',\n",
       " 'Nauru',\n",
       " 'Panama',\n",
       " 'South Sudan',\n",
       " 'Turkmenistan',\n",
       " 'Tuvalu',\n",
       " 'Venezuela',\n",
       " 'Yemen']"
      ]
     },
     "execution_count": 36,
     "metadata": {},
     "output_type": "execute_result"
    }
   ],
   "source": [
    "# null list\n",
    "null_list(country_df,'tax_revenue_pct')"
   ]
  },
  {
   "cell_type": "code",
   "execution_count": 37,
   "id": "c2c5ebbf-bb4b-48be-b6c4-038bfffdd721",
   "metadata": {},
   "outputs": [
    {
     "data": {
      "text/plain": [
       "array([ 9.3, 18.6, 37.2,  nan,  9.2])"
      ]
     },
     "execution_count": 37,
     "metadata": {},
     "output_type": "execute_result"
    }
   ],
   "source": [
    "# get format\n",
    "col_format(country_df,'tax_revenue_pct')"
   ]
  },
  {
   "cell_type": "code",
   "execution_count": 38,
   "id": "634c84ed-60f4-44d4-90db-a2bf8ee2baf9",
   "metadata": {},
   "outputs": [
    {
     "data": {
      "text/html": [
       "<div>\n",
       "<style scoped>\n",
       "    .dataframe tbody tr th:only-of-type {\n",
       "        vertical-align: middle;\n",
       "    }\n",
       "\n",
       "    .dataframe tbody tr th {\n",
       "        vertical-align: top;\n",
       "    }\n",
       "\n",
       "    .dataframe thead th {\n",
       "        text-align: right;\n",
       "    }\n",
       "</style>\n",
       "<table border=\"1\" class=\"dataframe\">\n",
       "  <thead>\n",
       "    <tr style=\"text-align: right;\">\n",
       "      <th></th>\n",
       "      <th>country_edited</th>\n",
       "      <th>tax_revenue_pct</th>\n",
       "    </tr>\n",
       "  </thead>\n",
       "  <tbody>\n",
       "  </tbody>\n",
       "</table>\n",
       "</div>"
      ],
      "text/plain": [
       "Empty DataFrame\n",
       "Columns: [country_edited, tax_revenue_pct]\n",
       "Index: []"
      ]
     },
     "execution_count": 38,
     "metadata": {},
     "output_type": "execute_result"
    }
   ],
   "source": [
    "# define tax revenues\n",
    "impute_tax_revenue_percentages={\n",
    "    'Andorra': 69,\n",
    "    'Brunei': 18.5,\n",
    "    'Chad': 13.08,\n",
    "    'Comoros': 14.22,\n",
    "    'Cuba': 58.1,\n",
    "    'Djibouti': 18.95,\n",
    "    'Ecuador': 13.0,\n",
    "    'Eritrea': 34.9,\n",
    "    'Guyana': 15.37,\n",
    "    'Haiti': 6.24,\n",
    "    'Libya': 51.6,\n",
    "    'Liechtenstein': 52.3,\n",
    "    'Mauritania': 27.4,\n",
    "    'Monaco': 14.4,\n",
    "    'Montenegro': 37.2,\n",
    "    'Nauru': 44.3,\n",
    "    'Panama': 7.5,\n",
    "    'South Sudan': 8.5,\n",
    "    'Turkmenistan': 14.9,\n",
    "    'Tuvalu': 18.5,\n",
    "    'Venezuela': 5.96,\n",
    "    'Yemen': 9.58\n",
    "    }\n",
    "\n",
    "# impute\n",
    "for country,pct in impute_tax_revenue_percentages.items():\n",
    "    country_df.loc[country_df['country_edited']==country,'tax_revenue_pct']=pct\n",
    "\n",
    "# review\n",
    "find_nulls(country_df,'tax_revenue_pct')\n"
   ]
  },
  {
   "cell_type": "markdown",
   "id": "d851c97f-fafc-4c10-9a9c-35cb53949866",
   "metadata": {},
   "source": [
    "---\n",
    "**life expectancy found on [CIA World Factbook](https://www.cia.gov/the-world-factbook/field/life-expectancy-at-birth/country-comparison/)**"
   ]
  },
  {
   "cell_type": "code",
   "execution_count": 40,
   "id": "00503df0-ba58-460c-a3db-0c6c4983a259",
   "metadata": {},
   "outputs": [
    {
     "data": {
      "text/html": [
       "<div>\n",
       "<style scoped>\n",
       "    .dataframe tbody tr th:only-of-type {\n",
       "        vertical-align: middle;\n",
       "    }\n",
       "\n",
       "    .dataframe tbody tr th {\n",
       "        vertical-align: top;\n",
       "    }\n",
       "\n",
       "    .dataframe thead th {\n",
       "        text-align: right;\n",
       "    }\n",
       "</style>\n",
       "<table border=\"1\" class=\"dataframe\">\n",
       "  <thead>\n",
       "    <tr style=\"text-align: right;\">\n",
       "      <th></th>\n",
       "      <th>country_edited</th>\n",
       "      <th>life_expectancy</th>\n",
       "    </tr>\n",
       "  </thead>\n",
       "  <tbody>\n",
       "    <tr>\n",
       "      <th>3</th>\n",
       "      <td>Andorra</td>\n",
       "      <td>NaN</td>\n",
       "    </tr>\n",
       "    <tr>\n",
       "      <th>53</th>\n",
       "      <td>Eswatini</td>\n",
       "      <td>NaN</td>\n",
       "    </tr>\n",
       "    <tr>\n",
       "      <th>109</th>\n",
       "      <td>Monaco</td>\n",
       "      <td>NaN</td>\n",
       "    </tr>\n",
       "    <tr>\n",
       "      <th>116</th>\n",
       "      <td>Nauru</td>\n",
       "      <td>NaN</td>\n",
       "    </tr>\n",
       "    <tr>\n",
       "      <th>170</th>\n",
       "      <td>Tuvalu</td>\n",
       "      <td>NaN</td>\n",
       "    </tr>\n",
       "  </tbody>\n",
       "</table>\n",
       "</div>"
      ],
      "text/plain": [
       "    country_edited  life_expectancy\n",
       "3          Andorra              NaN\n",
       "53        Eswatini              NaN\n",
       "109         Monaco              NaN\n",
       "116          Nauru              NaN\n",
       "170         Tuvalu              NaN"
      ]
     },
     "execution_count": 40,
     "metadata": {},
     "output_type": "execute_result"
    }
   ],
   "source": [
    "# find nulls\n",
    "find_nulls(country_df,'life_expectancy')"
   ]
  },
  {
   "cell_type": "code",
   "execution_count": 41,
   "id": "643840ef-af2b-4e3f-b702-f6d8618579a7",
   "metadata": {},
   "outputs": [
    {
     "data": {
      "text/plain": [
       "['Andorra', 'Eswatini', 'Monaco', 'Nauru', 'Tuvalu']"
      ]
     },
     "execution_count": 41,
     "metadata": {},
     "output_type": "execute_result"
    }
   ],
   "source": [
    "# list of countries\n",
    "null_list(country_df,'life_expectancy')"
   ]
  },
  {
   "cell_type": "code",
   "execution_count": 42,
   "id": "0af4951d-5d32-4a4e-8cfe-65c0d95362b7",
   "metadata": {},
   "outputs": [
    {
     "data": {
      "text/plain": [
       "array([64.5, 78.5, 76.7,  nan, 60.8])"
      ]
     },
     "execution_count": 42,
     "metadata": {},
     "output_type": "execute_result"
    }
   ],
   "source": [
    "# get format\n",
    "col_format(country_df,'life_expectancy')"
   ]
  },
  {
   "cell_type": "code",
   "execution_count": 43,
   "id": "dbc288d7-9590-440c-b9da-ab97e2d7843d",
   "metadata": {},
   "outputs": [
    {
     "data": {
      "text/html": [
       "<div>\n",
       "<style scoped>\n",
       "    .dataframe tbody tr th:only-of-type {\n",
       "        vertical-align: middle;\n",
       "    }\n",
       "\n",
       "    .dataframe tbody tr th {\n",
       "        vertical-align: top;\n",
       "    }\n",
       "\n",
       "    .dataframe thead th {\n",
       "        text-align: right;\n",
       "    }\n",
       "</style>\n",
       "<table border=\"1\" class=\"dataframe\">\n",
       "  <thead>\n",
       "    <tr style=\"text-align: right;\">\n",
       "      <th></th>\n",
       "      <th>country_edited</th>\n",
       "      <th>life_expectancy</th>\n",
       "    </tr>\n",
       "  </thead>\n",
       "  <tbody>\n",
       "  </tbody>\n",
       "</table>\n",
       "</div>"
      ],
      "text/plain": [
       "Empty DataFrame\n",
       "Columns: [country_edited, life_expectancy]\n",
       "Index: []"
      ]
     },
     "execution_count": 43,
     "metadata": {},
     "output_type": "execute_result"
    }
   ],
   "source": [
    "# define list to impute\n",
    "impute_life_expectancies={\n",
    "    'Andorra':83.8,\n",
    "    'Eswatini':60.7,\n",
    "    'Monaco':89.8,\n",
    "    'Nauru':68.6,\n",
    "    'Tuvalu':69\n",
    "}\n",
    "\n",
    "# impute\n",
    "for country,expectancy in impute_life_expectancies.items():\n",
    "    country_df.loc[country_df['country_edited']==country,'life_expectancy']=expectancy\n",
    "\n",
    "# review\n",
    "find_nulls(country_df,'life_expectancy')"
   ]
  },
  {
   "cell_type": "markdown",
   "id": "2a5db823-c4d8-4517-9392-7e3f5a3810b7",
   "metadata": {},
   "source": [
    "---\n",
    "**consumper price index found information could not be found for null countries**\n",
    "* impute with median"
   ]
  },
  {
   "cell_type": "code",
   "execution_count": 45,
   "id": "bc87fecb-f526-44b7-9540-336ff2b011a4",
   "metadata": {},
   "outputs": [
    {
     "data": {
      "text/html": [
       "<div>\n",
       "<style scoped>\n",
       "    .dataframe tbody tr th:only-of-type {\n",
       "        vertical-align: middle;\n",
       "    }\n",
       "\n",
       "    .dataframe tbody tr th {\n",
       "        vertical-align: top;\n",
       "    }\n",
       "\n",
       "    .dataframe thead th {\n",
       "        text-align: right;\n",
       "    }\n",
       "</style>\n",
       "<table border=\"1\" class=\"dataframe\">\n",
       "  <thead>\n",
       "    <tr style=\"text-align: right;\">\n",
       "      <th></th>\n",
       "      <th>country_edited</th>\n",
       "      <th>consumer_price_index</th>\n",
       "    </tr>\n",
       "  </thead>\n",
       "  <tbody>\n",
       "    <tr>\n",
       "      <th>3</th>\n",
       "      <td>Andorra</td>\n",
       "      <td>NaN</td>\n",
       "    </tr>\n",
       "    <tr>\n",
       "      <th>15</th>\n",
       "      <td>Belarus</td>\n",
       "      <td>NaN</td>\n",
       "    </tr>\n",
       "    <tr>\n",
       "      <th>40</th>\n",
       "      <td>Cuba</td>\n",
       "      <td>NaN</td>\n",
       "    </tr>\n",
       "    <tr>\n",
       "      <th>51</th>\n",
       "      <td>Eritrea</td>\n",
       "      <td>NaN</td>\n",
       "    </tr>\n",
       "    <tr>\n",
       "      <th>53</th>\n",
       "      <td>Eswatini</td>\n",
       "      <td>NaN</td>\n",
       "    </tr>\n",
       "    <tr>\n",
       "      <th>94</th>\n",
       "      <td>Liechtenstein</td>\n",
       "      <td>NaN</td>\n",
       "    </tr>\n",
       "    <tr>\n",
       "      <th>103</th>\n",
       "      <td>Marshall Islands</td>\n",
       "      <td>NaN</td>\n",
       "    </tr>\n",
       "    <tr>\n",
       "      <th>109</th>\n",
       "      <td>Monaco</td>\n",
       "      <td>NaN</td>\n",
       "    </tr>\n",
       "    <tr>\n",
       "      <th>116</th>\n",
       "      <td>Nauru</td>\n",
       "      <td>NaN</td>\n",
       "    </tr>\n",
       "    <tr>\n",
       "      <th>151</th>\n",
       "      <td>Somalia</td>\n",
       "      <td>NaN</td>\n",
       "    </tr>\n",
       "    <tr>\n",
       "      <th>169</th>\n",
       "      <td>Turkmenistan</td>\n",
       "      <td>NaN</td>\n",
       "    </tr>\n",
       "    <tr>\n",
       "      <th>170</th>\n",
       "      <td>Tuvalu</td>\n",
       "      <td>NaN</td>\n",
       "    </tr>\n",
       "    <tr>\n",
       "      <th>177</th>\n",
       "      <td>Uzbekistan</td>\n",
       "      <td>NaN</td>\n",
       "    </tr>\n",
       "  </tbody>\n",
       "</table>\n",
       "</div>"
      ],
      "text/plain": [
       "       country_edited  consumer_price_index\n",
       "3             Andorra                   NaN\n",
       "15            Belarus                   NaN\n",
       "40               Cuba                   NaN\n",
       "51            Eritrea                   NaN\n",
       "53           Eswatini                   NaN\n",
       "94      Liechtenstein                   NaN\n",
       "103  Marshall Islands                   NaN\n",
       "109            Monaco                   NaN\n",
       "116             Nauru                   NaN\n",
       "151           Somalia                   NaN\n",
       "169      Turkmenistan                   NaN\n",
       "170            Tuvalu                   NaN\n",
       "177        Uzbekistan                   NaN"
      ]
     },
     "execution_count": 45,
     "metadata": {},
     "output_type": "execute_result"
    }
   ],
   "source": [
    "# find nulls\n",
    "find_nulls(country_df,'consumer_price_index')"
   ]
  },
  {
   "cell_type": "code",
   "execution_count": 46,
   "id": "be752a42-7a2a-4648-9f63-eb7122f3da4b",
   "metadata": {},
   "outputs": [
    {
     "data": {
      "text/plain": [
       "125.71"
      ]
     },
     "execution_count": 46,
     "metadata": {},
     "output_type": "execute_result"
    }
   ],
   "source": [
    "# define  median cpi\n",
    "median_cpi=country_df['consumer_price_index'].median()\n",
    "    \n",
    "median_cpi"
   ]
  },
  {
   "cell_type": "code",
   "execution_count": 47,
   "id": "f31c1c2e-7a94-4456-a84c-f7ac825242b0",
   "metadata": {},
   "outputs": [
    {
     "data": {
      "text/html": [
       "<div>\n",
       "<style scoped>\n",
       "    .dataframe tbody tr th:only-of-type {\n",
       "        vertical-align: middle;\n",
       "    }\n",
       "\n",
       "    .dataframe tbody tr th {\n",
       "        vertical-align: top;\n",
       "    }\n",
       "\n",
       "    .dataframe thead th {\n",
       "        text-align: right;\n",
       "    }\n",
       "</style>\n",
       "<table border=\"1\" class=\"dataframe\">\n",
       "  <thead>\n",
       "    <tr style=\"text-align: right;\">\n",
       "      <th></th>\n",
       "      <th>country_edited</th>\n",
       "      <th>consumer_price_index</th>\n",
       "    </tr>\n",
       "  </thead>\n",
       "  <tbody>\n",
       "  </tbody>\n",
       "</table>\n",
       "</div>"
      ],
      "text/plain": [
       "Empty DataFrame\n",
       "Columns: [country_edited, consumer_price_index]\n",
       "Index: []"
      ]
     },
     "execution_count": 47,
     "metadata": {},
     "output_type": "execute_result"
    }
   ],
   "source": [
    "# impute\n",
    "country_df['consumer_price_index']=country_df['consumer_price_index'].fillna(median_cpi)\n",
    "\n",
    "# review\n",
    "find_nulls(country_df,'consumer_price_index')"
   ]
  },
  {
   "cell_type": "markdown",
   "id": "6125249d-a624-45e3-aa09-df4e5a221a14",
   "metadata": {},
   "source": [
    "---\n",
    "**physicians per thousand found on [CIA World Factbook](country_df,'physicians_per_thousand')**"
   ]
  },
  {
   "cell_type": "code",
   "execution_count": 49,
   "id": "df9b96fb-0498-4fe7-b391-adde6ad534a7",
   "metadata": {},
   "outputs": [
    {
     "data": {
      "text/html": [
       "<div>\n",
       "<style scoped>\n",
       "    .dataframe tbody tr th:only-of-type {\n",
       "        vertical-align: middle;\n",
       "    }\n",
       "\n",
       "    .dataframe tbody tr th {\n",
       "        vertical-align: top;\n",
       "    }\n",
       "\n",
       "    .dataframe thead th {\n",
       "        text-align: right;\n",
       "    }\n",
       "</style>\n",
       "<table border=\"1\" class=\"dataframe\">\n",
       "  <thead>\n",
       "    <tr style=\"text-align: right;\">\n",
       "      <th></th>\n",
       "      <th>country_edited</th>\n",
       "      <th>physicians_per_thousand</th>\n",
       "    </tr>\n",
       "  </thead>\n",
       "  <tbody>\n",
       "    <tr>\n",
       "      <th>53</th>\n",
       "      <td>Eswatini</td>\n",
       "      <td>NaN</td>\n",
       "    </tr>\n",
       "    <tr>\n",
       "      <th>94</th>\n",
       "      <td>Liechtenstein</td>\n",
       "      <td>NaN</td>\n",
       "    </tr>\n",
       "    <tr>\n",
       "      <th>116</th>\n",
       "      <td>Nauru</td>\n",
       "      <td>NaN</td>\n",
       "    </tr>\n",
       "    <tr>\n",
       "      <th>153</th>\n",
       "      <td>South Sudan</td>\n",
       "      <td>NaN</td>\n",
       "    </tr>\n",
       "  </tbody>\n",
       "</table>\n",
       "</div>"
      ],
      "text/plain": [
       "    country_edited  physicians_per_thousand\n",
       "53        Eswatini                      NaN\n",
       "94   Liechtenstein                      NaN\n",
       "116          Nauru                      NaN\n",
       "153    South Sudan                      NaN"
      ]
     },
     "execution_count": 49,
     "metadata": {},
     "output_type": "execute_result"
    }
   ],
   "source": [
    "# find nulls\n",
    "find_nulls(country_df,'physicians_per_thousand')"
   ]
  },
  {
   "cell_type": "code",
   "execution_count": 50,
   "id": "d72926d3-23ab-412b-ac85-ea12813f0d74",
   "metadata": {},
   "outputs": [
    {
     "data": {
      "text/plain": [
       "['Eswatini', 'Liechtenstein', 'Nauru', 'South Sudan']"
      ]
     },
     "execution_count": 50,
     "metadata": {},
     "output_type": "execute_result"
    }
   ],
   "source": [
    "# list of nulls\n",
    "null_list(country_df,'physicians_per_thousand')"
   ]
  },
  {
   "cell_type": "code",
   "execution_count": 51,
   "id": "51573f7b-bd48-4de1-8a6c-b0dcb817fa66",
   "metadata": {},
   "outputs": [
    {
     "data": {
      "text/plain": [
       "array([0.28, 1.2 , 1.72, 3.33, 0.21])"
      ]
     },
     "execution_count": 51,
     "metadata": {},
     "output_type": "execute_result"
    }
   ],
   "source": [
    "# get format\n",
    "col_format(country_df,'physicians_per_thousand')"
   ]
  },
  {
   "cell_type": "code",
   "execution_count": 52,
   "id": "632b635c-60b0-4d41-8a07-6d3ba2951dc5",
   "metadata": {},
   "outputs": [
    {
     "data": {
      "text/html": [
       "<div>\n",
       "<style scoped>\n",
       "    .dataframe tbody tr th:only-of-type {\n",
       "        vertical-align: middle;\n",
       "    }\n",
       "\n",
       "    .dataframe tbody tr th {\n",
       "        vertical-align: top;\n",
       "    }\n",
       "\n",
       "    .dataframe thead th {\n",
       "        text-align: right;\n",
       "    }\n",
       "</style>\n",
       "<table border=\"1\" class=\"dataframe\">\n",
       "  <thead>\n",
       "    <tr style=\"text-align: right;\">\n",
       "      <th></th>\n",
       "      <th>country_edited</th>\n",
       "      <th>physicians_per_thousand</th>\n",
       "    </tr>\n",
       "  </thead>\n",
       "  <tbody>\n",
       "  </tbody>\n",
       "</table>\n",
       "</div>"
      ],
      "text/plain": [
       "Empty DataFrame\n",
       "Columns: [country_edited, physicians_per_thousand]\n",
       "Index: []"
      ]
     },
     "execution_count": 52,
     "metadata": {},
     "output_type": "execute_result"
    }
   ],
   "source": [
    "# define dictionary to impute\n",
    "impute_phys_per_thousand={\n",
    "    'Eswatini':0.14,\n",
    "    'Liechtenstein':2.5,\n",
    "    'Nauru':1.35,\n",
    "    'South Sudan':0.04\n",
    "}\n",
    "\n",
    "# impute\n",
    "for country,stat in impute_phys_per_thousand.items():\n",
    "    country_df.loc[country_df['country_edited']==country,'physicians_per_thousand']=stat\n",
    "\n",
    "# review\n",
    "find_nulls(country_df,'physicians_per_thousand')\n"
   ]
  },
  {
   "cell_type": "markdown",
   "id": "80e238aa-c791-4540-aed7-f628ca97dc38",
   "metadata": {},
   "source": [
    "---\n",
    "**primary education enrollment percentage found on [Our World in Data](https://ourworldindata.org/grapher/total-net-enrollment-rate-in-primary-education?tab=table&time=2021..latest)**"
   ]
  },
  {
   "cell_type": "code",
   "execution_count": 54,
   "id": "955a9d0e-d0b3-4585-b131-b1971db9d93c",
   "metadata": {},
   "outputs": [
    {
     "data": {
      "text/html": [
       "<div>\n",
       "<style scoped>\n",
       "    .dataframe tbody tr th:only-of-type {\n",
       "        vertical-align: middle;\n",
       "    }\n",
       "\n",
       "    .dataframe tbody tr th {\n",
       "        vertical-align: top;\n",
       "    }\n",
       "\n",
       "    .dataframe thead th {\n",
       "        text-align: right;\n",
       "    }\n",
       "</style>\n",
       "<table border=\"1\" class=\"dataframe\">\n",
       "  <thead>\n",
       "    <tr style=\"text-align: right;\">\n",
       "      <th></th>\n",
       "      <th>country_edited</th>\n",
       "      <th>primary_education_enrollment_pct</th>\n",
       "    </tr>\n",
       "  </thead>\n",
       "  <tbody>\n",
       "    <tr>\n",
       "      <th>21</th>\n",
       "      <td>Bosnia and Herzegovina</td>\n",
       "      <td>NaN</td>\n",
       "    </tr>\n",
       "    <tr>\n",
       "      <th>53</th>\n",
       "      <td>Eswatini</td>\n",
       "      <td>NaN</td>\n",
       "    </tr>\n",
       "    <tr>\n",
       "      <th>109</th>\n",
       "      <td>Monaco</td>\n",
       "      <td>NaN</td>\n",
       "    </tr>\n",
       "    <tr>\n",
       "      <th>116</th>\n",
       "      <td>Nauru</td>\n",
       "      <td>NaN</td>\n",
       "    </tr>\n",
       "  </tbody>\n",
       "</table>\n",
       "</div>"
      ],
      "text/plain": [
       "             country_edited  primary_education_enrollment_pct\n",
       "21   Bosnia and Herzegovina                               NaN\n",
       "53                 Eswatini                               NaN\n",
       "109                  Monaco                               NaN\n",
       "116                   Nauru                               NaN"
      ]
     },
     "execution_count": 54,
     "metadata": {},
     "output_type": "execute_result"
    }
   ],
   "source": [
    "# find nulls\n",
    "find_nulls(country_df,'primary_education_enrollment_pct')"
   ]
  },
  {
   "cell_type": "code",
   "execution_count": 55,
   "id": "b70df2fe-b3b8-44ae-8fb3-46e2a577ee56",
   "metadata": {},
   "outputs": [
    {
     "data": {
      "text/plain": [
       "['Bosnia and Herzegovina', 'Eswatini', 'Monaco', 'Nauru']"
      ]
     },
     "execution_count": 55,
     "metadata": {},
     "output_type": "execute_result"
    }
   ],
   "source": [
    "# list\n",
    "null_list(country_df,'primary_education_enrollment_pct')"
   ]
  },
  {
   "cell_type": "code",
   "execution_count": 56,
   "id": "0cfe3c93-f4a8-41c7-bedb-85cba1a250a7",
   "metadata": {},
   "outputs": [
    {
     "data": {
      "text/plain": [
       "array([104. , 107. , 109.9, 106.4, 113.5])"
      ]
     },
     "execution_count": 56,
     "metadata": {},
     "output_type": "execute_result"
    }
   ],
   "source": [
    "# format\n",
    "col_format(country_df,'primary_education_enrollment_pct')"
   ]
  },
  {
   "cell_type": "code",
   "execution_count": 57,
   "id": "b95ac0ec-aa76-4d2c-890b-82f258a41181",
   "metadata": {},
   "outputs": [
    {
     "data": {
      "text/html": [
       "<div>\n",
       "<style scoped>\n",
       "    .dataframe tbody tr th:only-of-type {\n",
       "        vertical-align: middle;\n",
       "    }\n",
       "\n",
       "    .dataframe tbody tr th {\n",
       "        vertical-align: top;\n",
       "    }\n",
       "\n",
       "    .dataframe thead th {\n",
       "        text-align: right;\n",
       "    }\n",
       "</style>\n",
       "<table border=\"1\" class=\"dataframe\">\n",
       "  <thead>\n",
       "    <tr style=\"text-align: right;\">\n",
       "      <th></th>\n",
       "      <th>country_edited</th>\n",
       "      <th>primary_education_enrollment_pct</th>\n",
       "    </tr>\n",
       "  </thead>\n",
       "  <tbody>\n",
       "  </tbody>\n",
       "</table>\n",
       "</div>"
      ],
      "text/plain": [
       "Empty DataFrame\n",
       "Columns: [country_edited, primary_education_enrollment_pct]\n",
       "Index: []"
      ]
     },
     "execution_count": 57,
     "metadata": {},
     "output_type": "execute_result"
    }
   ],
   "source": [
    "# define dictionary to impute\n",
    "prim_enrollment_pct={\n",
    "    'Bosnia and Herzegovina':84.4,\n",
    "    'Eswatini':89.5,\n",
    "    'Monaco':97.9,\n",
    "    'Nauru':96.3\n",
    "}\n",
    "\n",
    "# impute\n",
    "for country,pct in prim_enrollment_pct.items():\n",
    "    country_df.loc[country_df['country_edited']==country,'primary_education_enrollment_pct']=pct\n",
    "\n",
    "# review\n",
    "find_nulls(country_df,'primary_education_enrollment_pct')"
   ]
  },
  {
   "cell_type": "markdown",
   "id": "210307c1-fa90-425b-9197-649902228044",
   "metadata": {},
   "source": [
    "---\n",
    "**secondary education enrollment percentage found on [Our World in Data](https://ourworldindata.org/grapher/total-net-enrollment-rate-in-primary-education?tab=table&time=2021..latest)**"
   ]
  },
  {
   "cell_type": "code",
   "execution_count": 59,
   "id": "5c1ae8c8-a302-4ca2-82fb-89edb149112f",
   "metadata": {},
   "outputs": [
    {
     "data": {
      "text/html": [
       "<div>\n",
       "<style scoped>\n",
       "    .dataframe tbody tr th:only-of-type {\n",
       "        vertical-align: middle;\n",
       "    }\n",
       "\n",
       "    .dataframe tbody tr th {\n",
       "        vertical-align: top;\n",
       "    }\n",
       "\n",
       "    .dataframe thead th {\n",
       "        text-align: right;\n",
       "    }\n",
       "</style>\n",
       "<table border=\"1\" class=\"dataframe\">\n",
       "  <thead>\n",
       "    <tr style=\"text-align: right;\">\n",
       "      <th></th>\n",
       "      <th>country_edited</th>\n",
       "      <th>secondary_education_enrollment_pct</th>\n",
       "    </tr>\n",
       "  </thead>\n",
       "  <tbody>\n",
       "    <tr>\n",
       "      <th>3</th>\n",
       "      <td>Andorra</td>\n",
       "      <td>NaN</td>\n",
       "    </tr>\n",
       "    <tr>\n",
       "      <th>20</th>\n",
       "      <td>Bolivia</td>\n",
       "      <td>NaN</td>\n",
       "    </tr>\n",
       "    <tr>\n",
       "      <th>53</th>\n",
       "      <td>Eswatini</td>\n",
       "      <td>NaN</td>\n",
       "    </tr>\n",
       "    <tr>\n",
       "      <th>85</th>\n",
       "      <td>Kiribati</td>\n",
       "      <td>NaN</td>\n",
       "    </tr>\n",
       "    <tr>\n",
       "      <th>109</th>\n",
       "      <td>Monaco</td>\n",
       "      <td>NaN</td>\n",
       "    </tr>\n",
       "    <tr>\n",
       "      <th>116</th>\n",
       "      <td>Nauru</td>\n",
       "      <td>NaN</td>\n",
       "    </tr>\n",
       "    <tr>\n",
       "      <th>150</th>\n",
       "      <td>Solomon Islands</td>\n",
       "      <td>NaN</td>\n",
       "    </tr>\n",
       "    <tr>\n",
       "      <th>153</th>\n",
       "      <td>South Sudan</td>\n",
       "      <td>NaN</td>\n",
       "    </tr>\n",
       "    <tr>\n",
       "      <th>170</th>\n",
       "      <td>Tuvalu</td>\n",
       "      <td>NaN</td>\n",
       "    </tr>\n",
       "  </tbody>\n",
       "</table>\n",
       "</div>"
      ],
      "text/plain": [
       "      country_edited  secondary_education_enrollment_pct\n",
       "3            Andorra                                 NaN\n",
       "20           Bolivia                                 NaN\n",
       "53          Eswatini                                 NaN\n",
       "85          Kiribati                                 NaN\n",
       "109           Monaco                                 NaN\n",
       "116            Nauru                                 NaN\n",
       "150  Solomon Islands                                 NaN\n",
       "153      South Sudan                                 NaN\n",
       "170           Tuvalu                                 NaN"
      ]
     },
     "execution_count": 59,
     "metadata": {},
     "output_type": "execute_result"
    }
   ],
   "source": [
    "# find nulls\n",
    "find_nulls(country_df,'secondary_education_enrollment_pct')"
   ]
  },
  {
   "cell_type": "code",
   "execution_count": 60,
   "id": "9c8451f3-41cf-4f72-8959-20dd9af87d11",
   "metadata": {},
   "outputs": [
    {
     "data": {
      "text/plain": [
       "['Andorra',\n",
       " 'Bolivia',\n",
       " 'Eswatini',\n",
       " 'Kiribati',\n",
       " 'Monaco',\n",
       " 'Nauru',\n",
       " 'Solomon Islands',\n",
       " 'South Sudan',\n",
       " 'Tuvalu']"
      ]
     },
     "execution_count": 60,
     "metadata": {},
     "output_type": "execute_result"
    }
   ],
   "source": [
    "# get list\n",
    "null_list(country_df,'secondary_education_enrollment_pct')"
   ]
  },
  {
   "cell_type": "code",
   "execution_count": 61,
   "id": "3b6395a1-53a6-47a2-921f-a854bb4ec27c",
   "metadata": {},
   "outputs": [
    {
     "data": {
      "text/html": [
       "<div>\n",
       "<style scoped>\n",
       "    .dataframe tbody tr th:only-of-type {\n",
       "        vertical-align: middle;\n",
       "    }\n",
       "\n",
       "    .dataframe tbody tr th {\n",
       "        vertical-align: top;\n",
       "    }\n",
       "\n",
       "    .dataframe thead th {\n",
       "        text-align: right;\n",
       "    }\n",
       "</style>\n",
       "<table border=\"1\" class=\"dataframe\">\n",
       "  <thead>\n",
       "    <tr style=\"text-align: right;\">\n",
       "      <th></th>\n",
       "      <th>country_edited</th>\n",
       "      <th>secondary_education_enrollment_pct</th>\n",
       "    </tr>\n",
       "  </thead>\n",
       "  <tbody>\n",
       "  </tbody>\n",
       "</table>\n",
       "</div>"
      ],
      "text/plain": [
       "Empty DataFrame\n",
       "Columns: [country_edited, secondary_education_enrollment_pct]\n",
       "Index: []"
      ]
     },
     "execution_count": 61,
     "metadata": {},
     "output_type": "execute_result"
    }
   ],
   "source": [
    "# define dictionary to impute\n",
    "impute_secd_enrollment_pct={\n",
    "    'Andorra':97.5,\n",
    "    'Bolivia':91.5,\n",
    "    'Eswatini':86,\n",
    "    'Kiribati':81.6,\n",
    "    'Monaco':154.2,\n",
    "    'Nauru':86.4,\n",
    "    'Solomon Islands':48.3,\n",
    "    'South Sudan':11.2,\n",
    "    'Tuvalu':91.3\n",
    "}\n",
    "\n",
    "# impute\n",
    "for country,pct in impute_secd_enrollment_pct.items():\n",
    "    country_df.loc[country_df['country_edited']==country,'secondary_education_enrollment_pct']=pct\n",
    "\n",
    "# review\n",
    "find_nulls(country_df,'secondary_education_enrollment_pct')"
   ]
  },
  {
   "cell_type": "markdown",
   "id": "16d5c845-0b74-414a-9330-fbd546a4d48a",
   "metadata": {},
   "source": [
    "---\n",
    "**currency codes found on [IBAN Currency Codes](https://www.iban.com/currency-codes)**"
   ]
  },
  {
   "cell_type": "code",
   "execution_count": 63,
   "id": "d75a8a7c-1a9c-4ea9-9c72-6e51943f9df8",
   "metadata": {},
   "outputs": [
    {
     "data": {
      "text/html": [
       "<div>\n",
       "<style scoped>\n",
       "    .dataframe tbody tr th:only-of-type {\n",
       "        vertical-align: middle;\n",
       "    }\n",
       "\n",
       "    .dataframe tbody tr th {\n",
       "        vertical-align: top;\n",
       "    }\n",
       "\n",
       "    .dataframe thead th {\n",
       "        text-align: right;\n",
       "    }\n",
       "</style>\n",
       "<table border=\"1\" class=\"dataframe\">\n",
       "  <thead>\n",
       "    <tr style=\"text-align: right;\">\n",
       "      <th></th>\n",
       "      <th>country_edited</th>\n",
       "      <th>currency_code</th>\n",
       "    </tr>\n",
       "  </thead>\n",
       "  <tbody>\n",
       "    <tr>\n",
       "      <th>11</th>\n",
       "      <td>Bahamas</td>\n",
       "      <td>NaN</td>\n",
       "    </tr>\n",
       "    <tr>\n",
       "      <th>19</th>\n",
       "      <td>Bhutan</td>\n",
       "      <td>NaN</td>\n",
       "    </tr>\n",
       "    <tr>\n",
       "      <th>29</th>\n",
       "      <td>Cambodia</td>\n",
       "      <td>NaN</td>\n",
       "    </tr>\n",
       "    <tr>\n",
       "      <th>32</th>\n",
       "      <td>Central African Republic</td>\n",
       "      <td>NaN</td>\n",
       "    </tr>\n",
       "    <tr>\n",
       "      <th>49</th>\n",
       "      <td>El Salvador</td>\n",
       "      <td>NaN</td>\n",
       "    </tr>\n",
       "    <tr>\n",
       "      <th>53</th>\n",
       "      <td>Eswatini</td>\n",
       "      <td>NaN</td>\n",
       "    </tr>\n",
       "    <tr>\n",
       "      <th>81</th>\n",
       "      <td>Japan</td>\n",
       "      <td>NaN</td>\n",
       "    </tr>\n",
       "    <tr>\n",
       "      <th>91</th>\n",
       "      <td>Lesotho</td>\n",
       "      <td>NaN</td>\n",
       "    </tr>\n",
       "    <tr>\n",
       "      <th>92</th>\n",
       "      <td>Liberia</td>\n",
       "      <td>NaN</td>\n",
       "    </tr>\n",
       "    <tr>\n",
       "      <th>100</th>\n",
       "      <td>Maldives</td>\n",
       "      <td>NaN</td>\n",
       "    </tr>\n",
       "    <tr>\n",
       "      <th>115</th>\n",
       "      <td>Namibia</td>\n",
       "      <td>NaN</td>\n",
       "    </tr>\n",
       "    <tr>\n",
       "      <th>126</th>\n",
       "      <td>Panama</td>\n",
       "      <td>NaN</td>\n",
       "    </tr>\n",
       "    <tr>\n",
       "      <th>183</th>\n",
       "      <td>Zimbabwe</td>\n",
       "      <td>NaN</td>\n",
       "    </tr>\n",
       "  </tbody>\n",
       "</table>\n",
       "</div>"
      ],
      "text/plain": [
       "               country_edited currency_code\n",
       "11                    Bahamas           NaN\n",
       "19                     Bhutan           NaN\n",
       "29                   Cambodia           NaN\n",
       "32   Central African Republic           NaN\n",
       "49                El Salvador           NaN\n",
       "53                   Eswatini           NaN\n",
       "81                      Japan           NaN\n",
       "91                    Lesotho           NaN\n",
       "92                    Liberia           NaN\n",
       "100                  Maldives           NaN\n",
       "115                   Namibia           NaN\n",
       "126                    Panama           NaN\n",
       "183                  Zimbabwe           NaN"
      ]
     },
     "execution_count": 63,
     "metadata": {},
     "output_type": "execute_result"
    }
   ],
   "source": [
    "# find nulls\n",
    "find_nulls(country_df,'currency_code')"
   ]
  },
  {
   "cell_type": "code",
   "execution_count": 64,
   "id": "27112981-aa53-4020-a7d9-47386cfd9eee",
   "metadata": {},
   "outputs": [
    {
     "data": {
      "text/plain": [
       "['Bahamas',\n",
       " 'Bhutan',\n",
       " 'Cambodia',\n",
       " 'Central African Republic',\n",
       " 'El Salvador',\n",
       " 'Eswatini',\n",
       " 'Japan',\n",
       " 'Lesotho',\n",
       " 'Liberia',\n",
       " 'Maldives',\n",
       " 'Namibia',\n",
       " 'Panama',\n",
       " 'Zimbabwe']"
      ]
     },
     "execution_count": 64,
     "metadata": {},
     "output_type": "execute_result"
    }
   ],
   "source": [
    "# get list\n",
    "null_list(country_df,'currency_code')"
   ]
  },
  {
   "cell_type": "code",
   "execution_count": 65,
   "id": "aec96e7f-26a6-45ec-827b-9f8d3b231e4f",
   "metadata": {},
   "outputs": [
    {
     "data": {
      "text/plain": [
       "array(['AFN', 'ALL', 'DZD', 'EUR', 'AOA'], dtype=object)"
      ]
     },
     "execution_count": 65,
     "metadata": {},
     "output_type": "execute_result"
    }
   ],
   "source": [
    "# get format\n",
    "col_format(country_df,'currency_code')"
   ]
  },
  {
   "cell_type": "code",
   "execution_count": 66,
   "id": "7fa501b4-34a4-4021-800c-336fc9c4d820",
   "metadata": {},
   "outputs": [
    {
     "data": {
      "text/html": [
       "<div>\n",
       "<style scoped>\n",
       "    .dataframe tbody tr th:only-of-type {\n",
       "        vertical-align: middle;\n",
       "    }\n",
       "\n",
       "    .dataframe tbody tr th {\n",
       "        vertical-align: top;\n",
       "    }\n",
       "\n",
       "    .dataframe thead th {\n",
       "        text-align: right;\n",
       "    }\n",
       "</style>\n",
       "<table border=\"1\" class=\"dataframe\">\n",
       "  <thead>\n",
       "    <tr style=\"text-align: right;\">\n",
       "      <th></th>\n",
       "      <th>country_edited</th>\n",
       "      <th>currency_code</th>\n",
       "    </tr>\n",
       "  </thead>\n",
       "  <tbody>\n",
       "  </tbody>\n",
       "</table>\n",
       "</div>"
      ],
      "text/plain": [
       "Empty DataFrame\n",
       "Columns: [country_edited, currency_code]\n",
       "Index: []"
      ]
     },
     "execution_count": 66,
     "metadata": {},
     "output_type": "execute_result"
    }
   ],
   "source": [
    "# define dictionary to impute\n",
    "impute_currency_codes={\n",
    "    'Bahamas':'BSD',\n",
    "    'Bhutan':'BTN',\n",
    "    'Cambodia':'KHR',\n",
    "    'Central African Republic':'XAF',\n",
    "    'El Salvador':'USD',\n",
    "    'Eswatini':'SZL',\n",
    "    'Japan':'JPY',\n",
    "    'Lesotho':'LSL',\n",
    "    'Liberia':'LRD',\n",
    "    'Maldives':'MVR',\n",
    "    'Namibia':'NAD',\n",
    "    'Panama':'PAB',\n",
    "    'Zimbabwe':'ZWL'\n",
    "}\n",
    "\n",
    "# impute\n",
    "for country,code in impute_currency_codes.items():\n",
    "    country_df.loc[country_df['country_edited']==country,'currency_code']=code\n",
    "\n",
    "# review\n",
    "find_nulls(country_df,'currency_code')"
   ]
  },
  {
   "cell_type": "markdown",
   "id": "ee75e5f1-1ba1-476c-a9d3-8c07a2062967",
   "metadata": {},
   "source": [
    "---\n",
    "**official languages found on [Wikipedia](https://en.wikipedia.org/wiki/List_of_official_languages_by_country_and_territory)**\n",
    "- if country has none listed, use language that had de facto status"
   ]
  },
  {
   "cell_type": "code",
   "execution_count": 68,
   "id": "93976b3d-c8d9-453c-958a-ee09b6479434",
   "metadata": {},
   "outputs": [
    {
     "data": {
      "text/html": [
       "<div>\n",
       "<style scoped>\n",
       "    .dataframe tbody tr th:only-of-type {\n",
       "        vertical-align: middle;\n",
       "    }\n",
       "\n",
       "    .dataframe tbody tr th {\n",
       "        vertical-align: top;\n",
       "    }\n",
       "\n",
       "    .dataframe thead th {\n",
       "        text-align: right;\n",
       "    }\n",
       "</style>\n",
       "<table border=\"1\" class=\"dataframe\">\n",
       "  <thead>\n",
       "    <tr style=\"text-align: right;\">\n",
       "      <th></th>\n",
       "      <th>country_edited</th>\n",
       "      <th>official_language</th>\n",
       "    </tr>\n",
       "  </thead>\n",
       "  <tbody>\n",
       "    <tr>\n",
       "      <th>8</th>\n",
       "      <td>Australia</td>\n",
       "      <td>NaN</td>\n",
       "    </tr>\n",
       "    <tr>\n",
       "      <th>81</th>\n",
       "      <td>Japan</td>\n",
       "      <td>NaN</td>\n",
       "    </tr>\n",
       "    <tr>\n",
       "      <th>106</th>\n",
       "      <td>Mexico</td>\n",
       "      <td>NaN</td>\n",
       "    </tr>\n",
       "    <tr>\n",
       "      <th>141</th>\n",
       "      <td>Sao Tome and Principe</td>\n",
       "      <td>NaN</td>\n",
       "    </tr>\n",
       "    <tr>\n",
       "      <th>175</th>\n",
       "      <td>United States</td>\n",
       "      <td>NaN</td>\n",
       "    </tr>\n",
       "  </tbody>\n",
       "</table>\n",
       "</div>"
      ],
      "text/plain": [
       "            country_edited official_language\n",
       "8                Australia               NaN\n",
       "81                   Japan               NaN\n",
       "106                 Mexico               NaN\n",
       "141  Sao Tome and Principe               NaN\n",
       "175          United States               NaN"
      ]
     },
     "execution_count": 68,
     "metadata": {},
     "output_type": "execute_result"
    }
   ],
   "source": [
    "# find nulls\n",
    "find_nulls(country_df,'official_language')"
   ]
  },
  {
   "cell_type": "code",
   "execution_count": 69,
   "id": "dbb83577-ecd7-48af-a592-a4feac469075",
   "metadata": {},
   "outputs": [
    {
     "data": {
      "text/plain": [
       "array(['Pashto', 'Albanian', 'Arabic', 'Catalan', 'Portuguese'],\n",
       "      dtype=object)"
      ]
     },
     "execution_count": 69,
     "metadata": {},
     "output_type": "execute_result"
    }
   ],
   "source": [
    "# get format\n",
    "col_format(country_df,'official_language')"
   ]
  },
  {
   "cell_type": "code",
   "execution_count": 70,
   "id": "83000e63-5fe9-41b6-9c68-2b52c6096e3f",
   "metadata": {},
   "outputs": [
    {
     "data": {
      "text/plain": [
       "['Australia', 'Japan', 'Mexico', 'Sao Tome and Principe', 'United States']"
      ]
     },
     "execution_count": 70,
     "metadata": {},
     "output_type": "execute_result"
    }
   ],
   "source": [
    "# get list\n",
    "null_list(country_df,'official_language')"
   ]
  },
  {
   "cell_type": "code",
   "execution_count": 71,
   "id": "a0945a28-45ad-495a-bea3-43c124a975df",
   "metadata": {},
   "outputs": [
    {
     "data": {
      "text/html": [
       "<div>\n",
       "<style scoped>\n",
       "    .dataframe tbody tr th:only-of-type {\n",
       "        vertical-align: middle;\n",
       "    }\n",
       "\n",
       "    .dataframe tbody tr th {\n",
       "        vertical-align: top;\n",
       "    }\n",
       "\n",
       "    .dataframe thead th {\n",
       "        text-align: right;\n",
       "    }\n",
       "</style>\n",
       "<table border=\"1\" class=\"dataframe\">\n",
       "  <thead>\n",
       "    <tr style=\"text-align: right;\">\n",
       "      <th></th>\n",
       "      <th>country_edited</th>\n",
       "      <th>official_language</th>\n",
       "    </tr>\n",
       "  </thead>\n",
       "  <tbody>\n",
       "  </tbody>\n",
       "</table>\n",
       "</div>"
      ],
      "text/plain": [
       "Empty DataFrame\n",
       "Columns: [country_edited, official_language]\n",
       "Index: []"
      ]
     },
     "execution_count": 71,
     "metadata": {},
     "output_type": "execute_result"
    }
   ],
   "source": [
    "# define dictionary to impute\n",
    "impute_lanugages={\n",
    "    'Australia':'English',\n",
    "    'Japan':'Japanese',\n",
    "    'Mexico':'Spanish',\n",
    "    'Sao Tome and Principe':'Portuguese',\n",
    "    'United States':'English'\n",
    "}\n",
    "\n",
    "# impute\n",
    "for country,language in impute_lanugages.items():\n",
    "    country_df.loc[country_df['country_edited']==country,'official_language']=language\n",
    "\n",
    "# review\n",
    "find_nulls(country_df,'official_language')"
   ]
  },
  {
   "cell_type": "markdown",
   "id": "8bfe8fc0-d2ff-41c6-9f56-79debbf2e03a",
   "metadata": {},
   "source": [
    "---\n",
    "**drop ag_land_pct**"
   ]
  },
  {
   "cell_type": "code",
   "execution_count": 73,
   "id": "d487ad31-bc92-43b2-ae27-a76395894348",
   "metadata": {},
   "outputs": [],
   "source": [
    "country_df=country_df.drop(columns='ag_land_pct')"
   ]
  },
  {
   "cell_type": "markdown",
   "id": "ecad768f-d4be-486f-9a29-07be67aed286",
   "metadata": {},
   "source": [
    "---\n",
    "**check nulls before saving**"
   ]
  },
  {
   "cell_type": "code",
   "execution_count": 75,
   "id": "74008c7e-2603-4c36-b0f2-15438883447f",
   "metadata": {},
   "outputs": [
    {
     "name": "stdout",
     "output_type": "stream",
     "text": [
      "Country Data Nulls\n"
     ]
    },
    {
     "data": {
      "text/html": [
       "<div>\n",
       "<style scoped>\n",
       "    .dataframe tbody tr th:only-of-type {\n",
       "        vertical-align: middle;\n",
       "    }\n",
       "\n",
       "    .dataframe tbody tr th {\n",
       "        vertical-align: top;\n",
       "    }\n",
       "\n",
       "    .dataframe thead th {\n",
       "        text-align: right;\n",
       "    }\n",
       "</style>\n",
       "<table border=\"1\" class=\"dataframe\">\n",
       "  <thead>\n",
       "    <tr style=\"text-align: right;\">\n",
       "      <th></th>\n",
       "      <th>Nulls</th>\n",
       "      <th>Nulls (%)</th>\n",
       "    </tr>\n",
       "  </thead>\n",
       "  <tbody>\n",
       "    <tr>\n",
       "      <th>country</th>\n",
       "      <td>0</td>\n",
       "      <td>0.0</td>\n",
       "    </tr>\n",
       "    <tr>\n",
       "      <th>gross_domestic_product_usd(b)</th>\n",
       "      <td>0</td>\n",
       "      <td>0.0</td>\n",
       "    </tr>\n",
       "    <tr>\n",
       "      <th>total_area_km2</th>\n",
       "      <td>0</td>\n",
       "      <td>0.0</td>\n",
       "    </tr>\n",
       "    <tr>\n",
       "      <th>covid_deaths</th>\n",
       "      <td>0</td>\n",
       "      <td>0.0</td>\n",
       "    </tr>\n",
       "    <tr>\n",
       "      <th>covid_cases</th>\n",
       "      <td>0</td>\n",
       "      <td>0.0</td>\n",
       "    </tr>\n",
       "    <tr>\n",
       "      <th>continent</th>\n",
       "      <td>0</td>\n",
       "      <td>0.0</td>\n",
       "    </tr>\n",
       "    <tr>\n",
       "      <th>country_edited</th>\n",
       "      <td>0</td>\n",
       "      <td>0.0</td>\n",
       "    </tr>\n",
       "    <tr>\n",
       "      <th>unemployment_rt</th>\n",
       "      <td>0</td>\n",
       "      <td>0.0</td>\n",
       "    </tr>\n",
       "    <tr>\n",
       "      <th>tax_revenue_pct</th>\n",
       "      <td>0</td>\n",
       "      <td>0.0</td>\n",
       "    </tr>\n",
       "    <tr>\n",
       "      <th>secondary_education_enrollment_pct</th>\n",
       "      <td>0</td>\n",
       "      <td>0.0</td>\n",
       "    </tr>\n",
       "    <tr>\n",
       "      <th>primary_education_enrollment_pct</th>\n",
       "      <td>0</td>\n",
       "      <td>0.0</td>\n",
       "    </tr>\n",
       "    <tr>\n",
       "      <th>consumer_price_index</th>\n",
       "      <td>0</td>\n",
       "      <td>0.0</td>\n",
       "    </tr>\n",
       "    <tr>\n",
       "      <th>birth_rt</th>\n",
       "      <td>0</td>\n",
       "      <td>0.0</td>\n",
       "    </tr>\n",
       "    <tr>\n",
       "      <th>land_area_km2</th>\n",
       "      <td>0</td>\n",
       "      <td>0.0</td>\n",
       "    </tr>\n",
       "    <tr>\n",
       "      <th>long</th>\n",
       "      <td>0</td>\n",
       "      <td>0.0</td>\n",
       "    </tr>\n",
       "    <tr>\n",
       "      <th>lat</th>\n",
       "      <td>0</td>\n",
       "      <td>0.0</td>\n",
       "    </tr>\n",
       "    <tr>\n",
       "      <th>physicians_per_thousand</th>\n",
       "      <td>0</td>\n",
       "      <td>0.0</td>\n",
       "    </tr>\n",
       "    <tr>\n",
       "      <th>official_language</th>\n",
       "      <td>0</td>\n",
       "      <td>0.0</td>\n",
       "    </tr>\n",
       "    <tr>\n",
       "      <th>life_expectancy</th>\n",
       "      <td>0</td>\n",
       "      <td>0.0</td>\n",
       "    </tr>\n",
       "    <tr>\n",
       "      <th>infant_mortality_rt</th>\n",
       "      <td>0</td>\n",
       "      <td>0.0</td>\n",
       "    </tr>\n",
       "    <tr>\n",
       "      <th>fertility_rt</th>\n",
       "      <td>0</td>\n",
       "      <td>0.0</td>\n",
       "    </tr>\n",
       "    <tr>\n",
       "      <th>currency_code</th>\n",
       "      <td>0</td>\n",
       "      <td>0.0</td>\n",
       "    </tr>\n",
       "    <tr>\n",
       "      <th>average_population</th>\n",
       "      <td>0</td>\n",
       "      <td>0.0</td>\n",
       "    </tr>\n",
       "  </tbody>\n",
       "</table>\n",
       "</div>"
      ],
      "text/plain": [
       "                                    Nulls  Nulls (%)\n",
       "country                                 0        0.0\n",
       "gross_domestic_product_usd(b)           0        0.0\n",
       "total_area_km2                          0        0.0\n",
       "covid_deaths                            0        0.0\n",
       "covid_cases                             0        0.0\n",
       "continent                               0        0.0\n",
       "country_edited                          0        0.0\n",
       "unemployment_rt                         0        0.0\n",
       "tax_revenue_pct                         0        0.0\n",
       "secondary_education_enrollment_pct      0        0.0\n",
       "primary_education_enrollment_pct        0        0.0\n",
       "consumer_price_index                    0        0.0\n",
       "birth_rt                                0        0.0\n",
       "land_area_km2                           0        0.0\n",
       "long                                    0        0.0\n",
       "lat                                     0        0.0\n",
       "physicians_per_thousand                 0        0.0\n",
       "official_language                       0        0.0\n",
       "life_expectancy                         0        0.0\n",
       "infant_mortality_rt                     0        0.0\n",
       "fertility_rt                            0        0.0\n",
       "currency_code                           0        0.0\n",
       "average_population                      0        0.0"
      ]
     },
     "metadata": {},
     "output_type": "display_data"
    }
   ],
   "source": [
    "df_nulls(country_df)"
   ]
  },
  {
   "cell_type": "markdown",
   "id": "0aeb36f7-3cd5-40ae-bd47-ea5a40773192",
   "metadata": {},
   "source": [
    "---\n",
    "### Save Data\n",
    "* **new csv file name**"
   ]
  },
  {
   "cell_type": "code",
   "execution_count": 77,
   "id": "2a9494c2-11d2-449a-a2f1-5d3dfd16812b",
   "metadata": {},
   "outputs": [],
   "source": [
    "# save csv file\n",
    "country_df.to_csv('06_country_merged_imputed.csv',sep=',',encoding='utf-8',index=False)"
   ]
  }
 ],
 "metadata": {
  "kernelspec": {
   "display_name": "Python 3 (ipykernel)",
   "language": "python",
   "name": "python3"
  },
  "language_info": {
   "codemirror_mode": {
    "name": "ipython",
    "version": 3
   },
   "file_extension": ".py",
   "mimetype": "text/x-python",
   "name": "python",
   "nbconvert_exporter": "python",
   "pygments_lexer": "ipython3",
   "version": "3.12.3"
  }
 },
 "nbformat": 4,
 "nbformat_minor": 5
}

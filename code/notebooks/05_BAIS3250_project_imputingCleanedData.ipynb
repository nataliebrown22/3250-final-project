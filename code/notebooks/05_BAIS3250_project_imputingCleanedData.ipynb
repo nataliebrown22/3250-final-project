{
 "cells": [
  {
   "cell_type": "markdown",
   "id": "3894ec80-aa6f-4c6f-854e-afae6fd0eb56",
   "metadata": {},
   "source": [
    "# BAIS:3250 - Final Project\n",
    "### Data Transformation\n",
    "\n",
    "**Author(s):** Natalie Brown, Max Kaiser\n",
    "\n",
    "**Date Modified:** 11-21-2024 (*date created:* 11-21-2024)\n",
    "\n",
    "\n",
    "**Description:** Transforming columns and dropping / imputing nulls for final dataset\n",
    "\n",
    "---"
   ]
  },
  {
   "cell_type": "markdown",
   "id": "3bc16047-ce89-4d5e-86fd-ae8d98163904",
   "metadata": {},
   "source": [
    "### Import Libaries\n",
    "* **pandas:** for data frames and data cleaning functions"
   ]
  },
  {
   "cell_type": "code",
   "execution_count": 3,
   "id": "2a3c68e5-96ee-4be3-8a4a-789e24659169",
   "metadata": {},
   "outputs": [],
   "source": [
    "import pandas as pd"
   ]
  },
  {
   "cell_type": "markdown",
   "id": "d254df90-ddb0-4e62-a0c5-3fe4cbe95bc4",
   "metadata": {},
   "source": [
    "---\n",
    "### Load Data\n",
    "* **country_merged_clean.csv**"
   ]
  },
  {
   "cell_type": "code",
   "execution_count": 5,
   "id": "2ef15407-9fa4-4291-89bc-21e4c7a04bff",
   "metadata": {},
   "outputs": [
    {
     "data": {
      "text/html": [
       "<div>\n",
       "<style scoped>\n",
       "    .dataframe tbody tr th:only-of-type {\n",
       "        vertical-align: middle;\n",
       "    }\n",
       "\n",
       "    .dataframe tbody tr th {\n",
       "        vertical-align: top;\n",
       "    }\n",
       "\n",
       "    .dataframe thead th {\n",
       "        text-align: right;\n",
       "    }\n",
       "</style>\n",
       "<table border=\"1\" class=\"dataframe\">\n",
       "  <thead>\n",
       "    <tr style=\"text-align: right;\">\n",
       "      <th></th>\n",
       "      <th>country</th>\n",
       "      <th>birth_rt</th>\n",
       "      <th>currency_code</th>\n",
       "      <th>fertility_rt</th>\n",
       "      <th>infant_mortality_rt</th>\n",
       "      <th>life_expectancy</th>\n",
       "      <th>official_language</th>\n",
       "      <th>physicians_per_thousand</th>\n",
       "      <th>lat</th>\n",
       "      <th>long</th>\n",
       "      <th>...</th>\n",
       "      <th>gross_domestic_product_usd(b)</th>\n",
       "      <th>primary_education_enrollment_pct</th>\n",
       "      <th>secondary_education_enrollment_pct</th>\n",
       "      <th>tax_revenue_pct</th>\n",
       "      <th>unemployment_rt</th>\n",
       "      <th>continent</th>\n",
       "      <th>covid_cases</th>\n",
       "      <th>covid_deaths</th>\n",
       "      <th>total_area_km2</th>\n",
       "      <th>average_population</th>\n",
       "    </tr>\n",
       "  </thead>\n",
       "  <tbody>\n",
       "    <tr>\n",
       "      <th>0</th>\n",
       "      <td>Afghanistan</td>\n",
       "      <td>32.49</td>\n",
       "      <td>AFN</td>\n",
       "      <td>4.47</td>\n",
       "      <td>47.9</td>\n",
       "      <td>64.5</td>\n",
       "      <td>Pashto</td>\n",
       "      <td>0.28</td>\n",
       "      <td>33.939110</td>\n",
       "      <td>67.709953</td>\n",
       "      <td>...</td>\n",
       "      <td>19.1014</td>\n",
       "      <td>104.0</td>\n",
       "      <td>9.7</td>\n",
       "      <td>9.3</td>\n",
       "      <td>11.12</td>\n",
       "      <td>Asia</td>\n",
       "      <td>46498.0</td>\n",
       "      <td>1774.0</td>\n",
       "      <td>652000.0</td>\n",
       "      <td>38673974</td>\n",
       "    </tr>\n",
       "    <tr>\n",
       "      <th>1</th>\n",
       "      <td>Albania</td>\n",
       "      <td>11.78</td>\n",
       "      <td>ALL</td>\n",
       "      <td>1.62</td>\n",
       "      <td>7.8</td>\n",
       "      <td>78.5</td>\n",
       "      <td>Albanian</td>\n",
       "      <td>1.20</td>\n",
       "      <td>41.153332</td>\n",
       "      <td>20.168331</td>\n",
       "      <td>...</td>\n",
       "      <td>15.2781</td>\n",
       "      <td>107.0</td>\n",
       "      <td>55.0</td>\n",
       "      <td>18.6</td>\n",
       "      <td>12.33</td>\n",
       "      <td>Europe</td>\n",
       "      <td>37625.0</td>\n",
       "      <td>798.0</td>\n",
       "      <td>28748.0</td>\n",
       "      <td>2865340</td>\n",
       "    </tr>\n",
       "    <tr>\n",
       "      <th>2</th>\n",
       "      <td>Algeria</td>\n",
       "      <td>24.28</td>\n",
       "      <td>DZD</td>\n",
       "      <td>3.02</td>\n",
       "      <td>20.1</td>\n",
       "      <td>76.7</td>\n",
       "      <td>Arabic</td>\n",
       "      <td>1.72</td>\n",
       "      <td>28.033886</td>\n",
       "      <td>1.659626</td>\n",
       "      <td>...</td>\n",
       "      <td>169.9882</td>\n",
       "      <td>109.9</td>\n",
       "      <td>51.4</td>\n",
       "      <td>37.2</td>\n",
       "      <td>11.70</td>\n",
       "      <td>Africa</td>\n",
       "      <td>83199.0</td>\n",
       "      <td>2431.0</td>\n",
       "      <td>2381741.0</td>\n",
       "      <td>43621542</td>\n",
       "    </tr>\n",
       "    <tr>\n",
       "      <th>3</th>\n",
       "      <td>Andorra</td>\n",
       "      <td>7.20</td>\n",
       "      <td>EUR</td>\n",
       "      <td>1.27</td>\n",
       "      <td>2.7</td>\n",
       "      <td>NaN</td>\n",
       "      <td>Catalan</td>\n",
       "      <td>3.33</td>\n",
       "      <td>42.506285</td>\n",
       "      <td>1.521801</td>\n",
       "      <td>...</td>\n",
       "      <td>3.1541</td>\n",
       "      <td>106.4</td>\n",
       "      <td>NaN</td>\n",
       "      <td>NaN</td>\n",
       "      <td>NaN</td>\n",
       "      <td>Europe</td>\n",
       "      <td>6712.0</td>\n",
       "      <td>76.0</td>\n",
       "      <td>468.0</td>\n",
       "      <td>77230</td>\n",
       "    </tr>\n",
       "    <tr>\n",
       "      <th>4</th>\n",
       "      <td>Angola</td>\n",
       "      <td>40.73</td>\n",
       "      <td>AOA</td>\n",
       "      <td>5.52</td>\n",
       "      <td>51.6</td>\n",
       "      <td>60.8</td>\n",
       "      <td>Portuguese</td>\n",
       "      <td>0.21</td>\n",
       "      <td>-11.202692</td>\n",
       "      <td>17.873887</td>\n",
       "      <td>...</td>\n",
       "      <td>94.6354</td>\n",
       "      <td>113.5</td>\n",
       "      <td>9.3</td>\n",
       "      <td>9.2</td>\n",
       "      <td>6.89</td>\n",
       "      <td>Africa</td>\n",
       "      <td>15139.0</td>\n",
       "      <td>348.0</td>\n",
       "      <td>1246620.0</td>\n",
       "      <td>32569069</td>\n",
       "    </tr>\n",
       "  </tbody>\n",
       "</table>\n",
       "<p>5 rows × 23 columns</p>\n",
       "</div>"
      ],
      "text/plain": [
       "       country  birth_rt currency_code  fertility_rt  infant_mortality_rt  \\\n",
       "0  Afghanistan     32.49           AFN          4.47                 47.9   \n",
       "1      Albania     11.78           ALL          1.62                  7.8   \n",
       "2      Algeria     24.28           DZD          3.02                 20.1   \n",
       "3      Andorra      7.20           EUR          1.27                  2.7   \n",
       "4       Angola     40.73           AOA          5.52                 51.6   \n",
       "\n",
       "   life_expectancy official_language  physicians_per_thousand        lat  \\\n",
       "0             64.5            Pashto                     0.28  33.939110   \n",
       "1             78.5          Albanian                     1.20  41.153332   \n",
       "2             76.7            Arabic                     1.72  28.033886   \n",
       "3              NaN           Catalan                     3.33  42.506285   \n",
       "4             60.8        Portuguese                     0.21 -11.202692   \n",
       "\n",
       "        long  ...  gross_domestic_product_usd(b)  \\\n",
       "0  67.709953  ...                        19.1014   \n",
       "1  20.168331  ...                        15.2781   \n",
       "2   1.659626  ...                       169.9882   \n",
       "3   1.521801  ...                         3.1541   \n",
       "4  17.873887  ...                        94.6354   \n",
       "\n",
       "   primary_education_enrollment_pct  secondary_education_enrollment_pct  \\\n",
       "0                             104.0                                 9.7   \n",
       "1                             107.0                                55.0   \n",
       "2                             109.9                                51.4   \n",
       "3                             106.4                                 NaN   \n",
       "4                             113.5                                 9.3   \n",
       "\n",
       "   tax_revenue_pct  unemployment_rt  continent  covid_cases  covid_deaths  \\\n",
       "0              9.3            11.12       Asia      46498.0        1774.0   \n",
       "1             18.6            12.33     Europe      37625.0         798.0   \n",
       "2             37.2            11.70     Africa      83199.0        2431.0   \n",
       "3              NaN              NaN     Europe       6712.0          76.0   \n",
       "4              9.2             6.89     Africa      15139.0         348.0   \n",
       "\n",
       "  total_area_km2  average_population  \n",
       "0       652000.0            38673974  \n",
       "1        28748.0             2865340  \n",
       "2      2381741.0            43621542  \n",
       "3          468.0               77230  \n",
       "4      1246620.0            32569069  \n",
       "\n",
       "[5 rows x 23 columns]"
      ]
     },
     "execution_count": 5,
     "metadata": {},
     "output_type": "execute_result"
    }
   ],
   "source": [
    "# load data\n",
    "country_df=pd.read_csv('05_country_merged_clean.csv',sep=',',encoding='utf-8')\n",
    "\n",
    "# display\n",
    "country_df.head()"
   ]
  },
  {
   "cell_type": "code",
   "execution_count": 6,
   "id": "0311be6a-04e8-4474-8a23-95cd80698db3",
   "metadata": {},
   "outputs": [],
   "source": [
    "# List of countries to drop \n",
    "countries_to_drop = ['North Macedonia', 'Palestinian National Authority', 'Vatican City'] \n",
    "\n",
    "# Drop rows with these countries \n",
    "country_df=country_df[~country_df['country'].isin(countries_to_drop)]"
   ]
  },
  {
   "cell_type": "markdown",
   "id": "77db3c40-996f-48b5-9b30-d774540f393b",
   "metadata": {},
   "source": [
    "---\n",
    "### Null Display\n",
    "* determine how many nulls are in each column, should they be imputed or dropped?\n",
    "    * we will look up data for nulls on WHO website and create a map to impute (world health organization) and other various reputable sources\n",
    "* nulls columns:\n",
    "  - [x] lat\n",
    "  - [x] long\n",
    "  - [x] infant mortality_rt\n",
    "  - [x] birth_rt\n",
    "  - [x] ~ag_land_pct~\n",
    "      * we can drop this because we have data to compute a new column ourselves\n",
    "  - [x] physicians per thousand\n",
    "  - [x] fertility rt\n",
    "  - [x] primary education enrollment_pct\n",
    "  - [x] life expectancy\n",
    "  - [x] secondary_education_enrollment_pct\n",
    "  - [x] ~currency_code~\n",
    "      * drop \n",
    "  - [x] ~consuer_price_index~\n",
    "      * drop\n",
    "  - [x] unemployment_rt\n",
    "  - [x] tax_revenue_pct\n",
    "  - [x] continent\n",
    "  - [x] ~official language~\n",
    "      * drop\n",
    "  - [x] covid deaths\n",
    "  - [x] covid cases\n",
    "        "
   ]
  },
  {
   "cell_type": "code",
   "execution_count": 8,
   "id": "7e12c991-3987-42e7-8dc4-c039331af301",
   "metadata": {},
   "outputs": [
    {
     "name": "stdout",
     "output_type": "stream",
     "text": [
      "Country Data Nulls\n"
     ]
    },
    {
     "data": {
      "text/html": [
       "<div>\n",
       "<style scoped>\n",
       "    .dataframe tbody tr th:only-of-type {\n",
       "        vertical-align: middle;\n",
       "    }\n",
       "\n",
       "    .dataframe tbody tr th {\n",
       "        vertical-align: top;\n",
       "    }\n",
       "\n",
       "    .dataframe thead th {\n",
       "        text-align: right;\n",
       "    }\n",
       "</style>\n",
       "<table border=\"1\" class=\"dataframe\">\n",
       "  <thead>\n",
       "    <tr style=\"text-align: right;\">\n",
       "      <th></th>\n",
       "      <th>Nulls</th>\n",
       "      <th>Nulls (%)</th>\n",
       "    </tr>\n",
       "  </thead>\n",
       "  <tbody>\n",
       "    <tr>\n",
       "      <th>tax_revenue_pct</th>\n",
       "      <td>23</td>\n",
       "      <td>11.98</td>\n",
       "    </tr>\n",
       "    <tr>\n",
       "      <th>unemployment_rt</th>\n",
       "      <td>16</td>\n",
       "      <td>8.33</td>\n",
       "    </tr>\n",
       "    <tr>\n",
       "      <th>consumer_price_index</th>\n",
       "      <td>14</td>\n",
       "      <td>7.29</td>\n",
       "    </tr>\n",
       "    <tr>\n",
       "      <th>currency_code</th>\n",
       "      <td>14</td>\n",
       "      <td>7.29</td>\n",
       "    </tr>\n",
       "    <tr>\n",
       "      <th>secondary_education_enrollment_pct</th>\n",
       "      <td>9</td>\n",
       "      <td>4.69</td>\n",
       "    </tr>\n",
       "    <tr>\n",
       "      <th>covid_cases</th>\n",
       "      <td>6</td>\n",
       "      <td>3.12</td>\n",
       "    </tr>\n",
       "    <tr>\n",
       "      <th>continent</th>\n",
       "      <td>6</td>\n",
       "      <td>3.12</td>\n",
       "    </tr>\n",
       "    <tr>\n",
       "      <th>covid_deaths</th>\n",
       "      <td>6</td>\n",
       "      <td>3.12</td>\n",
       "    </tr>\n",
       "    <tr>\n",
       "      <th>total_area_km2</th>\n",
       "      <td>6</td>\n",
       "      <td>3.12</td>\n",
       "    </tr>\n",
       "    <tr>\n",
       "      <th>life_expectancy</th>\n",
       "      <td>5</td>\n",
       "      <td>2.60</td>\n",
       "    </tr>\n",
       "    <tr>\n",
       "      <th>official_language</th>\n",
       "      <td>5</td>\n",
       "      <td>2.60</td>\n",
       "    </tr>\n",
       "    <tr>\n",
       "      <th>primary_education_enrollment_pct</th>\n",
       "      <td>4</td>\n",
       "      <td>2.08</td>\n",
       "    </tr>\n",
       "    <tr>\n",
       "      <th>ag_land_pct</th>\n",
       "      <td>4</td>\n",
       "      <td>2.08</td>\n",
       "    </tr>\n",
       "    <tr>\n",
       "      <th>physicians_per_thousand</th>\n",
       "      <td>4</td>\n",
       "      <td>2.08</td>\n",
       "    </tr>\n",
       "    <tr>\n",
       "      <th>fertility_rt</th>\n",
       "      <td>4</td>\n",
       "      <td>2.08</td>\n",
       "    </tr>\n",
       "    <tr>\n",
       "      <th>birth_rt</th>\n",
       "      <td>3</td>\n",
       "      <td>1.56</td>\n",
       "    </tr>\n",
       "    <tr>\n",
       "      <th>infant_mortality_rt</th>\n",
       "      <td>3</td>\n",
       "      <td>1.56</td>\n",
       "    </tr>\n",
       "    <tr>\n",
       "      <th>long</th>\n",
       "      <td>1</td>\n",
       "      <td>0.52</td>\n",
       "    </tr>\n",
       "    <tr>\n",
       "      <th>lat</th>\n",
       "      <td>1</td>\n",
       "      <td>0.52</td>\n",
       "    </tr>\n",
       "    <tr>\n",
       "      <th>country</th>\n",
       "      <td>0</td>\n",
       "      <td>0.00</td>\n",
       "    </tr>\n",
       "    <tr>\n",
       "      <th>land_area_km2</th>\n",
       "      <td>0</td>\n",
       "      <td>0.00</td>\n",
       "    </tr>\n",
       "    <tr>\n",
       "      <th>gross_domestic_product_usd(b)</th>\n",
       "      <td>0</td>\n",
       "      <td>0.00</td>\n",
       "    </tr>\n",
       "    <tr>\n",
       "      <th>average_population</th>\n",
       "      <td>0</td>\n",
       "      <td>0.00</td>\n",
       "    </tr>\n",
       "  </tbody>\n",
       "</table>\n",
       "</div>"
      ],
      "text/plain": [
       "                                    Nulls  Nulls (%)\n",
       "tax_revenue_pct                        23      11.98\n",
       "unemployment_rt                        16       8.33\n",
       "consumer_price_index                   14       7.29\n",
       "currency_code                          14       7.29\n",
       "secondary_education_enrollment_pct      9       4.69\n",
       "covid_cases                             6       3.12\n",
       "continent                               6       3.12\n",
       "covid_deaths                            6       3.12\n",
       "total_area_km2                          6       3.12\n",
       "life_expectancy                         5       2.60\n",
       "official_language                       5       2.60\n",
       "primary_education_enrollment_pct        4       2.08\n",
       "ag_land_pct                             4       2.08\n",
       "physicians_per_thousand                 4       2.08\n",
       "fertility_rt                            4       2.08\n",
       "birth_rt                                3       1.56\n",
       "infant_mortality_rt                     3       1.56\n",
       "long                                    1       0.52\n",
       "lat                                     1       0.52\n",
       "country                                 0       0.00\n",
       "land_area_km2                           0       0.00\n",
       "gross_domestic_product_usd(b)           0       0.00\n",
       "average_population                      0       0.00"
      ]
     },
     "metadata": {},
     "output_type": "display_data"
    }
   ],
   "source": [
    "# function for nulls, returns a dataframe with nulls\n",
    "def df_nulls(df):\n",
    "    null_counts=country_df.isna().sum()\n",
    "    null_percentages=round((df.isna().sum()/df.shape[0])*100,2)\n",
    "\n",
    "    # data frame for results\n",
    "    nulls_df=pd.DataFrame({\n",
    "        'Nulls':null_counts,\n",
    "        'Nulls (%)':null_percentages\n",
    "    })\n",
    "    \n",
    "    # display\n",
    "    print(\"Country Data Nulls\")\n",
    "    display(nulls_df.sort_values(by='Nulls',ascending=False))\n",
    "\n",
    "df_nulls(country_df)"
   ]
  },
  {
   "cell_type": "code",
   "execution_count": 9,
   "id": "dbe82e50-ffdd-406b-a699-1eab37f94beb",
   "metadata": {},
   "outputs": [],
   "source": [
    "# function for displaying all nulls in a column\n",
    "def find_nulls(df,column):\n",
    "    return df[df[column].isnull()][['country',column]]\n",
    "\n",
    "def null_list(df,column):\n",
    "    return df[df[column].isnull()]['country'].tolist()\n",
    "    \n",
    "# function to display column format\n",
    "def col_format(df,col):\n",
    "    format_list=df[col].unique()\n",
    "    return format_list[0:5]"
   ]
  },
  {
   "cell_type": "markdown",
   "id": "0d60e4e9-c8ad-45f4-a7c4-2893c255e550",
   "metadata": {},
   "source": [
    "---\n",
    "**latitude**"
   ]
  },
  {
   "cell_type": "code",
   "execution_count": 11,
   "id": "3ce9561b-1088-4cff-b785-de2014c4dda4",
   "metadata": {},
   "outputs": [
    {
     "data": {
      "text/html": [
       "<div>\n",
       "<style scoped>\n",
       "    .dataframe tbody tr th:only-of-type {\n",
       "        vertical-align: middle;\n",
       "    }\n",
       "\n",
       "    .dataframe tbody tr th {\n",
       "        vertical-align: top;\n",
       "    }\n",
       "\n",
       "    .dataframe thead th {\n",
       "        text-align: right;\n",
       "    }\n",
       "</style>\n",
       "<table border=\"1\" class=\"dataframe\">\n",
       "  <thead>\n",
       "    <tr style=\"text-align: right;\">\n",
       "      <th></th>\n",
       "      <th>country</th>\n",
       "      <th>lat</th>\n",
       "    </tr>\n",
       "  </thead>\n",
       "  <tbody>\n",
       "    <tr>\n",
       "      <th>150</th>\n",
       "      <td>Sao Tome and Principe</td>\n",
       "      <td>NaN</td>\n",
       "    </tr>\n",
       "  </tbody>\n",
       "</table>\n",
       "</div>"
      ],
      "text/plain": [
       "                   country  lat\n",
       "150  Sao Tome and Principe  NaN"
      ]
     },
     "execution_count": 11,
     "metadata": {},
     "output_type": "execute_result"
    }
   ],
   "source": [
    "# find countrys with null\n",
    "find_nulls(country_df,'lat')"
   ]
  },
  {
   "cell_type": "code",
   "execution_count": 12,
   "id": "3ddea425-27da-4c09-875a-06267643bae5",
   "metadata": {},
   "outputs": [
    {
     "data": {
      "text/plain": [
       "array([ 33.93911 ,  41.153332,  28.033886,  42.506285, -11.202692])"
      ]
     },
     "execution_count": 12,
     "metadata": {},
     "output_type": "execute_result"
    }
   ],
   "source": [
    "# find format\n",
    "col_format(country_df,'lat')"
   ]
  },
  {
   "cell_type": "markdown",
   "id": "1075156a-2831-42ef-96fd-f7cc3c7ee373",
   "metadata": {},
   "source": [
    "**latitude found on [GPS Coordinates](https://gps-coordinates.org/sao-tome-and-principe-latitude.php)**\n",
    "- 0.203237"
   ]
  },
  {
   "cell_type": "code",
   "execution_count": 14,
   "id": "868bd07b-7b95-4e2d-a00e-f29982f42c44",
   "metadata": {},
   "outputs": [
    {
     "data": {
      "text/html": [
       "<div>\n",
       "<style scoped>\n",
       "    .dataframe tbody tr th:only-of-type {\n",
       "        vertical-align: middle;\n",
       "    }\n",
       "\n",
       "    .dataframe tbody tr th {\n",
       "        vertical-align: top;\n",
       "    }\n",
       "\n",
       "    .dataframe thead th {\n",
       "        text-align: right;\n",
       "    }\n",
       "</style>\n",
       "<table border=\"1\" class=\"dataframe\">\n",
       "  <thead>\n",
       "    <tr style=\"text-align: right;\">\n",
       "      <th></th>\n",
       "      <th>country</th>\n",
       "      <th>lat</th>\n",
       "    </tr>\n",
       "  </thead>\n",
       "  <tbody>\n",
       "  </tbody>\n",
       "</table>\n",
       "</div>"
      ],
      "text/plain": [
       "Empty DataFrame\n",
       "Columns: [country, lat]\n",
       "Index: []"
      ]
     },
     "execution_count": 14,
     "metadata": {},
     "output_type": "execute_result"
    }
   ],
   "source": [
    "# impute\n",
    "country_df.loc[country_df['country'] == 'Sao Tome and Principe', 'lat'] = 0.203237\n",
    "\n",
    "# review\n",
    "find_nulls(country_df,'lat')"
   ]
  },
  {
   "cell_type": "markdown",
   "id": "c74ab729-c9a9-4678-9873-4f5896eae18c",
   "metadata": {},
   "source": [
    "---\n",
    "**longitude**"
   ]
  },
  {
   "cell_type": "code",
   "execution_count": 16,
   "id": "c2eca89a-d0dd-4008-8c9a-756cda972390",
   "metadata": {},
   "outputs": [
    {
     "data": {
      "text/html": [
       "<div>\n",
       "<style scoped>\n",
       "    .dataframe tbody tr th:only-of-type {\n",
       "        vertical-align: middle;\n",
       "    }\n",
       "\n",
       "    .dataframe tbody tr th {\n",
       "        vertical-align: top;\n",
       "    }\n",
       "\n",
       "    .dataframe thead th {\n",
       "        text-align: right;\n",
       "    }\n",
       "</style>\n",
       "<table border=\"1\" class=\"dataframe\">\n",
       "  <thead>\n",
       "    <tr style=\"text-align: right;\">\n",
       "      <th></th>\n",
       "      <th>country</th>\n",
       "      <th>long</th>\n",
       "    </tr>\n",
       "  </thead>\n",
       "  <tbody>\n",
       "    <tr>\n",
       "      <th>150</th>\n",
       "      <td>Sao Tome and Principe</td>\n",
       "      <td>NaN</td>\n",
       "    </tr>\n",
       "  </tbody>\n",
       "</table>\n",
       "</div>"
      ],
      "text/plain": [
       "                   country  long\n",
       "150  Sao Tome and Principe   NaN"
      ]
     },
     "execution_count": 16,
     "metadata": {},
     "output_type": "execute_result"
    }
   ],
   "source": [
    "# find countrys with null\n",
    "find_nulls(country_df,'long')"
   ]
  },
  {
   "cell_type": "markdown",
   "id": "8942e71a-924f-4c84-bc9a-43889b0caf67",
   "metadata": {},
   "source": [
    "**longitude found on [GPS Coordinates](https://gps-coordinates.org/sao-tome-and-principe-latitude.php)**\n",
    "- 6.608357"
   ]
  },
  {
   "cell_type": "code",
   "execution_count": 18,
   "id": "80bbf52b-77a4-4b6e-8706-6ee583da2df5",
   "metadata": {},
   "outputs": [
    {
     "data": {
      "text/html": [
       "<div>\n",
       "<style scoped>\n",
       "    .dataframe tbody tr th:only-of-type {\n",
       "        vertical-align: middle;\n",
       "    }\n",
       "\n",
       "    .dataframe tbody tr th {\n",
       "        vertical-align: top;\n",
       "    }\n",
       "\n",
       "    .dataframe thead th {\n",
       "        text-align: right;\n",
       "    }\n",
       "</style>\n",
       "<table border=\"1\" class=\"dataframe\">\n",
       "  <thead>\n",
       "    <tr style=\"text-align: right;\">\n",
       "      <th></th>\n",
       "      <th>country</th>\n",
       "      <th>long</th>\n",
       "    </tr>\n",
       "  </thead>\n",
       "  <tbody>\n",
       "  </tbody>\n",
       "</table>\n",
       "</div>"
      ],
      "text/plain": [
       "Empty DataFrame\n",
       "Columns: [country, long]\n",
       "Index: []"
      ]
     },
     "execution_count": 18,
     "metadata": {},
     "output_type": "execute_result"
    }
   ],
   "source": [
    "# impute\n",
    "country_df.loc[country_df['country'] == 'Sao Tome and Principe', 'long'] = 6.608357\n",
    "\n",
    "# review\n",
    "find_nulls(country_df,'long')"
   ]
  },
  {
   "cell_type": "markdown",
   "id": "6636a0f3-44cd-4209-8331-7d728cf3a326",
   "metadata": {},
   "source": [
    "---\n",
    "**infant mortality rate found on [CIA World Factbook](https://www.cia.gov/the-world-factbook/field/infant-mortality-rate/country-comparison/)**"
   ]
  },
  {
   "cell_type": "code",
   "execution_count": 20,
   "id": "13b87062-d02b-49cc-bc93-38bfb6548782",
   "metadata": {},
   "outputs": [
    {
     "data": {
      "text/html": [
       "<div>\n",
       "<style scoped>\n",
       "    .dataframe tbody tr th:only-of-type {\n",
       "        vertical-align: middle;\n",
       "    }\n",
       "\n",
       "    .dataframe tbody tr th {\n",
       "        vertical-align: top;\n",
       "    }\n",
       "\n",
       "    .dataframe thead th {\n",
       "        text-align: right;\n",
       "    }\n",
       "</style>\n",
       "<table border=\"1\" class=\"dataframe\">\n",
       "  <thead>\n",
       "    <tr style=\"text-align: right;\">\n",
       "      <th></th>\n",
       "      <th>country</th>\n",
       "      <th>infant_mortality_rt</th>\n",
       "    </tr>\n",
       "  </thead>\n",
       "  <tbody>\n",
       "    <tr>\n",
       "      <th>56</th>\n",
       "      <td>Eswatini</td>\n",
       "      <td>NaN</td>\n",
       "    </tr>\n",
       "    <tr>\n",
       "      <th>98</th>\n",
       "      <td>Liechtenstein</td>\n",
       "      <td>NaN</td>\n",
       "    </tr>\n",
       "    <tr>\n",
       "      <th>120</th>\n",
       "      <td>Nauru</td>\n",
       "      <td>NaN</td>\n",
       "    </tr>\n",
       "  </tbody>\n",
       "</table>\n",
       "</div>"
      ],
      "text/plain": [
       "           country  infant_mortality_rt\n",
       "56        Eswatini                  NaN\n",
       "98   Liechtenstein                  NaN\n",
       "120          Nauru                  NaN"
      ]
     },
     "execution_count": 20,
     "metadata": {},
     "output_type": "execute_result"
    }
   ],
   "source": [
    "# find nulls\n",
    "find_nulls(country_df,'infant_mortality_rt')"
   ]
  },
  {
   "cell_type": "code",
   "execution_count": 21,
   "id": "a6ff8c63-687d-4c1a-b43c-5ac8b95dec1f",
   "metadata": {},
   "outputs": [
    {
     "data": {
      "text/plain": [
       "array([47.9,  7.8, 20.1,  2.7, 51.6])"
      ]
     },
     "execution_count": 21,
     "metadata": {},
     "output_type": "execute_result"
    }
   ],
   "source": [
    "# get current format\n",
    "col_format(country_df,'infant_mortality_rt')"
   ]
  },
  {
   "cell_type": "code",
   "execution_count": 22,
   "id": "a5f35290-bf54-46c5-a1dd-eeaea56179bf",
   "metadata": {},
   "outputs": [
    {
     "data": {
      "text/html": [
       "<div>\n",
       "<style scoped>\n",
       "    .dataframe tbody tr th:only-of-type {\n",
       "        vertical-align: middle;\n",
       "    }\n",
       "\n",
       "    .dataframe tbody tr th {\n",
       "        vertical-align: top;\n",
       "    }\n",
       "\n",
       "    .dataframe thead th {\n",
       "        text-align: right;\n",
       "    }\n",
       "</style>\n",
       "<table border=\"1\" class=\"dataframe\">\n",
       "  <thead>\n",
       "    <tr style=\"text-align: right;\">\n",
       "      <th></th>\n",
       "      <th>country</th>\n",
       "      <th>infant_mortality_rt</th>\n",
       "    </tr>\n",
       "  </thead>\n",
       "  <tbody>\n",
       "  </tbody>\n",
       "</table>\n",
       "</div>"
      ],
      "text/plain": [
       "Empty DataFrame\n",
       "Columns: [country, infant_mortality_rt]\n",
       "Index: []"
      ]
     },
     "execution_count": 22,
     "metadata": {},
     "output_type": "execute_result"
    }
   ],
   "source": [
    "# define infant morality rates\n",
    "impute_mortality_rts={\n",
    "    'Eswatini':36.7,\n",
    "    'Liechtenstein':3.9,\n",
    "    'Nauru':7.6\n",
    "}\n",
    "\n",
    "# impute\n",
    "for country,rt in impute_mortality_rts.items():\n",
    "    country_df.loc[country_df['country']==country,'infant_mortality_rt']=rt\n",
    "\n",
    "# review\n",
    "find_nulls(country_df,'infant_mortality_rt')"
   ]
  },
  {
   "cell_type": "markdown",
   "id": "172c697c-4a60-4dff-92ef-0e4632cca894",
   "metadata": {},
   "source": [
    "---\n",
    "**birth rate found on [CIA World Factbook](https://www.cia.gov/the-world-factbook/field/birth-rate/country-comparison/)**"
   ]
  },
  {
   "cell_type": "code",
   "execution_count": 24,
   "id": "a55b50fe-523e-4659-b258-e7d166cff78a",
   "metadata": {},
   "outputs": [
    {
     "data": {
      "text/html": [
       "<div>\n",
       "<style scoped>\n",
       "    .dataframe tbody tr th:only-of-type {\n",
       "        vertical-align: middle;\n",
       "    }\n",
       "\n",
       "    .dataframe tbody tr th {\n",
       "        vertical-align: top;\n",
       "    }\n",
       "\n",
       "    .dataframe thead th {\n",
       "        text-align: right;\n",
       "    }\n",
       "</style>\n",
       "<table border=\"1\" class=\"dataframe\">\n",
       "  <thead>\n",
       "    <tr style=\"text-align: right;\">\n",
       "      <th></th>\n",
       "      <th>country</th>\n",
       "      <th>birth_rt</th>\n",
       "    </tr>\n",
       "  </thead>\n",
       "  <tbody>\n",
       "    <tr>\n",
       "      <th>56</th>\n",
       "      <td>Eswatini</td>\n",
       "      <td>NaN</td>\n",
       "    </tr>\n",
       "    <tr>\n",
       "      <th>120</th>\n",
       "      <td>Nauru</td>\n",
       "      <td>NaN</td>\n",
       "    </tr>\n",
       "    <tr>\n",
       "      <th>181</th>\n",
       "      <td>Tuvalu</td>\n",
       "      <td>NaN</td>\n",
       "    </tr>\n",
       "  </tbody>\n",
       "</table>\n",
       "</div>"
      ],
      "text/plain": [
       "      country  birth_rt\n",
       "56   Eswatini       NaN\n",
       "120     Nauru       NaN\n",
       "181    Tuvalu       NaN"
      ]
     },
     "execution_count": 24,
     "metadata": {},
     "output_type": "execute_result"
    }
   ],
   "source": [
    "# find nulls\n",
    "find_nulls(country_df,'birth_rt')"
   ]
  },
  {
   "cell_type": "code",
   "execution_count": 25,
   "id": "143819c6-c5ab-4d60-b10e-d540f718dbc2",
   "metadata": {},
   "outputs": [
    {
     "data": {
      "text/plain": [
       "array([32.49, 11.78, 24.28,  7.2 , 40.73])"
      ]
     },
     "execution_count": 25,
     "metadata": {},
     "output_type": "execute_result"
    }
   ],
   "source": [
    "# get format\n",
    "col_format(country_df,'birth_rt')"
   ]
  },
  {
   "cell_type": "code",
   "execution_count": 26,
   "id": "a162bb02-d4bf-4754-a321-39d346a9965a",
   "metadata": {},
   "outputs": [
    {
     "data": {
      "text/html": [
       "<div>\n",
       "<style scoped>\n",
       "    .dataframe tbody tr th:only-of-type {\n",
       "        vertical-align: middle;\n",
       "    }\n",
       "\n",
       "    .dataframe tbody tr th {\n",
       "        vertical-align: top;\n",
       "    }\n",
       "\n",
       "    .dataframe thead th {\n",
       "        text-align: right;\n",
       "    }\n",
       "</style>\n",
       "<table border=\"1\" class=\"dataframe\">\n",
       "  <thead>\n",
       "    <tr style=\"text-align: right;\">\n",
       "      <th></th>\n",
       "      <th>country</th>\n",
       "      <th>birth_rt</th>\n",
       "    </tr>\n",
       "  </thead>\n",
       "  <tbody>\n",
       "  </tbody>\n",
       "</table>\n",
       "</div>"
      ],
      "text/plain": [
       "Empty DataFrame\n",
       "Columns: [country, birth_rt]\n",
       "Index: []"
      ]
     },
     "execution_count": 26,
     "metadata": {},
     "output_type": "execute_result"
    }
   ],
   "source": [
    "# define rates\n",
    "impute_birth_rts={\n",
    "    'Eswatini':22.3,\n",
    "    'Nauru':20.2,\n",
    "    'Tuvalu':22,\n",
    "}\n",
    "\n",
    "# impute\n",
    "for country,rt in impute_birth_rts.items():\n",
    "    country_df.loc[country_df['country']==country,'birth_rt']=rt\n",
    "\n",
    "# review\n",
    "find_nulls(country_df,'birth_rt')"
   ]
  },
  {
   "cell_type": "markdown",
   "id": "41e14fae-5f18-4984-8d4c-3604161fcb61",
   "metadata": {},
   "source": [
    "---\n",
    "**fertility rate found on [CIA World Factbook](https://www.cia.gov/the-world-factbook/field/total-fertility-rate/country-comparison/)**"
   ]
  },
  {
   "cell_type": "code",
   "execution_count": 28,
   "id": "eb0a0a87-65b7-4069-9ddf-50e55955dbee",
   "metadata": {},
   "outputs": [
    {
     "data": {
      "text/html": [
       "<div>\n",
       "<style scoped>\n",
       "    .dataframe tbody tr th:only-of-type {\n",
       "        vertical-align: middle;\n",
       "    }\n",
       "\n",
       "    .dataframe tbody tr th {\n",
       "        vertical-align: top;\n",
       "    }\n",
       "\n",
       "    .dataframe thead th {\n",
       "        text-align: right;\n",
       "    }\n",
       "</style>\n",
       "<table border=\"1\" class=\"dataframe\">\n",
       "  <thead>\n",
       "    <tr style=\"text-align: right;\">\n",
       "      <th></th>\n",
       "      <th>country</th>\n",
       "      <th>fertility_rt</th>\n",
       "    </tr>\n",
       "  </thead>\n",
       "  <tbody>\n",
       "    <tr>\n",
       "      <th>56</th>\n",
       "      <td>Eswatini</td>\n",
       "      <td>NaN</td>\n",
       "    </tr>\n",
       "    <tr>\n",
       "      <th>113</th>\n",
       "      <td>Monaco</td>\n",
       "      <td>NaN</td>\n",
       "    </tr>\n",
       "    <tr>\n",
       "      <th>120</th>\n",
       "      <td>Nauru</td>\n",
       "      <td>NaN</td>\n",
       "    </tr>\n",
       "    <tr>\n",
       "      <th>181</th>\n",
       "      <td>Tuvalu</td>\n",
       "      <td>NaN</td>\n",
       "    </tr>\n",
       "  </tbody>\n",
       "</table>\n",
       "</div>"
      ],
      "text/plain": [
       "      country  fertility_rt\n",
       "56   Eswatini           NaN\n",
       "113    Monaco           NaN\n",
       "120     Nauru           NaN\n",
       "181    Tuvalu           NaN"
      ]
     },
     "execution_count": 28,
     "metadata": {},
     "output_type": "execute_result"
    }
   ],
   "source": [
    "# find nulls\n",
    "find_nulls(country_df,'fertility_rt')"
   ]
  },
  {
   "cell_type": "code",
   "execution_count": 29,
   "id": "3e2a494e-20bd-4aed-add4-1c6f5e697c11",
   "metadata": {},
   "outputs": [
    {
     "data": {
      "text/plain": [
       "array([4.47, 1.62, 3.02, 1.27, 5.52])"
      ]
     },
     "execution_count": 29,
     "metadata": {},
     "output_type": "execute_result"
    }
   ],
   "source": [
    "# get format\n",
    "col_format(country_df,'fertility_rt')"
   ]
  },
  {
   "cell_type": "code",
   "execution_count": 30,
   "id": "ef4799b3-523e-43b7-b6b1-b46cbb6e9016",
   "metadata": {},
   "outputs": [
    {
     "data": {
      "text/html": [
       "<div>\n",
       "<style scoped>\n",
       "    .dataframe tbody tr th:only-of-type {\n",
       "        vertical-align: middle;\n",
       "    }\n",
       "\n",
       "    .dataframe tbody tr th {\n",
       "        vertical-align: top;\n",
       "    }\n",
       "\n",
       "    .dataframe thead th {\n",
       "        text-align: right;\n",
       "    }\n",
       "</style>\n",
       "<table border=\"1\" class=\"dataframe\">\n",
       "  <thead>\n",
       "    <tr style=\"text-align: right;\">\n",
       "      <th></th>\n",
       "      <th>country</th>\n",
       "      <th>fertility_rt</th>\n",
       "    </tr>\n",
       "  </thead>\n",
       "  <tbody>\n",
       "  </tbody>\n",
       "</table>\n",
       "</div>"
      ],
      "text/plain": [
       "Empty DataFrame\n",
       "Columns: [country, fertility_rt]\n",
       "Index: []"
      ]
     },
     "execution_count": 30,
     "metadata": {},
     "output_type": "execute_result"
    }
   ],
   "source": [
    "# define rates\n",
    "impute_fertility_rts={\n",
    "    'Eswatini':2.37,\n",
    "    'Monaco':1.54,\n",
    "    'Nauru':2.55,\n",
    "    'Tuvalu':2.78\n",
    "}\n",
    "\n",
    "# impute\n",
    "for country,rt in impute_fertility_rts.items():\n",
    "    country_df.loc[country_df['country']==country,'fertility_rt']=rt\n",
    "\n",
    "# review\n",
    "find_nulls(country_df,'fertility_rt')"
   ]
  },
  {
   "cell_type": "markdown",
   "id": "cad249c2-880c-41dc-ba9d-32890a9253e4",
   "metadata": {},
   "source": [
    "---\n",
    "**unemployment rate found on [CIA World Factbook](https://www.cia.gov/the-world-factbook/field/unemployment-rate/country-comparison/)**"
   ]
  },
  {
   "cell_type": "code",
   "execution_count": 32,
   "id": "d10c087a-a534-42d6-9ace-9ca7b5a3e765",
   "metadata": {},
   "outputs": [
    {
     "data": {
      "text/html": [
       "<div>\n",
       "<style scoped>\n",
       "    .dataframe tbody tr th:only-of-type {\n",
       "        vertical-align: middle;\n",
       "    }\n",
       "\n",
       "    .dataframe tbody tr th {\n",
       "        vertical-align: top;\n",
       "    }\n",
       "\n",
       "    .dataframe thead th {\n",
       "        text-align: right;\n",
       "    }\n",
       "</style>\n",
       "<table border=\"1\" class=\"dataframe\">\n",
       "  <thead>\n",
       "    <tr style=\"text-align: right;\">\n",
       "      <th></th>\n",
       "      <th>country</th>\n",
       "      <th>unemployment_rt</th>\n",
       "    </tr>\n",
       "  </thead>\n",
       "  <tbody>\n",
       "    <tr>\n",
       "      <th>3</th>\n",
       "      <td>Andorra</td>\n",
       "      <td>NaN</td>\n",
       "    </tr>\n",
       "    <tr>\n",
       "      <th>5</th>\n",
       "      <td>Antigua and Barbuda</td>\n",
       "      <td>NaN</td>\n",
       "    </tr>\n",
       "    <tr>\n",
       "      <th>48</th>\n",
       "      <td>Dominica</td>\n",
       "      <td>NaN</td>\n",
       "    </tr>\n",
       "    <tr>\n",
       "      <th>56</th>\n",
       "      <td>Eswatini</td>\n",
       "      <td>NaN</td>\n",
       "    </tr>\n",
       "    <tr>\n",
       "      <th>67</th>\n",
       "      <td>Grenada</td>\n",
       "      <td>NaN</td>\n",
       "    </tr>\n",
       "    <tr>\n",
       "      <th>89</th>\n",
       "      <td>Kiribati</td>\n",
       "      <td>NaN</td>\n",
       "    </tr>\n",
       "    <tr>\n",
       "      <th>98</th>\n",
       "      <td>Liechtenstein</td>\n",
       "      <td>NaN</td>\n",
       "    </tr>\n",
       "    <tr>\n",
       "      <th>107</th>\n",
       "      <td>Marshall Islands</td>\n",
       "      <td>NaN</td>\n",
       "    </tr>\n",
       "    <tr>\n",
       "      <th>111</th>\n",
       "      <td>Micronesia</td>\n",
       "      <td>NaN</td>\n",
       "    </tr>\n",
       "    <tr>\n",
       "      <th>113</th>\n",
       "      <td>Monaco</td>\n",
       "      <td>NaN</td>\n",
       "    </tr>\n",
       "    <tr>\n",
       "      <th>120</th>\n",
       "      <td>Nauru</td>\n",
       "      <td>NaN</td>\n",
       "    </tr>\n",
       "    <tr>\n",
       "      <th>132</th>\n",
       "      <td>Palau</td>\n",
       "      <td>NaN</td>\n",
       "    </tr>\n",
       "    <tr>\n",
       "      <th>145</th>\n",
       "      <td>Saint Kitts and Nevis</td>\n",
       "      <td>NaN</td>\n",
       "    </tr>\n",
       "    <tr>\n",
       "      <th>149</th>\n",
       "      <td>San Marino</td>\n",
       "      <td>NaN</td>\n",
       "    </tr>\n",
       "    <tr>\n",
       "      <th>154</th>\n",
       "      <td>Seychelles</td>\n",
       "      <td>NaN</td>\n",
       "    </tr>\n",
       "    <tr>\n",
       "      <th>181</th>\n",
       "      <td>Tuvalu</td>\n",
       "      <td>NaN</td>\n",
       "    </tr>\n",
       "  </tbody>\n",
       "</table>\n",
       "</div>"
      ],
      "text/plain": [
       "                   country  unemployment_rt\n",
       "3                  Andorra              NaN\n",
       "5      Antigua and Barbuda              NaN\n",
       "48                Dominica              NaN\n",
       "56                Eswatini              NaN\n",
       "67                 Grenada              NaN\n",
       "89                Kiribati              NaN\n",
       "98           Liechtenstein              NaN\n",
       "107       Marshall Islands              NaN\n",
       "111             Micronesia              NaN\n",
       "113                 Monaco              NaN\n",
       "120                  Nauru              NaN\n",
       "132                  Palau              NaN\n",
       "145  Saint Kitts and Nevis              NaN\n",
       "149             San Marino              NaN\n",
       "154             Seychelles              NaN\n",
       "181                 Tuvalu              NaN"
      ]
     },
     "execution_count": 32,
     "metadata": {},
     "output_type": "execute_result"
    }
   ],
   "source": [
    "# find nulls\n",
    "find_nulls(country_df,'unemployment_rt')"
   ]
  },
  {
   "cell_type": "code",
   "execution_count": 33,
   "id": "bc63e6c7-8b61-461b-ae4b-028cb3f9d518",
   "metadata": {},
   "outputs": [
    {
     "data": {
      "text/plain": [
       "array([11.12, 12.33, 11.7 ,   nan,  6.89])"
      ]
     },
     "execution_count": 33,
     "metadata": {},
     "output_type": "execute_result"
    }
   ],
   "source": [
    "# get format\n",
    "col_format(country_df,'unemployment_rt')"
   ]
  },
  {
   "cell_type": "code",
   "execution_count": 34,
   "id": "5106d54b-3305-4c97-8948-cbaeb165fc81",
   "metadata": {},
   "outputs": [
    {
     "data": {
      "text/html": [
       "<div>\n",
       "<style scoped>\n",
       "    .dataframe tbody tr th:only-of-type {\n",
       "        vertical-align: middle;\n",
       "    }\n",
       "\n",
       "    .dataframe tbody tr th {\n",
       "        vertical-align: top;\n",
       "    }\n",
       "\n",
       "    .dataframe thead th {\n",
       "        text-align: right;\n",
       "    }\n",
       "</style>\n",
       "<table border=\"1\" class=\"dataframe\">\n",
       "  <thead>\n",
       "    <tr style=\"text-align: right;\">\n",
       "      <th></th>\n",
       "      <th>country</th>\n",
       "      <th>unemployment_rt</th>\n",
       "    </tr>\n",
       "  </thead>\n",
       "  <tbody>\n",
       "  </tbody>\n",
       "</table>\n",
       "</div>"
      ],
      "text/plain": [
       "Empty DataFrame\n",
       "Columns: [country, unemployment_rt]\n",
       "Index: []"
      ]
     },
     "execution_count": 34,
     "metadata": {},
     "output_type": "execute_result"
    }
   ],
   "source": [
    "# dictionary\n",
    "impute_ue_rts={\n",
    "    'Andorra': 3.7,\n",
    "    'Antigua and Barbuda': 11,\n",
    "    'Dominica': 11,\n",
    "    'Eswatini': 37.64,\n",
    "    'Grenada': 24,\n",
    "    'Kiribati': 8.6,\n",
    "    'Liechtenstein': 2.4,\n",
    "    'Marshall Islands': 9.8,\n",
    "    'Micronesia': 8.9, \n",
    "    'Monaco': 6.3,\n",
    "    'Nauru': 5.1,\n",
    "    'Palau': 1.7, \n",
    "    'San Marino': 8.1, \n",
    "    'Seychelles': 3, \n",
    "    'Tuvalu': 11,\n",
    "    'Saint Kitts and Nevis':5.09\n",
    "}\n",
    "\n",
    "# impute\n",
    "for country,rt in impute_ue_rts.items():\n",
    "    country_df.loc[country_df['country']==country,'unemployment_rt']=rt\n",
    "\n",
    "# review\n",
    "find_nulls(country_df,'unemployment_rt')"
   ]
  },
  {
   "cell_type": "markdown",
   "id": "7dbb558e-c341-477d-b93c-ec3fb6ca27af",
   "metadata": {},
   "source": [
    "---\n",
    "**tax revenue percentage found on [CIA World Factbook](https://www.cia.gov/the-world-factbook/field/taxes-and-other-revenues/)**"
   ]
  },
  {
   "cell_type": "code",
   "execution_count": 36,
   "id": "0baba1aa-a49e-4ca2-b9be-2306e2396877",
   "metadata": {},
   "outputs": [
    {
     "data": {
      "text/html": [
       "<div>\n",
       "<style scoped>\n",
       "    .dataframe tbody tr th:only-of-type {\n",
       "        vertical-align: middle;\n",
       "    }\n",
       "\n",
       "    .dataframe tbody tr th {\n",
       "        vertical-align: top;\n",
       "    }\n",
       "\n",
       "    .dataframe thead th {\n",
       "        text-align: right;\n",
       "    }\n",
       "</style>\n",
       "<table border=\"1\" class=\"dataframe\">\n",
       "  <thead>\n",
       "    <tr style=\"text-align: right;\">\n",
       "      <th></th>\n",
       "      <th>country</th>\n",
       "      <th>tax_revenue_pct</th>\n",
       "    </tr>\n",
       "  </thead>\n",
       "  <tbody>\n",
       "    <tr>\n",
       "      <th>3</th>\n",
       "      <td>Andorra</td>\n",
       "      <td>NaN</td>\n",
       "    </tr>\n",
       "    <tr>\n",
       "      <th>24</th>\n",
       "      <td>Brunei</td>\n",
       "      <td>NaN</td>\n",
       "    </tr>\n",
       "    <tr>\n",
       "      <th>34</th>\n",
       "      <td>Chad</td>\n",
       "      <td>NaN</td>\n",
       "    </tr>\n",
       "    <tr>\n",
       "      <th>38</th>\n",
       "      <td>Comoros</td>\n",
       "      <td>NaN</td>\n",
       "    </tr>\n",
       "    <tr>\n",
       "      <th>42</th>\n",
       "      <td>Cuba</td>\n",
       "      <td>NaN</td>\n",
       "    </tr>\n",
       "    <tr>\n",
       "      <th>47</th>\n",
       "      <td>Djibouti</td>\n",
       "      <td>NaN</td>\n",
       "    </tr>\n",
       "    <tr>\n",
       "      <th>50</th>\n",
       "      <td>Ecuador</td>\n",
       "      <td>NaN</td>\n",
       "    </tr>\n",
       "    <tr>\n",
       "      <th>54</th>\n",
       "      <td>Eritrea</td>\n",
       "      <td>NaN</td>\n",
       "    </tr>\n",
       "    <tr>\n",
       "      <th>71</th>\n",
       "      <td>Guyana</td>\n",
       "      <td>NaN</td>\n",
       "    </tr>\n",
       "    <tr>\n",
       "      <th>72</th>\n",
       "      <td>Haiti</td>\n",
       "      <td>NaN</td>\n",
       "    </tr>\n",
       "    <tr>\n",
       "      <th>97</th>\n",
       "      <td>Libya</td>\n",
       "      <td>NaN</td>\n",
       "    </tr>\n",
       "    <tr>\n",
       "      <th>98</th>\n",
       "      <td>Liechtenstein</td>\n",
       "      <td>NaN</td>\n",
       "    </tr>\n",
       "    <tr>\n",
       "      <th>108</th>\n",
       "      <td>Mauritania</td>\n",
       "      <td>NaN</td>\n",
       "    </tr>\n",
       "    <tr>\n",
       "      <th>113</th>\n",
       "      <td>Monaco</td>\n",
       "      <td>NaN</td>\n",
       "    </tr>\n",
       "    <tr>\n",
       "      <th>115</th>\n",
       "      <td>Montenegro</td>\n",
       "      <td>NaN</td>\n",
       "    </tr>\n",
       "    <tr>\n",
       "      <th>120</th>\n",
       "      <td>Nauru</td>\n",
       "      <td>NaN</td>\n",
       "    </tr>\n",
       "    <tr>\n",
       "      <th>127</th>\n",
       "      <td>North Korea</td>\n",
       "      <td>NaN</td>\n",
       "    </tr>\n",
       "    <tr>\n",
       "      <th>134</th>\n",
       "      <td>Panama</td>\n",
       "      <td>NaN</td>\n",
       "    </tr>\n",
       "    <tr>\n",
       "      <th>163</th>\n",
       "      <td>South Sudan</td>\n",
       "      <td>NaN</td>\n",
       "    </tr>\n",
       "    <tr>\n",
       "      <th>180</th>\n",
       "      <td>Turkmenistan</td>\n",
       "      <td>NaN</td>\n",
       "    </tr>\n",
       "    <tr>\n",
       "      <th>181</th>\n",
       "      <td>Tuvalu</td>\n",
       "      <td>NaN</td>\n",
       "    </tr>\n",
       "    <tr>\n",
       "      <th>190</th>\n",
       "      <td>Venezuela</td>\n",
       "      <td>NaN</td>\n",
       "    </tr>\n",
       "    <tr>\n",
       "      <th>192</th>\n",
       "      <td>Yemen</td>\n",
       "      <td>NaN</td>\n",
       "    </tr>\n",
       "  </tbody>\n",
       "</table>\n",
       "</div>"
      ],
      "text/plain": [
       "           country  tax_revenue_pct\n",
       "3          Andorra              NaN\n",
       "24          Brunei              NaN\n",
       "34            Chad              NaN\n",
       "38         Comoros              NaN\n",
       "42            Cuba              NaN\n",
       "47        Djibouti              NaN\n",
       "50         Ecuador              NaN\n",
       "54         Eritrea              NaN\n",
       "71          Guyana              NaN\n",
       "72           Haiti              NaN\n",
       "97           Libya              NaN\n",
       "98   Liechtenstein              NaN\n",
       "108     Mauritania              NaN\n",
       "113         Monaco              NaN\n",
       "115     Montenegro              NaN\n",
       "120          Nauru              NaN\n",
       "127    North Korea              NaN\n",
       "134         Panama              NaN\n",
       "163    South Sudan              NaN\n",
       "180   Turkmenistan              NaN\n",
       "181         Tuvalu              NaN\n",
       "190      Venezuela              NaN\n",
       "192          Yemen              NaN"
      ]
     },
     "execution_count": 36,
     "metadata": {},
     "output_type": "execute_result"
    }
   ],
   "source": [
    "# find nulls\n",
    "find_nulls(country_df,'tax_revenue_pct')"
   ]
  },
  {
   "cell_type": "code",
   "execution_count": 37,
   "id": "b560a328-b9b1-4716-bf85-e60577b0005c",
   "metadata": {},
   "outputs": [
    {
     "data": {
      "text/plain": [
       "['Andorra',\n",
       " 'Brunei',\n",
       " 'Chad',\n",
       " 'Comoros',\n",
       " 'Cuba',\n",
       " 'Djibouti',\n",
       " 'Ecuador',\n",
       " 'Eritrea',\n",
       " 'Guyana',\n",
       " 'Haiti',\n",
       " 'Libya',\n",
       " 'Liechtenstein',\n",
       " 'Mauritania',\n",
       " 'Monaco',\n",
       " 'Montenegro',\n",
       " 'Nauru',\n",
       " 'North Korea',\n",
       " 'Panama',\n",
       " 'South Sudan',\n",
       " 'Turkmenistan',\n",
       " 'Tuvalu',\n",
       " 'Venezuela',\n",
       " 'Yemen']"
      ]
     },
     "execution_count": 37,
     "metadata": {},
     "output_type": "execute_result"
    }
   ],
   "source": [
    "# null list\n",
    "null_list(country_df,'tax_revenue_pct')"
   ]
  },
  {
   "cell_type": "code",
   "execution_count": 38,
   "id": "c2c5ebbf-bb4b-48be-b6c4-038bfffdd721",
   "metadata": {},
   "outputs": [
    {
     "data": {
      "text/plain": [
       "array([ 9.3, 18.6, 37.2,  nan,  9.2])"
      ]
     },
     "execution_count": 38,
     "metadata": {},
     "output_type": "execute_result"
    }
   ],
   "source": [
    "# get format\n",
    "col_format(country_df,'tax_revenue_pct')"
   ]
  },
  {
   "cell_type": "code",
   "execution_count": 39,
   "id": "634c84ed-60f4-44d4-90db-a2bf8ee2baf9",
   "metadata": {},
   "outputs": [
    {
     "data": {
      "text/html": [
       "<div>\n",
       "<style scoped>\n",
       "    .dataframe tbody tr th:only-of-type {\n",
       "        vertical-align: middle;\n",
       "    }\n",
       "\n",
       "    .dataframe tbody tr th {\n",
       "        vertical-align: top;\n",
       "    }\n",
       "\n",
       "    .dataframe thead th {\n",
       "        text-align: right;\n",
       "    }\n",
       "</style>\n",
       "<table border=\"1\" class=\"dataframe\">\n",
       "  <thead>\n",
       "    <tr style=\"text-align: right;\">\n",
       "      <th></th>\n",
       "      <th>country</th>\n",
       "      <th>tax_revenue_pct</th>\n",
       "    </tr>\n",
       "  </thead>\n",
       "  <tbody>\n",
       "  </tbody>\n",
       "</table>\n",
       "</div>"
      ],
      "text/plain": [
       "Empty DataFrame\n",
       "Columns: [country, tax_revenue_pct]\n",
       "Index: []"
      ]
     },
     "execution_count": 39,
     "metadata": {},
     "output_type": "execute_result"
    }
   ],
   "source": [
    "# define tax revenues\n",
    "impute_tax_revenue_percentages={\n",
    "    'Andorra': 69,\n",
    "    'Brunei': 18.5,\n",
    "    'Chad': 13.08,\n",
    "    'Comoros': 14.22,\n",
    "    'Cuba': 58.1,\n",
    "    'Djibouti': 18.95,\n",
    "    'Ecuador': 13.0,\n",
    "    'Eritrea': 34.9,\n",
    "    'Guyana': 15.37,\n",
    "    'Haiti': 6.24,\n",
    "    'Libya': 51.6,\n",
    "    'Liechtenstein': 52.3,\n",
    "    'Mauritania': 27.4,\n",
    "    'Monaco': 14.4,\n",
    "    'Montenegro': 37.2,\n",
    "    'Nauru': 44.3,\n",
    "    'Panama': 7.5,\n",
    "    'South Sudan': 8.5,\n",
    "    'Turkmenistan': 14.9,\n",
    "    'Tuvalu': 18.5,\n",
    "    'Venezuela': 5.96,\n",
    "    'Yemen': 9.58,\n",
    "    'North Korea':0 # abolished taxing\n",
    "    }\n",
    "\n",
    "# impute\n",
    "for country,pct in impute_tax_revenue_percentages.items():\n",
    "    country_df.loc[country_df['country']==country,'tax_revenue_pct']=pct\n",
    "\n",
    "# review\n",
    "find_nulls(country_df,'tax_revenue_pct')\n"
   ]
  },
  {
   "cell_type": "markdown",
   "id": "d851c97f-fafc-4c10-9a9c-35cb53949866",
   "metadata": {},
   "source": [
    "---\n",
    "**life expectancy found on [CIA World Factbook](https://www.cia.gov/the-world-factbook/field/life-expectancy-at-birth/country-comparison/)**"
   ]
  },
  {
   "cell_type": "code",
   "execution_count": 41,
   "id": "00503df0-ba58-460c-a3db-0c6c4983a259",
   "metadata": {},
   "outputs": [
    {
     "data": {
      "text/html": [
       "<div>\n",
       "<style scoped>\n",
       "    .dataframe tbody tr th:only-of-type {\n",
       "        vertical-align: middle;\n",
       "    }\n",
       "\n",
       "    .dataframe tbody tr th {\n",
       "        vertical-align: top;\n",
       "    }\n",
       "\n",
       "    .dataframe thead th {\n",
       "        text-align: right;\n",
       "    }\n",
       "</style>\n",
       "<table border=\"1\" class=\"dataframe\">\n",
       "  <thead>\n",
       "    <tr style=\"text-align: right;\">\n",
       "      <th></th>\n",
       "      <th>country</th>\n",
       "      <th>life_expectancy</th>\n",
       "    </tr>\n",
       "  </thead>\n",
       "  <tbody>\n",
       "    <tr>\n",
       "      <th>3</th>\n",
       "      <td>Andorra</td>\n",
       "      <td>NaN</td>\n",
       "    </tr>\n",
       "    <tr>\n",
       "      <th>56</th>\n",
       "      <td>Eswatini</td>\n",
       "      <td>NaN</td>\n",
       "    </tr>\n",
       "    <tr>\n",
       "      <th>113</th>\n",
       "      <td>Monaco</td>\n",
       "      <td>NaN</td>\n",
       "    </tr>\n",
       "    <tr>\n",
       "      <th>120</th>\n",
       "      <td>Nauru</td>\n",
       "      <td>NaN</td>\n",
       "    </tr>\n",
       "    <tr>\n",
       "      <th>181</th>\n",
       "      <td>Tuvalu</td>\n",
       "      <td>NaN</td>\n",
       "    </tr>\n",
       "  </tbody>\n",
       "</table>\n",
       "</div>"
      ],
      "text/plain": [
       "      country  life_expectancy\n",
       "3     Andorra              NaN\n",
       "56   Eswatini              NaN\n",
       "113    Monaco              NaN\n",
       "120     Nauru              NaN\n",
       "181    Tuvalu              NaN"
      ]
     },
     "execution_count": 41,
     "metadata": {},
     "output_type": "execute_result"
    }
   ],
   "source": [
    "# find nulls\n",
    "find_nulls(country_df,'life_expectancy')"
   ]
  },
  {
   "cell_type": "code",
   "execution_count": 42,
   "id": "643840ef-af2b-4e3f-b702-f6d8618579a7",
   "metadata": {},
   "outputs": [
    {
     "data": {
      "text/plain": [
       "['Andorra', 'Eswatini', 'Monaco', 'Nauru', 'Tuvalu']"
      ]
     },
     "execution_count": 42,
     "metadata": {},
     "output_type": "execute_result"
    }
   ],
   "source": [
    "# list of countries\n",
    "null_list(country_df,'life_expectancy')"
   ]
  },
  {
   "cell_type": "code",
   "execution_count": 43,
   "id": "0af4951d-5d32-4a4e-8cfe-65c0d95362b7",
   "metadata": {},
   "outputs": [
    {
     "data": {
      "text/plain": [
       "array([64.5, 78.5, 76.7,  nan, 60.8])"
      ]
     },
     "execution_count": 43,
     "metadata": {},
     "output_type": "execute_result"
    }
   ],
   "source": [
    "# get format\n",
    "col_format(country_df,'life_expectancy')"
   ]
  },
  {
   "cell_type": "code",
   "execution_count": 44,
   "id": "dbc288d7-9590-440c-b9da-ab97e2d7843d",
   "metadata": {},
   "outputs": [
    {
     "data": {
      "text/html": [
       "<div>\n",
       "<style scoped>\n",
       "    .dataframe tbody tr th:only-of-type {\n",
       "        vertical-align: middle;\n",
       "    }\n",
       "\n",
       "    .dataframe tbody tr th {\n",
       "        vertical-align: top;\n",
       "    }\n",
       "\n",
       "    .dataframe thead th {\n",
       "        text-align: right;\n",
       "    }\n",
       "</style>\n",
       "<table border=\"1\" class=\"dataframe\">\n",
       "  <thead>\n",
       "    <tr style=\"text-align: right;\">\n",
       "      <th></th>\n",
       "      <th>country</th>\n",
       "      <th>life_expectancy</th>\n",
       "    </tr>\n",
       "  </thead>\n",
       "  <tbody>\n",
       "  </tbody>\n",
       "</table>\n",
       "</div>"
      ],
      "text/plain": [
       "Empty DataFrame\n",
       "Columns: [country, life_expectancy]\n",
       "Index: []"
      ]
     },
     "execution_count": 44,
     "metadata": {},
     "output_type": "execute_result"
    }
   ],
   "source": [
    "# define list to impute\n",
    "impute_life_expectancies={\n",
    "    'Andorra':83.8,\n",
    "    'Eswatini':60.7,\n",
    "    'Monaco':89.8,\n",
    "    'Nauru':68.6,\n",
    "    'Tuvalu':69\n",
    "}\n",
    "\n",
    "# impute\n",
    "for country,expectancy in impute_life_expectancies.items():\n",
    "    country_df.loc[country_df['country']==country,'life_expectancy']=expectancy\n",
    "\n",
    "# review\n",
    "find_nulls(country_df,'life_expectancy')"
   ]
  },
  {
   "cell_type": "markdown",
   "id": "6125249d-a624-45e3-aa09-df4e5a221a14",
   "metadata": {},
   "source": [
    "---\n",
    "**physicians per thousand found on [CIA World Factbook](country_df,'physicians_per_thousand')**"
   ]
  },
  {
   "cell_type": "code",
   "execution_count": 46,
   "id": "df9b96fb-0498-4fe7-b391-adde6ad534a7",
   "metadata": {},
   "outputs": [
    {
     "data": {
      "text/html": [
       "<div>\n",
       "<style scoped>\n",
       "    .dataframe tbody tr th:only-of-type {\n",
       "        vertical-align: middle;\n",
       "    }\n",
       "\n",
       "    .dataframe tbody tr th {\n",
       "        vertical-align: top;\n",
       "    }\n",
       "\n",
       "    .dataframe thead th {\n",
       "        text-align: right;\n",
       "    }\n",
       "</style>\n",
       "<table border=\"1\" class=\"dataframe\">\n",
       "  <thead>\n",
       "    <tr style=\"text-align: right;\">\n",
       "      <th></th>\n",
       "      <th>country</th>\n",
       "      <th>physicians_per_thousand</th>\n",
       "    </tr>\n",
       "  </thead>\n",
       "  <tbody>\n",
       "    <tr>\n",
       "      <th>56</th>\n",
       "      <td>Eswatini</td>\n",
       "      <td>NaN</td>\n",
       "    </tr>\n",
       "    <tr>\n",
       "      <th>98</th>\n",
       "      <td>Liechtenstein</td>\n",
       "      <td>NaN</td>\n",
       "    </tr>\n",
       "    <tr>\n",
       "      <th>120</th>\n",
       "      <td>Nauru</td>\n",
       "      <td>NaN</td>\n",
       "    </tr>\n",
       "    <tr>\n",
       "      <th>163</th>\n",
       "      <td>South Sudan</td>\n",
       "      <td>NaN</td>\n",
       "    </tr>\n",
       "  </tbody>\n",
       "</table>\n",
       "</div>"
      ],
      "text/plain": [
       "           country  physicians_per_thousand\n",
       "56        Eswatini                      NaN\n",
       "98   Liechtenstein                      NaN\n",
       "120          Nauru                      NaN\n",
       "163    South Sudan                      NaN"
      ]
     },
     "execution_count": 46,
     "metadata": {},
     "output_type": "execute_result"
    }
   ],
   "source": [
    "# find nulls\n",
    "find_nulls(country_df,'physicians_per_thousand')"
   ]
  },
  {
   "cell_type": "code",
   "execution_count": 47,
   "id": "d72926d3-23ab-412b-ac85-ea12813f0d74",
   "metadata": {},
   "outputs": [
    {
     "data": {
      "text/plain": [
       "['Eswatini', 'Liechtenstein', 'Nauru', 'South Sudan']"
      ]
     },
     "execution_count": 47,
     "metadata": {},
     "output_type": "execute_result"
    }
   ],
   "source": [
    "# list of nulls\n",
    "null_list(country_df,'physicians_per_thousand')"
   ]
  },
  {
   "cell_type": "code",
   "execution_count": 48,
   "id": "51573f7b-bd48-4de1-8a6c-b0dcb817fa66",
   "metadata": {},
   "outputs": [
    {
     "data": {
      "text/plain": [
       "array([0.28, 1.2 , 1.72, 3.33, 0.21])"
      ]
     },
     "execution_count": 48,
     "metadata": {},
     "output_type": "execute_result"
    }
   ],
   "source": [
    "# get format\n",
    "col_format(country_df,'physicians_per_thousand')"
   ]
  },
  {
   "cell_type": "code",
   "execution_count": 49,
   "id": "632b635c-60b0-4d41-8a07-6d3ba2951dc5",
   "metadata": {},
   "outputs": [
    {
     "data": {
      "text/html": [
       "<div>\n",
       "<style scoped>\n",
       "    .dataframe tbody tr th:only-of-type {\n",
       "        vertical-align: middle;\n",
       "    }\n",
       "\n",
       "    .dataframe tbody tr th {\n",
       "        vertical-align: top;\n",
       "    }\n",
       "\n",
       "    .dataframe thead th {\n",
       "        text-align: right;\n",
       "    }\n",
       "</style>\n",
       "<table border=\"1\" class=\"dataframe\">\n",
       "  <thead>\n",
       "    <tr style=\"text-align: right;\">\n",
       "      <th></th>\n",
       "      <th>country</th>\n",
       "      <th>physicians_per_thousand</th>\n",
       "    </tr>\n",
       "  </thead>\n",
       "  <tbody>\n",
       "  </tbody>\n",
       "</table>\n",
       "</div>"
      ],
      "text/plain": [
       "Empty DataFrame\n",
       "Columns: [country, physicians_per_thousand]\n",
       "Index: []"
      ]
     },
     "execution_count": 49,
     "metadata": {},
     "output_type": "execute_result"
    }
   ],
   "source": [
    "# define dictionary to impute\n",
    "impute_phys_per_thousand={\n",
    "    'Eswatini':0.14,\n",
    "    'Liechtenstein':2.5,\n",
    "    'Nauru':1.35,\n",
    "    'South Sudan':0.04\n",
    "}\n",
    "\n",
    "# impute\n",
    "for country,stat in impute_phys_per_thousand.items():\n",
    "    country_df.loc[country_df['country']==country,'physicians_per_thousand']=stat\n",
    "\n",
    "# review\n",
    "find_nulls(country_df,'physicians_per_thousand')\n"
   ]
  },
  {
   "cell_type": "markdown",
   "id": "80e238aa-c791-4540-aed7-f628ca97dc38",
   "metadata": {},
   "source": [
    "---\n",
    "**primary education enrollment percentage found on [Our World in Data](https://ourworldindata.org/grapher/total-net-enrollment-rate-in-primary-education?tab=table&time=2021..latest)**"
   ]
  },
  {
   "cell_type": "code",
   "execution_count": 51,
   "id": "955a9d0e-d0b3-4585-b131-b1971db9d93c",
   "metadata": {},
   "outputs": [
    {
     "data": {
      "text/html": [
       "<div>\n",
       "<style scoped>\n",
       "    .dataframe tbody tr th:only-of-type {\n",
       "        vertical-align: middle;\n",
       "    }\n",
       "\n",
       "    .dataframe tbody tr th {\n",
       "        vertical-align: top;\n",
       "    }\n",
       "\n",
       "    .dataframe thead th {\n",
       "        text-align: right;\n",
       "    }\n",
       "</style>\n",
       "<table border=\"1\" class=\"dataframe\">\n",
       "  <thead>\n",
       "    <tr style=\"text-align: right;\">\n",
       "      <th></th>\n",
       "      <th>country</th>\n",
       "      <th>primary_education_enrollment_pct</th>\n",
       "    </tr>\n",
       "  </thead>\n",
       "  <tbody>\n",
       "    <tr>\n",
       "      <th>21</th>\n",
       "      <td>Bosnia and Herzegovina</td>\n",
       "      <td>NaN</td>\n",
       "    </tr>\n",
       "    <tr>\n",
       "      <th>56</th>\n",
       "      <td>Eswatini</td>\n",
       "      <td>NaN</td>\n",
       "    </tr>\n",
       "    <tr>\n",
       "      <th>113</th>\n",
       "      <td>Monaco</td>\n",
       "      <td>NaN</td>\n",
       "    </tr>\n",
       "    <tr>\n",
       "      <th>120</th>\n",
       "      <td>Nauru</td>\n",
       "      <td>NaN</td>\n",
       "    </tr>\n",
       "  </tbody>\n",
       "</table>\n",
       "</div>"
      ],
      "text/plain": [
       "                    country  primary_education_enrollment_pct\n",
       "21   Bosnia and Herzegovina                               NaN\n",
       "56                 Eswatini                               NaN\n",
       "113                  Monaco                               NaN\n",
       "120                   Nauru                               NaN"
      ]
     },
     "execution_count": 51,
     "metadata": {},
     "output_type": "execute_result"
    }
   ],
   "source": [
    "# find nulls\n",
    "find_nulls(country_df,'primary_education_enrollment_pct')"
   ]
  },
  {
   "cell_type": "code",
   "execution_count": 52,
   "id": "b70df2fe-b3b8-44ae-8fb3-46e2a577ee56",
   "metadata": {},
   "outputs": [
    {
     "data": {
      "text/plain": [
       "['Bosnia and Herzegovina', 'Eswatini', 'Monaco', 'Nauru']"
      ]
     },
     "execution_count": 52,
     "metadata": {},
     "output_type": "execute_result"
    }
   ],
   "source": [
    "# list\n",
    "null_list(country_df,'primary_education_enrollment_pct')"
   ]
  },
  {
   "cell_type": "code",
   "execution_count": 53,
   "id": "0cfe3c93-f4a8-41c7-bedb-85cba1a250a7",
   "metadata": {},
   "outputs": [
    {
     "data": {
      "text/plain": [
       "array([104. , 107. , 109.9, 106.4, 113.5])"
      ]
     },
     "execution_count": 53,
     "metadata": {},
     "output_type": "execute_result"
    }
   ],
   "source": [
    "# format\n",
    "col_format(country_df,'primary_education_enrollment_pct')"
   ]
  },
  {
   "cell_type": "code",
   "execution_count": 54,
   "id": "b95ac0ec-aa76-4d2c-890b-82f258a41181",
   "metadata": {},
   "outputs": [
    {
     "data": {
      "text/html": [
       "<div>\n",
       "<style scoped>\n",
       "    .dataframe tbody tr th:only-of-type {\n",
       "        vertical-align: middle;\n",
       "    }\n",
       "\n",
       "    .dataframe tbody tr th {\n",
       "        vertical-align: top;\n",
       "    }\n",
       "\n",
       "    .dataframe thead th {\n",
       "        text-align: right;\n",
       "    }\n",
       "</style>\n",
       "<table border=\"1\" class=\"dataframe\">\n",
       "  <thead>\n",
       "    <tr style=\"text-align: right;\">\n",
       "      <th></th>\n",
       "      <th>country</th>\n",
       "      <th>primary_education_enrollment_pct</th>\n",
       "    </tr>\n",
       "  </thead>\n",
       "  <tbody>\n",
       "  </tbody>\n",
       "</table>\n",
       "</div>"
      ],
      "text/plain": [
       "Empty DataFrame\n",
       "Columns: [country, primary_education_enrollment_pct]\n",
       "Index: []"
      ]
     },
     "execution_count": 54,
     "metadata": {},
     "output_type": "execute_result"
    }
   ],
   "source": [
    "# define dictionary to impute\n",
    "prim_enrollment_pct={\n",
    "    'Bosnia and Herzegovina':84.4,\n",
    "    'Eswatini':89.5,\n",
    "    'Monaco':97.9,\n",
    "    'Nauru':96.3\n",
    "}\n",
    "\n",
    "# impute\n",
    "for country,pct in prim_enrollment_pct.items():\n",
    "    country_df.loc[country_df['country']==country,'primary_education_enrollment_pct']=pct\n",
    "\n",
    "# review\n",
    "find_nulls(country_df,'primary_education_enrollment_pct')"
   ]
  },
  {
   "cell_type": "markdown",
   "id": "210307c1-fa90-425b-9197-649902228044",
   "metadata": {},
   "source": [
    "---\n",
    "**secondary education enrollment percentage found on [Our World in Data](https://ourworldindata.org/grapher/total-net-enrollment-rate-in-primary-education?tab=table&time=2021..latest)**"
   ]
  },
  {
   "cell_type": "code",
   "execution_count": 56,
   "id": "5c1ae8c8-a302-4ca2-82fb-89edb149112f",
   "metadata": {},
   "outputs": [
    {
     "data": {
      "text/html": [
       "<div>\n",
       "<style scoped>\n",
       "    .dataframe tbody tr th:only-of-type {\n",
       "        vertical-align: middle;\n",
       "    }\n",
       "\n",
       "    .dataframe tbody tr th {\n",
       "        vertical-align: top;\n",
       "    }\n",
       "\n",
       "    .dataframe thead th {\n",
       "        text-align: right;\n",
       "    }\n",
       "</style>\n",
       "<table border=\"1\" class=\"dataframe\">\n",
       "  <thead>\n",
       "    <tr style=\"text-align: right;\">\n",
       "      <th></th>\n",
       "      <th>country</th>\n",
       "      <th>secondary_education_enrollment_pct</th>\n",
       "    </tr>\n",
       "  </thead>\n",
       "  <tbody>\n",
       "    <tr>\n",
       "      <th>3</th>\n",
       "      <td>Andorra</td>\n",
       "      <td>NaN</td>\n",
       "    </tr>\n",
       "    <tr>\n",
       "      <th>20</th>\n",
       "      <td>Bolivia</td>\n",
       "      <td>NaN</td>\n",
       "    </tr>\n",
       "    <tr>\n",
       "      <th>56</th>\n",
       "      <td>Eswatini</td>\n",
       "      <td>NaN</td>\n",
       "    </tr>\n",
       "    <tr>\n",
       "      <th>89</th>\n",
       "      <td>Kiribati</td>\n",
       "      <td>NaN</td>\n",
       "    </tr>\n",
       "    <tr>\n",
       "      <th>113</th>\n",
       "      <td>Monaco</td>\n",
       "      <td>NaN</td>\n",
       "    </tr>\n",
       "    <tr>\n",
       "      <th>120</th>\n",
       "      <td>Nauru</td>\n",
       "      <td>NaN</td>\n",
       "    </tr>\n",
       "    <tr>\n",
       "      <th>159</th>\n",
       "      <td>Solomon Islands</td>\n",
       "      <td>NaN</td>\n",
       "    </tr>\n",
       "    <tr>\n",
       "      <th>163</th>\n",
       "      <td>South Sudan</td>\n",
       "      <td>NaN</td>\n",
       "    </tr>\n",
       "    <tr>\n",
       "      <th>181</th>\n",
       "      <td>Tuvalu</td>\n",
       "      <td>NaN</td>\n",
       "    </tr>\n",
       "  </tbody>\n",
       "</table>\n",
       "</div>"
      ],
      "text/plain": [
       "             country  secondary_education_enrollment_pct\n",
       "3            Andorra                                 NaN\n",
       "20           Bolivia                                 NaN\n",
       "56          Eswatini                                 NaN\n",
       "89          Kiribati                                 NaN\n",
       "113           Monaco                                 NaN\n",
       "120            Nauru                                 NaN\n",
       "159  Solomon Islands                                 NaN\n",
       "163      South Sudan                                 NaN\n",
       "181           Tuvalu                                 NaN"
      ]
     },
     "execution_count": 56,
     "metadata": {},
     "output_type": "execute_result"
    }
   ],
   "source": [
    "# find nulls\n",
    "find_nulls(country_df,'secondary_education_enrollment_pct')"
   ]
  },
  {
   "cell_type": "code",
   "execution_count": 57,
   "id": "9c8451f3-41cf-4f72-8959-20dd9af87d11",
   "metadata": {},
   "outputs": [
    {
     "data": {
      "text/plain": [
       "['Andorra',\n",
       " 'Bolivia',\n",
       " 'Eswatini',\n",
       " 'Kiribati',\n",
       " 'Monaco',\n",
       " 'Nauru',\n",
       " 'Solomon Islands',\n",
       " 'South Sudan',\n",
       " 'Tuvalu']"
      ]
     },
     "execution_count": 57,
     "metadata": {},
     "output_type": "execute_result"
    }
   ],
   "source": [
    "# get list\n",
    "null_list(country_df,'secondary_education_enrollment_pct')"
   ]
  },
  {
   "cell_type": "code",
   "execution_count": 58,
   "id": "3b6395a1-53a6-47a2-921f-a854bb4ec27c",
   "metadata": {},
   "outputs": [
    {
     "data": {
      "text/html": [
       "<div>\n",
       "<style scoped>\n",
       "    .dataframe tbody tr th:only-of-type {\n",
       "        vertical-align: middle;\n",
       "    }\n",
       "\n",
       "    .dataframe tbody tr th {\n",
       "        vertical-align: top;\n",
       "    }\n",
       "\n",
       "    .dataframe thead th {\n",
       "        text-align: right;\n",
       "    }\n",
       "</style>\n",
       "<table border=\"1\" class=\"dataframe\">\n",
       "  <thead>\n",
       "    <tr style=\"text-align: right;\">\n",
       "      <th></th>\n",
       "      <th>country</th>\n",
       "      <th>secondary_education_enrollment_pct</th>\n",
       "    </tr>\n",
       "  </thead>\n",
       "  <tbody>\n",
       "  </tbody>\n",
       "</table>\n",
       "</div>"
      ],
      "text/plain": [
       "Empty DataFrame\n",
       "Columns: [country, secondary_education_enrollment_pct]\n",
       "Index: []"
      ]
     },
     "execution_count": 58,
     "metadata": {},
     "output_type": "execute_result"
    }
   ],
   "source": [
    "# define dictionary to impute\n",
    "impute_secd_enrollment_pct={\n",
    "    'Andorra':97.5,\n",
    "    'Bolivia':91.5,\n",
    "    'Eswatini':86,\n",
    "    'Kiribati':81.6,\n",
    "    'Monaco':154.2,\n",
    "    'Nauru':86.4,\n",
    "    'Solomon Islands':48.3,\n",
    "    'South Sudan':11.2,\n",
    "    'Tuvalu':91.3\n",
    "}\n",
    "\n",
    "# impute\n",
    "for country,pct in impute_secd_enrollment_pct.items():\n",
    "    country_df.loc[country_df['country']==country,'secondary_education_enrollment_pct']=pct\n",
    "\n",
    "# review\n",
    "find_nulls(country_df,'secondary_education_enrollment_pct')"
   ]
  },
  {
   "cell_type": "markdown",
   "id": "fd0d3c6a-8a3d-416f-9032-4ae559e733e9",
   "metadata": {},
   "source": [
    "---\n",
    "**continent**"
   ]
  },
  {
   "cell_type": "code",
   "execution_count": 60,
   "id": "c21b6de3-0bcd-41b9-9dee-56fa86463365",
   "metadata": {},
   "outputs": [
    {
     "data": {
      "text/html": [
       "<div>\n",
       "<style scoped>\n",
       "    .dataframe tbody tr th:only-of-type {\n",
       "        vertical-align: middle;\n",
       "    }\n",
       "\n",
       "    .dataframe tbody tr th {\n",
       "        vertical-align: top;\n",
       "    }\n",
       "\n",
       "    .dataframe thead th {\n",
       "        text-align: right;\n",
       "    }\n",
       "</style>\n",
       "<table border=\"1\" class=\"dataframe\">\n",
       "  <thead>\n",
       "    <tr style=\"text-align: right;\">\n",
       "      <th></th>\n",
       "      <th>country</th>\n",
       "      <th>continent</th>\n",
       "    </tr>\n",
       "  </thead>\n",
       "  <tbody>\n",
       "    <tr>\n",
       "      <th>29</th>\n",
       "      <td>Cape Verde</td>\n",
       "      <td>NaN</td>\n",
       "    </tr>\n",
       "    <tr>\n",
       "      <th>122</th>\n",
       "      <td>Netherlands</td>\n",
       "      <td>NaN</td>\n",
       "    </tr>\n",
       "    <tr>\n",
       "      <th>127</th>\n",
       "      <td>North Korea</td>\n",
       "      <td>NaN</td>\n",
       "    </tr>\n",
       "    <tr>\n",
       "      <th>145</th>\n",
       "      <td>Saint Kitts and Nevis</td>\n",
       "      <td>NaN</td>\n",
       "    </tr>\n",
       "    <tr>\n",
       "      <th>162</th>\n",
       "      <td>South Korea</td>\n",
       "      <td>NaN</td>\n",
       "    </tr>\n",
       "    <tr>\n",
       "      <th>174</th>\n",
       "      <td>East Timor</td>\n",
       "      <td>NaN</td>\n",
       "    </tr>\n",
       "  </tbody>\n",
       "</table>\n",
       "</div>"
      ],
      "text/plain": [
       "                   country continent\n",
       "29              Cape Verde       NaN\n",
       "122            Netherlands       NaN\n",
       "127            North Korea       NaN\n",
       "145  Saint Kitts and Nevis       NaN\n",
       "162            South Korea       NaN\n",
       "174             East Timor       NaN"
      ]
     },
     "execution_count": 60,
     "metadata": {},
     "output_type": "execute_result"
    }
   ],
   "source": [
    "# find nulls\n",
    "find_nulls(country_df,'continent')"
   ]
  },
  {
   "cell_type": "code",
   "execution_count": 61,
   "id": "ecf5c022-b56b-4053-be6e-cec956c191b2",
   "metadata": {},
   "outputs": [
    {
     "data": {
      "text/plain": [
       "['Cape Verde',\n",
       " 'Netherlands',\n",
       " 'North Korea',\n",
       " 'Saint Kitts and Nevis',\n",
       " 'South Korea',\n",
       " 'East Timor']"
      ]
     },
     "execution_count": 61,
     "metadata": {},
     "output_type": "execute_result"
    }
   ],
   "source": [
    "# get list\n",
    "null_list(country_df,'continent')"
   ]
  },
  {
   "cell_type": "code",
   "execution_count": 62,
   "id": "921ab13f-982e-4116-9a53-5d575bef0c77",
   "metadata": {},
   "outputs": [
    {
     "data": {
      "text/html": [
       "<div>\n",
       "<style scoped>\n",
       "    .dataframe tbody tr th:only-of-type {\n",
       "        vertical-align: middle;\n",
       "    }\n",
       "\n",
       "    .dataframe tbody tr th {\n",
       "        vertical-align: top;\n",
       "    }\n",
       "\n",
       "    .dataframe thead th {\n",
       "        text-align: right;\n",
       "    }\n",
       "</style>\n",
       "<table border=\"1\" class=\"dataframe\">\n",
       "  <thead>\n",
       "    <tr style=\"text-align: right;\">\n",
       "      <th></th>\n",
       "      <th>country</th>\n",
       "      <th>continent</th>\n",
       "    </tr>\n",
       "  </thead>\n",
       "  <tbody>\n",
       "  </tbody>\n",
       "</table>\n",
       "</div>"
      ],
      "text/plain": [
       "Empty DataFrame\n",
       "Columns: [country, continent]\n",
       "Index: []"
      ]
     },
     "execution_count": 62,
     "metadata": {},
     "output_type": "execute_result"
    }
   ],
   "source": [
    "# define dictionary to impute\n",
    "impute_continent={\n",
    "    'Cape Verde':'Africa',\n",
    "    'Netherlands':'Europe',\n",
    "    'North Korea':'Asia',\n",
    "    'Saint Kitts and Nevis':'North America',\n",
    "    'South Korea':'Asia',\n",
    "    'East Timor':'Asia'\n",
    "    \n",
    "}\n",
    "\n",
    "# impute\n",
    "for country,continent in impute_continent.items():\n",
    "    country_df.loc[country_df['country']==country,'continent']=continent\n",
    "\n",
    "# review\n",
    "find_nulls(country_df,'continent')"
   ]
  },
  {
   "cell_type": "markdown",
   "id": "35710b5a-139b-4e82-93c9-284449761e66",
   "metadata": {},
   "source": [
    "---\n",
    "**covid deaths**"
   ]
  },
  {
   "cell_type": "code",
   "execution_count": 64,
   "id": "aeeb8613-b933-487b-a129-701e2bb286b1",
   "metadata": {},
   "outputs": [
    {
     "data": {
      "text/html": [
       "<div>\n",
       "<style scoped>\n",
       "    .dataframe tbody tr th:only-of-type {\n",
       "        vertical-align: middle;\n",
       "    }\n",
       "\n",
       "    .dataframe tbody tr th {\n",
       "        vertical-align: top;\n",
       "    }\n",
       "\n",
       "    .dataframe thead th {\n",
       "        text-align: right;\n",
       "    }\n",
       "</style>\n",
       "<table border=\"1\" class=\"dataframe\">\n",
       "  <thead>\n",
       "    <tr style=\"text-align: right;\">\n",
       "      <th></th>\n",
       "      <th>country</th>\n",
       "      <th>covid_deaths</th>\n",
       "    </tr>\n",
       "  </thead>\n",
       "  <tbody>\n",
       "    <tr>\n",
       "      <th>29</th>\n",
       "      <td>Cape Verde</td>\n",
       "      <td>NaN</td>\n",
       "    </tr>\n",
       "    <tr>\n",
       "      <th>122</th>\n",
       "      <td>Netherlands</td>\n",
       "      <td>NaN</td>\n",
       "    </tr>\n",
       "    <tr>\n",
       "      <th>127</th>\n",
       "      <td>North Korea</td>\n",
       "      <td>NaN</td>\n",
       "    </tr>\n",
       "    <tr>\n",
       "      <th>145</th>\n",
       "      <td>Saint Kitts and Nevis</td>\n",
       "      <td>NaN</td>\n",
       "    </tr>\n",
       "    <tr>\n",
       "      <th>162</th>\n",
       "      <td>South Korea</td>\n",
       "      <td>NaN</td>\n",
       "    </tr>\n",
       "    <tr>\n",
       "      <th>174</th>\n",
       "      <td>East Timor</td>\n",
       "      <td>NaN</td>\n",
       "    </tr>\n",
       "  </tbody>\n",
       "</table>\n",
       "</div>"
      ],
      "text/plain": [
       "                   country  covid_deaths\n",
       "29              Cape Verde           NaN\n",
       "122            Netherlands           NaN\n",
       "127            North Korea           NaN\n",
       "145  Saint Kitts and Nevis           NaN\n",
       "162            South Korea           NaN\n",
       "174             East Timor           NaN"
      ]
     },
     "execution_count": 64,
     "metadata": {},
     "output_type": "execute_result"
    }
   ],
   "source": [
    "# find nulls\n",
    "find_nulls(country_df,'covid_deaths')"
   ]
  },
  {
   "cell_type": "code",
   "execution_count": 65,
   "id": "59c8af5c-ef26-4fd2-8406-bff0d02f2256",
   "metadata": {},
   "outputs": [
    {
     "data": {
      "text/plain": [
       "['Cape Verde',\n",
       " 'Netherlands',\n",
       " 'North Korea',\n",
       " 'Saint Kitts and Nevis',\n",
       " 'South Korea',\n",
       " 'East Timor']"
      ]
     },
     "execution_count": 65,
     "metadata": {},
     "output_type": "execute_result"
    }
   ],
   "source": [
    "# find nulls\n",
    "null_list(country_df,'covid_deaths')"
   ]
  },
  {
   "cell_type": "code",
   "execution_count": 66,
   "id": "5601ddef-fac8-46ce-b599-84b7168fcdaf",
   "metadata": {},
   "outputs": [
    {
     "data": {
      "text/html": [
       "<div>\n",
       "<style scoped>\n",
       "    .dataframe tbody tr th:only-of-type {\n",
       "        vertical-align: middle;\n",
       "    }\n",
       "\n",
       "    .dataframe tbody tr th {\n",
       "        vertical-align: top;\n",
       "    }\n",
       "\n",
       "    .dataframe thead th {\n",
       "        text-align: right;\n",
       "    }\n",
       "</style>\n",
       "<table border=\"1\" class=\"dataframe\">\n",
       "  <thead>\n",
       "    <tr style=\"text-align: right;\">\n",
       "      <th></th>\n",
       "      <th>country</th>\n",
       "      <th>covid_deaths</th>\n",
       "    </tr>\n",
       "  </thead>\n",
       "  <tbody>\n",
       "  </tbody>\n",
       "</table>\n",
       "</div>"
      ],
      "text/plain": [
       "Empty DataFrame\n",
       "Columns: [country, covid_deaths]\n",
       "Index: []"
      ]
     },
     "execution_count": 66,
     "metadata": {},
     "output_type": "execute_result"
    }
   ],
   "source": [
    "# define dictionary to impute\n",
    "impute_deaths={\n",
    "    'Cape Verde':417,\n",
    "     'Netherlands':22986,\n",
    "     'North Korea':74,\n",
    "     'Saint Kitts and Nevis':0,\n",
    "     'South Korea':20000,\n",
    "     'East Timor':0\n",
    "\n",
    "    \n",
    "}\n",
    "\n",
    "# impute\n",
    "for country,death in impute_deaths.items():\n",
    "    country_df.loc[country_df['country']==country,'covid_deaths']=death\n",
    "\n",
    "# review\n",
    "find_nulls(country_df,'covid_deaths')"
   ]
  },
  {
   "cell_type": "markdown",
   "id": "45f3a96b-e79b-4d26-a89e-770499fd1b12",
   "metadata": {},
   "source": [
    "---\n",
    "**covid cases**\n"
   ]
  },
  {
   "cell_type": "code",
   "execution_count": 68,
   "id": "3f80a0c4-0c7d-4569-b5d9-713c5a2fa447",
   "metadata": {},
   "outputs": [
    {
     "data": {
      "text/html": [
       "<div>\n",
       "<style scoped>\n",
       "    .dataframe tbody tr th:only-of-type {\n",
       "        vertical-align: middle;\n",
       "    }\n",
       "\n",
       "    .dataframe tbody tr th {\n",
       "        vertical-align: top;\n",
       "    }\n",
       "\n",
       "    .dataframe thead th {\n",
       "        text-align: right;\n",
       "    }\n",
       "</style>\n",
       "<table border=\"1\" class=\"dataframe\">\n",
       "  <thead>\n",
       "    <tr style=\"text-align: right;\">\n",
       "      <th></th>\n",
       "      <th>country</th>\n",
       "      <th>covid_cases</th>\n",
       "    </tr>\n",
       "  </thead>\n",
       "  <tbody>\n",
       "    <tr>\n",
       "      <th>29</th>\n",
       "      <td>Cape Verde</td>\n",
       "      <td>NaN</td>\n",
       "    </tr>\n",
       "    <tr>\n",
       "      <th>122</th>\n",
       "      <td>Netherlands</td>\n",
       "      <td>NaN</td>\n",
       "    </tr>\n",
       "    <tr>\n",
       "      <th>127</th>\n",
       "      <td>North Korea</td>\n",
       "      <td>NaN</td>\n",
       "    </tr>\n",
       "    <tr>\n",
       "      <th>145</th>\n",
       "      <td>Saint Kitts and Nevis</td>\n",
       "      <td>NaN</td>\n",
       "    </tr>\n",
       "    <tr>\n",
       "      <th>162</th>\n",
       "      <td>South Korea</td>\n",
       "      <td>NaN</td>\n",
       "    </tr>\n",
       "    <tr>\n",
       "      <th>174</th>\n",
       "      <td>East Timor</td>\n",
       "      <td>NaN</td>\n",
       "    </tr>\n",
       "  </tbody>\n",
       "</table>\n",
       "</div>"
      ],
      "text/plain": [
       "                   country  covid_cases\n",
       "29              Cape Verde          NaN\n",
       "122            Netherlands          NaN\n",
       "127            North Korea          NaN\n",
       "145  Saint Kitts and Nevis          NaN\n",
       "162            South Korea          NaN\n",
       "174             East Timor          NaN"
      ]
     },
     "execution_count": 68,
     "metadata": {},
     "output_type": "execute_result"
    }
   ],
   "source": [
    "# find nulls\n",
    "find_nulls(country_df,'covid_cases')"
   ]
  },
  {
   "cell_type": "code",
   "execution_count": 69,
   "id": "37de710d-9cac-4237-8d5f-48442fbda636",
   "metadata": {},
   "outputs": [
    {
     "data": {
      "text/plain": [
       "['Cape Verde',\n",
       " 'Netherlands',\n",
       " 'North Korea',\n",
       " 'Saint Kitts and Nevis',\n",
       " 'South Korea',\n",
       " 'East Timor']"
      ]
     },
     "execution_count": 69,
     "metadata": {},
     "output_type": "execute_result"
    }
   ],
   "source": [
    "# find nulls\n",
    "null_list(country_df,'covid_cases')"
   ]
  },
  {
   "cell_type": "code",
   "execution_count": 70,
   "id": "ce482d83-0751-43a6-9887-10b16500de8e",
   "metadata": {},
   "outputs": [
    {
     "data": {
      "text/html": [
       "<div>\n",
       "<style scoped>\n",
       "    .dataframe tbody tr th:only-of-type {\n",
       "        vertical-align: middle;\n",
       "    }\n",
       "\n",
       "    .dataframe tbody tr th {\n",
       "        vertical-align: top;\n",
       "    }\n",
       "\n",
       "    .dataframe thead th {\n",
       "        text-align: right;\n",
       "    }\n",
       "</style>\n",
       "<table border=\"1\" class=\"dataframe\">\n",
       "  <thead>\n",
       "    <tr style=\"text-align: right;\">\n",
       "      <th></th>\n",
       "      <th>country</th>\n",
       "      <th>covid_cases</th>\n",
       "    </tr>\n",
       "  </thead>\n",
       "  <tbody>\n",
       "  </tbody>\n",
       "</table>\n",
       "</div>"
      ],
      "text/plain": [
       "Empty DataFrame\n",
       "Columns: [country, covid_cases]\n",
       "Index: []"
      ]
     },
     "execution_count": 70,
     "metadata": {},
     "output_type": "execute_result"
    }
   ],
   "source": [
    "# define dictionary to impute\n",
    "impute_cases={\n",
    "    'Cape Verde':64474,\n",
    "    'Netherlands':8300000,\n",
    "    'North Korea':4772813,\n",
    "    'Saint Kitts and Nevis':0,\n",
    "    'South Korea':14500000,\n",
    "    'East Timor':0\n",
    "\n",
    "    \n",
    "}\n",
    "\n",
    "# impute\n",
    "for country,case in impute_cases.items():\n",
    "    country_df.loc[country_df['country']==country,'covid_cases']=case\n",
    "\n",
    "# review\n",
    "find_nulls(country_df,'covid_cases')"
   ]
  },
  {
   "cell_type": "markdown",
   "id": "8bfe8fc0-d2ff-41c6-9f56-79debbf2e03a",
   "metadata": {},
   "source": [
    "---\n",
    "**drop columns**"
   ]
  },
  {
   "cell_type": "code",
   "execution_count": 72,
   "id": "d487ad31-bc92-43b2-ae27-a76395894348",
   "metadata": {},
   "outputs": [],
   "source": [
    "country_df=country_df.drop(columns=['ag_land_pct','official_language','consumer_price_index','currency_code','total_area_km2','land_area_km2'])"
   ]
  },
  {
   "cell_type": "markdown",
   "id": "ecad768f-d4be-486f-9a29-07be67aed286",
   "metadata": {},
   "source": [
    "---\n",
    "**check nulls before saving**"
   ]
  },
  {
   "cell_type": "code",
   "execution_count": 74,
   "id": "74008c7e-2603-4c36-b0f2-15438883447f",
   "metadata": {},
   "outputs": [
    {
     "name": "stdout",
     "output_type": "stream",
     "text": [
      "Country Data Nulls\n"
     ]
    },
    {
     "data": {
      "text/html": [
       "<div>\n",
       "<style scoped>\n",
       "    .dataframe tbody tr th:only-of-type {\n",
       "        vertical-align: middle;\n",
       "    }\n",
       "\n",
       "    .dataframe tbody tr th {\n",
       "        vertical-align: top;\n",
       "    }\n",
       "\n",
       "    .dataframe thead th {\n",
       "        text-align: right;\n",
       "    }\n",
       "</style>\n",
       "<table border=\"1\" class=\"dataframe\">\n",
       "  <thead>\n",
       "    <tr style=\"text-align: right;\">\n",
       "      <th></th>\n",
       "      <th>Nulls</th>\n",
       "      <th>Nulls (%)</th>\n",
       "    </tr>\n",
       "  </thead>\n",
       "  <tbody>\n",
       "    <tr>\n",
       "      <th>country</th>\n",
       "      <td>0</td>\n",
       "      <td>0.0</td>\n",
       "    </tr>\n",
       "    <tr>\n",
       "      <th>primary_education_enrollment_pct</th>\n",
       "      <td>0</td>\n",
       "      <td>0.0</td>\n",
       "    </tr>\n",
       "    <tr>\n",
       "      <th>covid_deaths</th>\n",
       "      <td>0</td>\n",
       "      <td>0.0</td>\n",
       "    </tr>\n",
       "    <tr>\n",
       "      <th>covid_cases</th>\n",
       "      <td>0</td>\n",
       "      <td>0.0</td>\n",
       "    </tr>\n",
       "    <tr>\n",
       "      <th>continent</th>\n",
       "      <td>0</td>\n",
       "      <td>0.0</td>\n",
       "    </tr>\n",
       "    <tr>\n",
       "      <th>unemployment_rt</th>\n",
       "      <td>0</td>\n",
       "      <td>0.0</td>\n",
       "    </tr>\n",
       "    <tr>\n",
       "      <th>tax_revenue_pct</th>\n",
       "      <td>0</td>\n",
       "      <td>0.0</td>\n",
       "    </tr>\n",
       "    <tr>\n",
       "      <th>secondary_education_enrollment_pct</th>\n",
       "      <td>0</td>\n",
       "      <td>0.0</td>\n",
       "    </tr>\n",
       "    <tr>\n",
       "      <th>gross_domestic_product_usd(b)</th>\n",
       "      <td>0</td>\n",
       "      <td>0.0</td>\n",
       "    </tr>\n",
       "    <tr>\n",
       "      <th>birth_rt</th>\n",
       "      <td>0</td>\n",
       "      <td>0.0</td>\n",
       "    </tr>\n",
       "    <tr>\n",
       "      <th>long</th>\n",
       "      <td>0</td>\n",
       "      <td>0.0</td>\n",
       "    </tr>\n",
       "    <tr>\n",
       "      <th>lat</th>\n",
       "      <td>0</td>\n",
       "      <td>0.0</td>\n",
       "    </tr>\n",
       "    <tr>\n",
       "      <th>physicians_per_thousand</th>\n",
       "      <td>0</td>\n",
       "      <td>0.0</td>\n",
       "    </tr>\n",
       "    <tr>\n",
       "      <th>life_expectancy</th>\n",
       "      <td>0</td>\n",
       "      <td>0.0</td>\n",
       "    </tr>\n",
       "    <tr>\n",
       "      <th>infant_mortality_rt</th>\n",
       "      <td>0</td>\n",
       "      <td>0.0</td>\n",
       "    </tr>\n",
       "    <tr>\n",
       "      <th>fertility_rt</th>\n",
       "      <td>0</td>\n",
       "      <td>0.0</td>\n",
       "    </tr>\n",
       "    <tr>\n",
       "      <th>average_population</th>\n",
       "      <td>0</td>\n",
       "      <td>0.0</td>\n",
       "    </tr>\n",
       "  </tbody>\n",
       "</table>\n",
       "</div>"
      ],
      "text/plain": [
       "                                    Nulls  Nulls (%)\n",
       "country                                 0        0.0\n",
       "primary_education_enrollment_pct        0        0.0\n",
       "covid_deaths                            0        0.0\n",
       "covid_cases                             0        0.0\n",
       "continent                               0        0.0\n",
       "unemployment_rt                         0        0.0\n",
       "tax_revenue_pct                         0        0.0\n",
       "secondary_education_enrollment_pct      0        0.0\n",
       "gross_domestic_product_usd(b)           0        0.0\n",
       "birth_rt                                0        0.0\n",
       "long                                    0        0.0\n",
       "lat                                     0        0.0\n",
       "physicians_per_thousand                 0        0.0\n",
       "life_expectancy                         0        0.0\n",
       "infant_mortality_rt                     0        0.0\n",
       "fertility_rt                            0        0.0\n",
       "average_population                      0        0.0"
      ]
     },
     "metadata": {},
     "output_type": "display_data"
    }
   ],
   "source": [
    "df_nulls(country_df)"
   ]
  },
  {
   "cell_type": "markdown",
   "id": "0aeb36f7-3cd5-40ae-bd47-ea5a40773192",
   "metadata": {},
   "source": [
    "---\n",
    "### Save Data\n",
    "* **new csv file name**"
   ]
  },
  {
   "cell_type": "code",
   "execution_count": 76,
   "id": "2a9494c2-11d2-449a-a2f1-5d3dfd16812b",
   "metadata": {},
   "outputs": [],
   "source": [
    "# save csv file\n",
    "country_df.to_csv('06_country_merged_imputed.csv',sep=',',encoding='utf-8',index=False)"
   ]
  }
 ],
 "metadata": {
  "kernelspec": {
   "display_name": "Python 3 (ipykernel)",
   "language": "python",
   "name": "python3"
  },
  "language_info": {
   "codemirror_mode": {
    "name": "ipython",
    "version": 3
   },
   "file_extension": ".py",
   "mimetype": "text/x-python",
   "name": "python",
   "nbconvert_exporter": "python",
   "pygments_lexer": "ipython3",
   "version": "3.12.3"
  }
 },
 "nbformat": 4,
 "nbformat_minor": 5
}

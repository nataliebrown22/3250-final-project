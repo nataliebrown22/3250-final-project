{
 "cells": [
  {
   "cell_type": "markdown",
   "id": "3894ec80-aa6f-4c6f-854e-afae6fd0eb56",
   "metadata": {},
   "source": [
    "# BAIS:3250 - Final Project\n",
    "### Description of Notebook Purpose (example: Scraping API Data)\n",
    "\n",
    "**Author(s):** Natalie Brown, Max Kaiser\n",
    "\n",
    "**Date Modified:** mm-dd-yyyy (*date created:* 11-13-2024)\n",
    "\n",
    "\n",
    "**Description:** Gather data on countries via API\n",
    "\n",
    "---"
   ]
  },
  {
   "cell_type": "markdown",
   "id": "3bc16047-ce89-4d5e-86fd-ae8d98163904",
   "metadata": {},
   "source": [
    "### Import Libaries\n",
    "* **pandas:** for data frames and data cleaning functions"
   ]
  },
  {
   "cell_type": "code",
   "execution_count": 3,
   "id": "2a3c68e5-96ee-4be3-8a4a-789e24659169",
   "metadata": {},
   "outputs": [],
   "source": [
    "import pandas as pd"
   ]
  },
  {
   "cell_type": "markdown",
   "id": "d254df90-ddb0-4e62-a0c5-3fe4cbe95bc4",
   "metadata": {},
   "source": [
    "---\n",
    "### Load Data\n",
    "* **csv file name**"
   ]
  },
  {
   "cell_type": "code",
   "execution_count": 5,
   "id": "2ef15407-9fa4-4291-89bc-21e4c7a04bff",
   "metadata": {},
   "outputs": [],
   "source": [
    "# example load code\n",
    "# df=pd.read_csv('file.csv',sep=',',encoding='utf-8')"
   ]
  },
  {
   "cell_type": "markdown",
   "id": "0aeb36f7-3cd5-40ae-bd47-ea5a40773192",
   "metadata": {},
   "source": [
    "---\n",
    "### Save Data\n",
    "* **new csv file name**"
   ]
  },
  {
   "cell_type": "code",
   "execution_count": 7,
   "id": "2a9494c2-11d2-449a-a2f1-5d3dfd16812b",
   "metadata": {},
   "outputs": [],
   "source": [
    "# example save code\n",
    "# df.to_csv('new_file.csv',sep=',',encoding='utf-8')"
   ]
  }
 ],
 "metadata": {
  "kernelspec": {
   "display_name": "Python 3 (ipykernel)",
   "language": "python",
   "name": "python3"
  },
  "language_info": {
   "codemirror_mode": {
    "name": "ipython",
    "version": 3
   },
   "file_extension": ".py",
   "mimetype": "text/x-python",
   "name": "python",
   "nbconvert_exporter": "python",
   "pygments_lexer": "ipython3",
   "version": "3.12.3"
  }
 },
 "nbformat": 4,
 "nbformat_minor": 5
}

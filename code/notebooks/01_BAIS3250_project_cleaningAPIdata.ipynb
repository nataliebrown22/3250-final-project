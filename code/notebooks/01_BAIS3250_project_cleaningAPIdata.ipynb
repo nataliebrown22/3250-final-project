{
 "cells": [
  {
   "cell_type": "markdown",
   "id": "3894ec80-aa6f-4c6f-854e-afae6fd0eb56",
   "metadata": {},
   "source": [
    "# BAIS:3250 - Final Project\n",
    "### Cleaning API Data\n",
    "\n",
    "**Author(s):** Natalie Brown, Max Kaiser\n",
    "\n",
    "**Date Modified:** 11-13-2024 (*date created:* 11-13-2024)\n",
    "\n",
    "\n",
    "**Description:** Clean country data that was scraped from RESTcountries API\n",
    "\n",
    "---"
   ]
  },
  {
   "cell_type": "markdown",
   "id": "3bc16047-ce89-4d5e-86fd-ae8d98163904",
   "metadata": {},
   "source": [
    "### Import Libaries\n",
    "* **pandas:** for data frames and data cleaning functions"
   ]
  },
  {
   "cell_type": "code",
   "execution_count": 3,
   "id": "2a3c68e5-96ee-4be3-8a4a-789e24659169",
   "metadata": {},
   "outputs": [],
   "source": [
    "import pandas as pd"
   ]
  },
  {
   "cell_type": "markdown",
   "id": "d254df90-ddb0-4e62-a0c5-3fe4cbe95bc4",
   "metadata": {},
   "source": [
    "---\n",
    "### Load Data\n",
    "* **api_country_data_raw.csv**"
   ]
  },
  {
   "cell_type": "code",
   "execution_count": 5,
   "id": "2ef15407-9fa4-4291-89bc-21e4c7a04bff",
   "metadata": {},
   "outputs": [
    {
     "data": {
      "text/html": [
       "<div>\n",
       "<style scoped>\n",
       "    .dataframe tbody tr th:only-of-type {\n",
       "        vertical-align: middle;\n",
       "    }\n",
       "\n",
       "    .dataframe tbody tr th {\n",
       "        vertical-align: top;\n",
       "    }\n",
       "\n",
       "    .dataframe thead th {\n",
       "        text-align: right;\n",
       "    }\n",
       "</style>\n",
       "<table border=\"1\" class=\"dataframe\">\n",
       "  <thead>\n",
       "    <tr style=\"text-align: right;\">\n",
       "      <th></th>\n",
       "      <th>country</th>\n",
       "      <th>capital</th>\n",
       "      <th>covid_cases</th>\n",
       "      <th>covid_deaths</th>\n",
       "      <th>president_name</th>\n",
       "      <th>president_gender</th>\n",
       "      <th>president_appointment_start_date</th>\n",
       "      <th>president_appointment_end_date</th>\n",
       "      <th>continent</th>\n",
       "      <th>size</th>\n",
       "      <th>population</th>\n",
       "    </tr>\n",
       "  </thead>\n",
       "  <tbody>\n",
       "    <tr>\n",
       "      <th>0</th>\n",
       "      <td>Afghanistan</td>\n",
       "      <td>Kabul</td>\n",
       "      <td>46,498</td>\n",
       "      <td>1,774</td>\n",
       "      <td>Ashraf Ghani</td>\n",
       "      <td>Male</td>\n",
       "      <td>2020-03-09</td>\n",
       "      <td>NaN</td>\n",
       "      <td>Asia</td>\n",
       "      <td>652,000 km²</td>\n",
       "      <td>39,306,195</td>\n",
       "    </tr>\n",
       "    <tr>\n",
       "      <th>1</th>\n",
       "      <td>Albania</td>\n",
       "      <td>Tirana</td>\n",
       "      <td>37,625</td>\n",
       "      <td>798</td>\n",
       "      <td>Ilir Rexhep Meta</td>\n",
       "      <td>Male</td>\n",
       "      <td>2017-07-24</td>\n",
       "      <td>NaN</td>\n",
       "      <td>Europe</td>\n",
       "      <td>28,748 km²</td>\n",
       "      <td>2,876,490</td>\n",
       "    </tr>\n",
       "    <tr>\n",
       "      <th>2</th>\n",
       "      <td>Algeria</td>\n",
       "      <td>Algiers</td>\n",
       "      <td>83,199</td>\n",
       "      <td>2,431</td>\n",
       "      <td>NaN</td>\n",
       "      <td>NaN</td>\n",
       "      <td>NaN</td>\n",
       "      <td>NaN</td>\n",
       "      <td>Africa</td>\n",
       "      <td>2,381,741 km²</td>\n",
       "      <td>44,190,030</td>\n",
       "    </tr>\n",
       "    <tr>\n",
       "      <th>3</th>\n",
       "      <td>Andorra</td>\n",
       "      <td>Andorra la Vella</td>\n",
       "      <td>6,712</td>\n",
       "      <td>76</td>\n",
       "      <td>NaN</td>\n",
       "      <td>NaN</td>\n",
       "      <td>NaN</td>\n",
       "      <td>NaN</td>\n",
       "      <td>Europe</td>\n",
       "      <td>468 km²</td>\n",
       "      <td>77,317</td>\n",
       "    </tr>\n",
       "    <tr>\n",
       "      <th>4</th>\n",
       "      <td>Angola</td>\n",
       "      <td>Luanda</td>\n",
       "      <td>15,139</td>\n",
       "      <td>348</td>\n",
       "      <td>NaN</td>\n",
       "      <td>NaN</td>\n",
       "      <td>NaN</td>\n",
       "      <td>NaN</td>\n",
       "      <td>Africa</td>\n",
       "      <td>1,246,620 km²</td>\n",
       "      <td>33,312,843</td>\n",
       "    </tr>\n",
       "  </tbody>\n",
       "</table>\n",
       "</div>"
      ],
      "text/plain": [
       "       country           capital covid_cases covid_deaths    president_name  \\\n",
       "0  Afghanistan             Kabul      46,498        1,774      Ashraf Ghani   \n",
       "1      Albania            Tirana      37,625          798  Ilir Rexhep Meta   \n",
       "2      Algeria           Algiers      83,199        2,431               NaN   \n",
       "3      Andorra  Andorra la Vella       6,712           76               NaN   \n",
       "4       Angola            Luanda      15,139          348               NaN   \n",
       "\n",
       "  president_gender president_appointment_start_date  \\\n",
       "0             Male                       2020-03-09   \n",
       "1             Male                       2017-07-24   \n",
       "2              NaN                              NaN   \n",
       "3              NaN                              NaN   \n",
       "4              NaN                              NaN   \n",
       "\n",
       "   president_appointment_end_date continent           size  population  \n",
       "0                             NaN      Asia    652,000 km²  39,306,195  \n",
       "1                             NaN    Europe     28,748 km²   2,876,490  \n",
       "2                             NaN    Africa  2,381,741 km²  44,190,030  \n",
       "3                             NaN    Europe        468 km²      77,317  \n",
       "4                             NaN    Africa  1,246,620 km²  33,312,843  "
      ]
     },
     "execution_count": 5,
     "metadata": {},
     "output_type": "execute_result"
    }
   ],
   "source": [
    "# example load code\n",
    "country_df=pd.read_csv('api_country_data_raw.csv',sep=',',encoding='utf-8',header=0)\n",
    "\n",
    "# display head to ensure properly loaded\n",
    "country_df.head()"
   ]
  },
  {
   "cell_type": "markdown",
   "id": "86748086-2d2d-463f-8a39-eafe0517444b",
   "metadata": {},
   "source": [
    "---\n",
    "### Perform intial discovery\n",
    "* display datatypes\n",
    "* display nulls\n",
    "* display data frame size"
   ]
  },
  {
   "cell_type": "code",
   "execution_count": 7,
   "id": "1971b4a0-ea26-4e98-ae2b-c12b1a358753",
   "metadata": {},
   "outputs": [
    {
     "name": "stdout",
     "output_type": "stream",
     "text": [
      "Country Data Shape\n",
      "------------------\n",
      "Columns: 11\n",
      "Rows: 186\n"
     ]
    }
   ],
   "source": [
    "# data frame size\n",
    "shape=country_df.shape\n",
    "print(f'Country Data Shape\\n------------------\\nColumns: {shape[1]}\\nRows: {shape[0]}')"
   ]
  },
  {
   "cell_type": "code",
   "execution_count": 8,
   "id": "afa824c4-30dc-498e-80a9-3ecfb5b1e480",
   "metadata": {},
   "outputs": [
    {
     "name": "stdout",
     "output_type": "stream",
     "text": [
      "Country Data Types\n",
      "------------------\n",
      "country                              object\n",
      "capital                              object\n",
      "covid_cases                          object\n",
      "covid_deaths                         object\n",
      "president_name                       object\n",
      "president_gender                     object\n",
      "president_appointment_start_date     object\n",
      "president_appointment_end_date      float64\n",
      "continent                            object\n",
      "size                                 object\n",
      "population                           object\n",
      "dtype: object\n"
     ]
    }
   ],
   "source": [
    "# display data types\n",
    "print(f'Country Data Types\\n------------------\\n{country_df.dtypes}')"
   ]
  },
  {
   "cell_type": "code",
   "execution_count": 9,
   "id": "0b37df83-4628-40d8-b35f-016224362619",
   "metadata": {},
   "outputs": [
    {
     "name": "stdout",
     "output_type": "stream",
     "text": [
      "Country Data Nulls\n"
     ]
    },
    {
     "data": {
      "text/html": [
       "<div>\n",
       "<style scoped>\n",
       "    .dataframe tbody tr th:only-of-type {\n",
       "        vertical-align: middle;\n",
       "    }\n",
       "\n",
       "    .dataframe tbody tr th {\n",
       "        vertical-align: top;\n",
       "    }\n",
       "\n",
       "    .dataframe thead th {\n",
       "        text-align: right;\n",
       "    }\n",
       "</style>\n",
       "<table border=\"1\" class=\"dataframe\">\n",
       "  <thead>\n",
       "    <tr style=\"text-align: right;\">\n",
       "      <th></th>\n",
       "      <th>Nulls</th>\n",
       "      <th>Nulls (%)</th>\n",
       "    </tr>\n",
       "  </thead>\n",
       "  <tbody>\n",
       "    <tr>\n",
       "      <th>country</th>\n",
       "      <td>0</td>\n",
       "      <td>0.00</td>\n",
       "    </tr>\n",
       "    <tr>\n",
       "      <th>capital</th>\n",
       "      <td>0</td>\n",
       "      <td>0.00</td>\n",
       "    </tr>\n",
       "    <tr>\n",
       "      <th>covid_cases</th>\n",
       "      <td>0</td>\n",
       "      <td>0.00</td>\n",
       "    </tr>\n",
       "    <tr>\n",
       "      <th>covid_deaths</th>\n",
       "      <td>0</td>\n",
       "      <td>0.00</td>\n",
       "    </tr>\n",
       "    <tr>\n",
       "      <th>president_name</th>\n",
       "      <td>183</td>\n",
       "      <td>98.39</td>\n",
       "    </tr>\n",
       "    <tr>\n",
       "      <th>president_gender</th>\n",
       "      <td>183</td>\n",
       "      <td>98.39</td>\n",
       "    </tr>\n",
       "    <tr>\n",
       "      <th>president_appointment_start_date</th>\n",
       "      <td>183</td>\n",
       "      <td>98.39</td>\n",
       "    </tr>\n",
       "    <tr>\n",
       "      <th>president_appointment_end_date</th>\n",
       "      <td>186</td>\n",
       "      <td>100.00</td>\n",
       "    </tr>\n",
       "    <tr>\n",
       "      <th>continent</th>\n",
       "      <td>2</td>\n",
       "      <td>1.08</td>\n",
       "    </tr>\n",
       "    <tr>\n",
       "      <th>size</th>\n",
       "      <td>0</td>\n",
       "      <td>0.00</td>\n",
       "    </tr>\n",
       "    <tr>\n",
       "      <th>population</th>\n",
       "      <td>0</td>\n",
       "      <td>0.00</td>\n",
       "    </tr>\n",
       "  </tbody>\n",
       "</table>\n",
       "</div>"
      ],
      "text/plain": [
       "                                  Nulls  Nulls (%)\n",
       "country                               0       0.00\n",
       "capital                               0       0.00\n",
       "covid_cases                           0       0.00\n",
       "covid_deaths                          0       0.00\n",
       "president_name                      183      98.39\n",
       "president_gender                    183      98.39\n",
       "president_appointment_start_date    183      98.39\n",
       "president_appointment_end_date      186     100.00\n",
       "continent                             2       1.08\n",
       "size                                  0       0.00\n",
       "population                            0       0.00"
      ]
     },
     "execution_count": 9,
     "metadata": {},
     "output_type": "execute_result"
    }
   ],
   "source": [
    "# determine nulls counts and percentages\n",
    "null_counts=country_df.isna().sum()\n",
    "null_percentages=round((country_df.isna().sum()/shape[0])*100,2)\n",
    "\n",
    "# data frame for results\n",
    "nulls_df=pd.DataFrame({\n",
    "    'Nulls':null_counts,\n",
    "    'Nulls (%)':null_percentages\n",
    "})\n",
    "\n",
    "# display\n",
    "print(\"Country Data Nulls\")\n",
    "nulls_df"
   ]
  },
  {
   "cell_type": "markdown",
   "id": "ad61976c-b199-4e95-91c4-0a591a3b07cb",
   "metadata": {},
   "source": [
    "---\n",
    "### Perform Inital Cleaning\n",
    "- [x] remove columns with over 50% nulls\n",
    "- [x] fix data types\n",
    "    * displaying values first to get formatting\n",
    "    * features to be fixed (all need to be integer):\n",
    "        - [x] **covid_cases**\n",
    "        - [x] **covid_deaths**\n",
    "        - [x] **size** renamed to **area_km2**\n",
    "        - [x] **population**\n",
    "- [x] fill continent for the two countries missing"
   ]
  },
  {
   "cell_type": "markdown",
   "id": "f49e6c10-7939-4aaa-a4c0-14a189825485",
   "metadata": {},
   "source": [
    "#### Remove Columns"
   ]
  },
  {
   "cell_type": "code",
   "execution_count": 12,
   "id": "0112503f-0251-4aad-90ff-913acc9d8759",
   "metadata": {},
   "outputs": [],
   "source": [
    "# remove columns\n",
    "country_df=country_df.drop(columns=['president_name','president_gender','president_appointment_start_date','president_appointment_end_date','capital'])"
   ]
  },
  {
   "cell_type": "markdown",
   "id": "554c4e39-9090-440e-8491-bd6e305f8023",
   "metadata": {},
   "source": [
    "#### Fix data types"
   ]
  },
  {
   "cell_type": "code",
   "execution_count": 14,
   "id": "47af97cf-91f6-48cc-a010-7957aabc4b6f",
   "metadata": {},
   "outputs": [],
   "source": [
    "# function to display current data format\n",
    "def data_format(col):\n",
    "    print(f'Data Format for {col}\\n-----------------\\n{country_df[col].unique}')"
   ]
  },
  {
   "cell_type": "markdown",
   "id": "541b4233-4a45-4862-9790-88a6e766c514",
   "metadata": {},
   "source": [
    "**covid_cases**"
   ]
  },
  {
   "cell_type": "code",
   "execution_count": 16,
   "id": "63db0947-9d70-4ce5-8035-80a1046be3e3",
   "metadata": {},
   "outputs": [
    {
     "name": "stdout",
     "output_type": "stream",
     "text": [
      "Data Format for covid_cases\n",
      "-----------------\n",
      "<bound method Series.unique of 0      46,498\n",
      "1      37,625\n",
      "2      83,199\n",
      "3       6,712\n",
      "4      15,139\n",
      "        ...  \n",
      "181         0\n",
      "182         0\n",
      "183     2,081\n",
      "184    17,647\n",
      "185    10,034\n",
      "Name: covid_cases, Length: 186, dtype: object>\n"
     ]
    }
   ],
   "source": [
    "data_format('covid_cases')"
   ]
  },
  {
   "cell_type": "code",
   "execution_count": 17,
   "id": "a86601d7-e286-4289-95d1-a7b6cf6bef84",
   "metadata": {},
   "outputs": [
    {
     "data": {
      "text/html": [
       "<div>\n",
       "<style scoped>\n",
       "    .dataframe tbody tr th:only-of-type {\n",
       "        vertical-align: middle;\n",
       "    }\n",
       "\n",
       "    .dataframe tbody tr th {\n",
       "        vertical-align: top;\n",
       "    }\n",
       "\n",
       "    .dataframe thead th {\n",
       "        text-align: right;\n",
       "    }\n",
       "</style>\n",
       "<table border=\"1\" class=\"dataframe\">\n",
       "  <thead>\n",
       "    <tr style=\"text-align: right;\">\n",
       "      <th></th>\n",
       "      <th>covid_cases_edited</th>\n",
       "      <th>covid_cases</th>\n",
       "    </tr>\n",
       "  </thead>\n",
       "  <tbody>\n",
       "    <tr>\n",
       "      <th>0</th>\n",
       "      <td>46498</td>\n",
       "      <td>46,498</td>\n",
       "    </tr>\n",
       "    <tr>\n",
       "      <th>1</th>\n",
       "      <td>37625</td>\n",
       "      <td>37,625</td>\n",
       "    </tr>\n",
       "    <tr>\n",
       "      <th>2</th>\n",
       "      <td>83199</td>\n",
       "      <td>83,199</td>\n",
       "    </tr>\n",
       "    <tr>\n",
       "      <th>3</th>\n",
       "      <td>6712</td>\n",
       "      <td>6,712</td>\n",
       "    </tr>\n",
       "    <tr>\n",
       "      <th>4</th>\n",
       "      <td>15139</td>\n",
       "      <td>15,139</td>\n",
       "    </tr>\n",
       "    <tr>\n",
       "      <th>...</th>\n",
       "      <td>...</td>\n",
       "      <td>...</td>\n",
       "    </tr>\n",
       "    <tr>\n",
       "      <th>181</th>\n",
       "      <td>0</td>\n",
       "      <td>0</td>\n",
       "    </tr>\n",
       "    <tr>\n",
       "      <th>182</th>\n",
       "      <td>0</td>\n",
       "      <td>0</td>\n",
       "    </tr>\n",
       "    <tr>\n",
       "      <th>183</th>\n",
       "      <td>2081</td>\n",
       "      <td>2,081</td>\n",
       "    </tr>\n",
       "    <tr>\n",
       "      <th>184</th>\n",
       "      <td>17647</td>\n",
       "      <td>17,647</td>\n",
       "    </tr>\n",
       "    <tr>\n",
       "      <th>185</th>\n",
       "      <td>10034</td>\n",
       "      <td>10,034</td>\n",
       "    </tr>\n",
       "  </tbody>\n",
       "</table>\n",
       "<p>186 rows × 2 columns</p>\n",
       "</div>"
      ],
      "text/plain": [
       "     covid_cases_edited covid_cases\n",
       "0                 46498      46,498\n",
       "1                 37625      37,625\n",
       "2                 83199      83,199\n",
       "3                  6712       6,712\n",
       "4                 15139      15,139\n",
       "..                  ...         ...\n",
       "181                   0           0\n",
       "182                   0           0\n",
       "183                2081       2,081\n",
       "184               17647      17,647\n",
       "185               10034      10,034\n",
       "\n",
       "[186 rows x 2 columns]"
      ]
     },
     "execution_count": 17,
     "metadata": {},
     "output_type": "execute_result"
    }
   ],
   "source": [
    "# remove commas and fix to integer\n",
    "country_df['covid_cases_edited']=country_df['covid_cases'].str.replace(',', '').astype(int)\n",
    "\n",
    "# display changes to confirm\n",
    "country_df[['covid_cases_edited','covid_cases']]"
   ]
  },
  {
   "cell_type": "code",
   "execution_count": 18,
   "id": "5a48999b-e63c-44d7-87d7-7f5c08b1e0b4",
   "metadata": {},
   "outputs": [
    {
     "data": {
      "text/plain": [
       "0      46498\n",
       "1      37625\n",
       "2      83199\n",
       "3       6712\n",
       "4      15139\n",
       "       ...  \n",
       "181        0\n",
       "182        0\n",
       "183     2081\n",
       "184    17647\n",
       "185    10034\n",
       "Name: covid_cases, Length: 186, dtype: int32"
      ]
     },
     "execution_count": 18,
     "metadata": {},
     "output_type": "execute_result"
    }
   ],
   "source": [
    "# remove the original and rename the old\n",
    "country_df=country_df.drop(columns='covid_cases')\n",
    "\n",
    "# rename edited\n",
    "country_df=country_df.rename(columns={'covid_cases_edited':'covid_cases'})\n",
    "\n",
    "# review changes\n",
    "country_df['covid_cases']"
   ]
  },
  {
   "cell_type": "markdown",
   "id": "c98ea3fe-102d-42ba-acaf-34025382c865",
   "metadata": {},
   "source": [
    "***covid_cases** complete*"
   ]
  },
  {
   "cell_type": "markdown",
   "id": "5a927990-ed8d-4048-9739-4926786f5aaa",
   "metadata": {},
   "source": [
    "**covid_deaths**"
   ]
  },
  {
   "cell_type": "code",
   "execution_count": 21,
   "id": "0c7fe4d5-34e0-49bd-8a1a-f138da0aa425",
   "metadata": {},
   "outputs": [
    {
     "name": "stdout",
     "output_type": "stream",
     "text": [
      "Data Format for covid_deaths\n",
      "-----------------\n",
      "<bound method Series.unique of 0      1,774\n",
      "1        798\n",
      "2      2,431\n",
      "3         76\n",
      "4        348\n",
      "       ...  \n",
      "181        0\n",
      "182        0\n",
      "183      606\n",
      "184      357\n",
      "185      277\n",
      "Name: covid_deaths, Length: 186, dtype: object>\n"
     ]
    }
   ],
   "source": [
    "data_format('covid_deaths')"
   ]
  },
  {
   "cell_type": "code",
   "execution_count": 22,
   "id": "f32f69ed-e19c-42c5-941e-4e77bdd2b399",
   "metadata": {},
   "outputs": [
    {
     "data": {
      "text/html": [
       "<div>\n",
       "<style scoped>\n",
       "    .dataframe tbody tr th:only-of-type {\n",
       "        vertical-align: middle;\n",
       "    }\n",
       "\n",
       "    .dataframe tbody tr th {\n",
       "        vertical-align: top;\n",
       "    }\n",
       "\n",
       "    .dataframe thead th {\n",
       "        text-align: right;\n",
       "    }\n",
       "</style>\n",
       "<table border=\"1\" class=\"dataframe\">\n",
       "  <thead>\n",
       "    <tr style=\"text-align: right;\">\n",
       "      <th></th>\n",
       "      <th>covid_deaths_edited</th>\n",
       "      <th>covid_deaths</th>\n",
       "    </tr>\n",
       "  </thead>\n",
       "  <tbody>\n",
       "    <tr>\n",
       "      <th>0</th>\n",
       "      <td>1774</td>\n",
       "      <td>1,774</td>\n",
       "    </tr>\n",
       "    <tr>\n",
       "      <th>1</th>\n",
       "      <td>798</td>\n",
       "      <td>798</td>\n",
       "    </tr>\n",
       "    <tr>\n",
       "      <th>2</th>\n",
       "      <td>2431</td>\n",
       "      <td>2,431</td>\n",
       "    </tr>\n",
       "    <tr>\n",
       "      <th>3</th>\n",
       "      <td>76</td>\n",
       "      <td>76</td>\n",
       "    </tr>\n",
       "    <tr>\n",
       "      <th>4</th>\n",
       "      <td>348</td>\n",
       "      <td>348</td>\n",
       "    </tr>\n",
       "    <tr>\n",
       "      <th>...</th>\n",
       "      <td>...</td>\n",
       "      <td>...</td>\n",
       "    </tr>\n",
       "    <tr>\n",
       "      <th>181</th>\n",
       "      <td>0</td>\n",
       "      <td>0</td>\n",
       "    </tr>\n",
       "    <tr>\n",
       "      <th>182</th>\n",
       "      <td>0</td>\n",
       "      <td>0</td>\n",
       "    </tr>\n",
       "    <tr>\n",
       "      <th>183</th>\n",
       "      <td>606</td>\n",
       "      <td>606</td>\n",
       "    </tr>\n",
       "    <tr>\n",
       "      <th>184</th>\n",
       "      <td>357</td>\n",
       "      <td>357</td>\n",
       "    </tr>\n",
       "    <tr>\n",
       "      <th>185</th>\n",
       "      <td>277</td>\n",
       "      <td>277</td>\n",
       "    </tr>\n",
       "  </tbody>\n",
       "</table>\n",
       "<p>186 rows × 2 columns</p>\n",
       "</div>"
      ],
      "text/plain": [
       "     covid_deaths_edited covid_deaths\n",
       "0                   1774        1,774\n",
       "1                    798          798\n",
       "2                   2431        2,431\n",
       "3                     76           76\n",
       "4                    348          348\n",
       "..                   ...          ...\n",
       "181                    0            0\n",
       "182                    0            0\n",
       "183                  606          606\n",
       "184                  357          357\n",
       "185                  277          277\n",
       "\n",
       "[186 rows x 2 columns]"
      ]
     },
     "execution_count": 22,
     "metadata": {},
     "output_type": "execute_result"
    }
   ],
   "source": [
    "# remove commas and fix to integer\n",
    "country_df['covid_deaths_edited']=country_df['covid_deaths'].str.replace(',', '').astype(int)\n",
    "\n",
    "# display changes to confirm\n",
    "country_df[['covid_deaths_edited','covid_deaths']]"
   ]
  },
  {
   "cell_type": "code",
   "execution_count": 23,
   "id": "b0609be7-5c98-4dd9-ab1f-1bd95bf1e700",
   "metadata": {},
   "outputs": [
    {
     "data": {
      "text/plain": [
       "0      1774\n",
       "1       798\n",
       "2      2431\n",
       "3        76\n",
       "4       348\n",
       "       ... \n",
       "181       0\n",
       "182       0\n",
       "183     606\n",
       "184     357\n",
       "185     277\n",
       "Name: covid_deaths, Length: 186, dtype: int32"
      ]
     },
     "execution_count": 23,
     "metadata": {},
     "output_type": "execute_result"
    }
   ],
   "source": [
    "# remove the original and rename the old\n",
    "country_df=country_df.drop(columns='covid_deaths')\n",
    "\n",
    "# rename edited\n",
    "country_df=country_df.rename(columns={'covid_deaths_edited':'covid_deaths'})\n",
    "\n",
    "# review changes\n",
    "country_df['covid_deaths']"
   ]
  },
  {
   "cell_type": "markdown",
   "id": "0b89e49c-d770-44ae-bf5a-f5d67a8251ed",
   "metadata": {},
   "source": [
    "***covid_deaths** complete*"
   ]
  },
  {
   "cell_type": "markdown",
   "id": "f22a2707-3cdf-4829-a697-b47d9957691f",
   "metadata": {},
   "source": [
    "**size**"
   ]
  },
  {
   "cell_type": "code",
   "execution_count": 26,
   "id": "f378de99-5550-4734-9f59-37f9217d9b88",
   "metadata": {},
   "outputs": [
    {
     "name": "stdout",
     "output_type": "stream",
     "text": [
      "Data Format for size\n",
      "-----------------\n",
      "<bound method Series.unique of 0        652,000 km²\n",
      "1         28,748 km²\n",
      "2      2,381,741 km²\n",
      "3            468 km²\n",
      "4      1,246,620 km²\n",
      "           ...      \n",
      "181      916,445 km²\n",
      "182      331,212 km²\n",
      "183      527,968 km²\n",
      "184      752,618 km²\n",
      "185      390,757 km²\n",
      "Name: size, Length: 186, dtype: object>\n"
     ]
    }
   ],
   "source": [
    "data_format('size')"
   ]
  },
  {
   "cell_type": "code",
   "execution_count": 27,
   "id": "775e5ff8-14fa-4696-9b69-cc5250025497",
   "metadata": {},
   "outputs": [
    {
     "data": {
      "text/html": [
       "<div>\n",
       "<style scoped>\n",
       "    .dataframe tbody tr th:only-of-type {\n",
       "        vertical-align: middle;\n",
       "    }\n",
       "\n",
       "    .dataframe tbody tr th {\n",
       "        vertical-align: top;\n",
       "    }\n",
       "\n",
       "    .dataframe thead th {\n",
       "        text-align: right;\n",
       "    }\n",
       "</style>\n",
       "<table border=\"1\" class=\"dataframe\">\n",
       "  <thead>\n",
       "    <tr style=\"text-align: right;\">\n",
       "      <th></th>\n",
       "      <th>size_edited</th>\n",
       "      <th>size</th>\n",
       "    </tr>\n",
       "  </thead>\n",
       "  <tbody>\n",
       "    <tr>\n",
       "      <th>0</th>\n",
       "      <td>652000</td>\n",
       "      <td>652,000 km²</td>\n",
       "    </tr>\n",
       "    <tr>\n",
       "      <th>1</th>\n",
       "      <td>28748</td>\n",
       "      <td>28,748 km²</td>\n",
       "    </tr>\n",
       "    <tr>\n",
       "      <th>2</th>\n",
       "      <td>2381741</td>\n",
       "      <td>2,381,741 km²</td>\n",
       "    </tr>\n",
       "    <tr>\n",
       "      <th>3</th>\n",
       "      <td>468</td>\n",
       "      <td>468 km²</td>\n",
       "    </tr>\n",
       "    <tr>\n",
       "      <th>4</th>\n",
       "      <td>1246620</td>\n",
       "      <td>1,246,620 km²</td>\n",
       "    </tr>\n",
       "    <tr>\n",
       "      <th>...</th>\n",
       "      <td>...</td>\n",
       "      <td>...</td>\n",
       "    </tr>\n",
       "    <tr>\n",
       "      <th>181</th>\n",
       "      <td>916445</td>\n",
       "      <td>916,445 km²</td>\n",
       "    </tr>\n",
       "    <tr>\n",
       "      <th>182</th>\n",
       "      <td>331212</td>\n",
       "      <td>331,212 km²</td>\n",
       "    </tr>\n",
       "    <tr>\n",
       "      <th>183</th>\n",
       "      <td>527968</td>\n",
       "      <td>527,968 km²</td>\n",
       "    </tr>\n",
       "    <tr>\n",
       "      <th>184</th>\n",
       "      <td>752618</td>\n",
       "      <td>752,618 km²</td>\n",
       "    </tr>\n",
       "    <tr>\n",
       "      <th>185</th>\n",
       "      <td>390757</td>\n",
       "      <td>390,757 km²</td>\n",
       "    </tr>\n",
       "  </tbody>\n",
       "</table>\n",
       "<p>186 rows × 2 columns</p>\n",
       "</div>"
      ],
      "text/plain": [
       "     size_edited           size\n",
       "0         652000    652,000 km²\n",
       "1          28748     28,748 km²\n",
       "2        2381741  2,381,741 km²\n",
       "3            468        468 km²\n",
       "4        1246620  1,246,620 km²\n",
       "..           ...            ...\n",
       "181       916445    916,445 km²\n",
       "182       331212    331,212 km²\n",
       "183       527968    527,968 km²\n",
       "184       752618    752,618 km²\n",
       "185       390757    390,757 km²\n",
       "\n",
       "[186 rows x 2 columns]"
      ]
     },
     "execution_count": 27,
     "metadata": {},
     "output_type": "execute_result"
    }
   ],
   "source": [
    "# remove commas and measure\n",
    "country_df['size_edited']=country_df['size'].str.replace(',', '').str.replace(' km²', '').astype(int)\n",
    "\n",
    "# display changes to confirm\n",
    "country_df[['size_edited','size']]"
   ]
  },
  {
   "cell_type": "code",
   "execution_count": 28,
   "id": "6eceb1be-370d-4fa1-a86c-239876e6cdc4",
   "metadata": {},
   "outputs": [
    {
     "data": {
      "text/plain": [
       "0       652000\n",
       "1        28748\n",
       "2      2381741\n",
       "3          468\n",
       "4      1246620\n",
       "        ...   \n",
       "181     916445\n",
       "182     331212\n",
       "183     527968\n",
       "184     752618\n",
       "185     390757\n",
       "Name: land_area_km2, Length: 186, dtype: int32"
      ]
     },
     "execution_count": 28,
     "metadata": {},
     "output_type": "execute_result"
    }
   ],
   "source": [
    "# remove the original and rename the old\n",
    "country_df=country_df.drop(columns='size')\n",
    "\n",
    "# rename edited, add a note about the measure\n",
    "country_df=country_df.rename(columns={'size_edited':'land_area_km2'})\n",
    "\n",
    "# review changes\n",
    "country_df['land_area_km2']"
   ]
  },
  {
   "cell_type": "markdown",
   "id": "6321541e-b310-4fdd-be98-3a30c4aab1fd",
   "metadata": {},
   "source": [
    "***size** completed, renamed to **area_km2***"
   ]
  },
  {
   "cell_type": "markdown",
   "id": "04b5c35b-0791-4655-91c7-b8daae3af489",
   "metadata": {},
   "source": [
    "**population**"
   ]
  },
  {
   "cell_type": "code",
   "execution_count": 31,
   "id": "8bfee4db-b228-4fde-b7c8-37ef0365e28a",
   "metadata": {},
   "outputs": [
    {
     "name": "stdout",
     "output_type": "stream",
     "text": [
      "Data Format for population\n",
      "-----------------\n",
      "<bound method Series.unique of 0      39,306,195\n",
      "1       2,876,490\n",
      "2      44,190,030\n",
      "3          77,317\n",
      "4      33,312,843\n",
      "          ...    \n",
      "181    28,402,272\n",
      "182    97,702,766\n",
      "183    30,110,883\n",
      "184    18,609,335\n",
      "185    14,955,711\n",
      "Name: population, Length: 186, dtype: object>\n"
     ]
    }
   ],
   "source": [
    "data_format('population')"
   ]
  },
  {
   "cell_type": "code",
   "execution_count": 32,
   "id": "59fb567a-69cf-41c0-90ae-3be09e6cd041",
   "metadata": {},
   "outputs": [
    {
     "data": {
      "text/html": [
       "<div>\n",
       "<style scoped>\n",
       "    .dataframe tbody tr th:only-of-type {\n",
       "        vertical-align: middle;\n",
       "    }\n",
       "\n",
       "    .dataframe tbody tr th {\n",
       "        vertical-align: top;\n",
       "    }\n",
       "\n",
       "    .dataframe thead th {\n",
       "        text-align: right;\n",
       "    }\n",
       "</style>\n",
       "<table border=\"1\" class=\"dataframe\">\n",
       "  <thead>\n",
       "    <tr style=\"text-align: right;\">\n",
       "      <th></th>\n",
       "      <th>population_edited</th>\n",
       "      <th>population</th>\n",
       "    </tr>\n",
       "  </thead>\n",
       "  <tbody>\n",
       "    <tr>\n",
       "      <th>0</th>\n",
       "      <td>39306195</td>\n",
       "      <td>39,306,195</td>\n",
       "    </tr>\n",
       "    <tr>\n",
       "      <th>1</th>\n",
       "      <td>2876490</td>\n",
       "      <td>2,876,490</td>\n",
       "    </tr>\n",
       "    <tr>\n",
       "      <th>2</th>\n",
       "      <td>44190030</td>\n",
       "      <td>44,190,030</td>\n",
       "    </tr>\n",
       "    <tr>\n",
       "      <th>3</th>\n",
       "      <td>77317</td>\n",
       "      <td>77,317</td>\n",
       "    </tr>\n",
       "    <tr>\n",
       "      <th>4</th>\n",
       "      <td>33312843</td>\n",
       "      <td>33,312,843</td>\n",
       "    </tr>\n",
       "    <tr>\n",
       "      <th>...</th>\n",
       "      <td>...</td>\n",
       "      <td>...</td>\n",
       "    </tr>\n",
       "    <tr>\n",
       "      <th>181</th>\n",
       "      <td>28402272</td>\n",
       "      <td>28,402,272</td>\n",
       "    </tr>\n",
       "    <tr>\n",
       "      <th>182</th>\n",
       "      <td>97702766</td>\n",
       "      <td>97,702,766</td>\n",
       "    </tr>\n",
       "    <tr>\n",
       "      <th>183</th>\n",
       "      <td>30110883</td>\n",
       "      <td>30,110,883</td>\n",
       "    </tr>\n",
       "    <tr>\n",
       "      <th>184</th>\n",
       "      <td>18609335</td>\n",
       "      <td>18,609,335</td>\n",
       "    </tr>\n",
       "    <tr>\n",
       "      <th>185</th>\n",
       "      <td>14955711</td>\n",
       "      <td>14,955,711</td>\n",
       "    </tr>\n",
       "  </tbody>\n",
       "</table>\n",
       "<p>186 rows × 2 columns</p>\n",
       "</div>"
      ],
      "text/plain": [
       "     population_edited  population\n",
       "0             39306195  39,306,195\n",
       "1              2876490   2,876,490\n",
       "2             44190030  44,190,030\n",
       "3                77317      77,317\n",
       "4             33312843  33,312,843\n",
       "..                 ...         ...\n",
       "181           28402272  28,402,272\n",
       "182           97702766  97,702,766\n",
       "183           30110883  30,110,883\n",
       "184           18609335  18,609,335\n",
       "185           14955711  14,955,711\n",
       "\n",
       "[186 rows x 2 columns]"
      ]
     },
     "execution_count": 32,
     "metadata": {},
     "output_type": "execute_result"
    }
   ],
   "source": [
    "# remove commas\n",
    "country_df['population_edited']=country_df['population'].str.replace(',', '').astype(int)\n",
    "\n",
    "# display changes to confirm\n",
    "country_df[['population_edited','population']]"
   ]
  },
  {
   "cell_type": "code",
   "execution_count": 33,
   "id": "d6b8bcaa-9d44-4b48-a0e2-dc72eaab9a4d",
   "metadata": {},
   "outputs": [
    {
     "data": {
      "text/plain": [
       "0      39306195\n",
       "1       2876490\n",
       "2      44190030\n",
       "3         77317\n",
       "4      33312843\n",
       "         ...   \n",
       "181    28402272\n",
       "182    97702766\n",
       "183    30110883\n",
       "184    18609335\n",
       "185    14955711\n",
       "Name: population, Length: 186, dtype: int32"
      ]
     },
     "execution_count": 33,
     "metadata": {},
     "output_type": "execute_result"
    }
   ],
   "source": [
    "# remove the original and rename the old\n",
    "country_df=country_df.drop(columns='population')\n",
    "\n",
    "# rename edited\n",
    "country_df=country_df.rename(columns={'population_edited':'population'})\n",
    "\n",
    "# review changes\n",
    "country_df['population']"
   ]
  },
  {
   "cell_type": "markdown",
   "id": "2f1343dc-7caa-4e98-a8f0-96c774827e30",
   "metadata": {},
   "source": [
    "***population** completed*"
   ]
  },
  {
   "cell_type": "markdown",
   "id": "e8b4965e-3c3b-4132-a5b2-ffdc7dada964",
   "metadata": {},
   "source": [
    "**fill missing continents**"
   ]
  },
  {
   "cell_type": "code",
   "execution_count": 36,
   "id": "90ecf78f-1c9f-4fe6-9dc3-7652a379cdd5",
   "metadata": {},
   "outputs": [
    {
     "data": {
      "text/html": [
       "<div>\n",
       "<style scoped>\n",
       "    .dataframe tbody tr th:only-of-type {\n",
       "        vertical-align: middle;\n",
       "    }\n",
       "\n",
       "    .dataframe tbody tr th {\n",
       "        vertical-align: top;\n",
       "    }\n",
       "\n",
       "    .dataframe thead th {\n",
       "        text-align: right;\n",
       "    }\n",
       "</style>\n",
       "<table border=\"1\" class=\"dataframe\">\n",
       "  <thead>\n",
       "    <tr style=\"text-align: right;\">\n",
       "      <th></th>\n",
       "      <th>country</th>\n",
       "      <th>continent</th>\n",
       "      <th>covid_cases</th>\n",
       "      <th>covid_deaths</th>\n",
       "      <th>land_area_km2</th>\n",
       "      <th>population</th>\n",
       "    </tr>\n",
       "  </thead>\n",
       "  <tbody>\n",
       "    <tr>\n",
       "      <th>168</th>\n",
       "      <td>Trinidad And Tobago</td>\n",
       "      <td>NaN</td>\n",
       "      <td>0</td>\n",
       "      <td>0</td>\n",
       "      <td>0</td>\n",
       "      <td>0</td>\n",
       "    </tr>\n",
       "    <tr>\n",
       "      <th>169</th>\n",
       "      <td>Tunisia</td>\n",
       "      <td>NaN</td>\n",
       "      <td>96769</td>\n",
       "      <td>3260</td>\n",
       "      <td>0</td>\n",
       "      <td>0</td>\n",
       "    </tr>\n",
       "  </tbody>\n",
       "</table>\n",
       "</div>"
      ],
      "text/plain": [
       "                 country continent  covid_cases  covid_deaths  land_area_km2  \\\n",
       "168  Trinidad And Tobago       NaN            0             0              0   \n",
       "169              Tunisia       NaN        96769          3260              0   \n",
       "\n",
       "     population  \n",
       "168           0  \n",
       "169           0  "
      ]
     },
     "execution_count": 36,
     "metadata": {},
     "output_type": "execute_result"
    }
   ],
   "source": [
    "# first find the occurences\n",
    "null_continent_rows=country_df.loc[country_df['continent'].isna()]\n",
    "\n",
    "null_continent_rows"
   ]
  },
  {
   "cell_type": "code",
   "execution_count": 37,
   "id": "793ac4e8-5c8a-41f8-a2f6-142f40e333dd",
   "metadata": {},
   "outputs": [],
   "source": [
    "country_df.loc[country_df['country']=='Trinidad And Tobago', 'continent']=country_df.loc[country_df['country']=='Trinidad And Tobago', 'continent'].fillna('North America')\n",
    "country_df.loc[country_df['country']=='Tunisia', 'continent']=country_df.loc[country_df['country']=='Tunisia', 'continent'].fillna('Africa')"
   ]
  },
  {
   "cell_type": "code",
   "execution_count": 38,
   "id": "07de4d8f-16ea-4774-b3cc-3b6a266e4fba",
   "metadata": {},
   "outputs": [
    {
     "data": {
      "text/html": [
       "<div>\n",
       "<style scoped>\n",
       "    .dataframe tbody tr th:only-of-type {\n",
       "        vertical-align: middle;\n",
       "    }\n",
       "\n",
       "    .dataframe tbody tr th {\n",
       "        vertical-align: top;\n",
       "    }\n",
       "\n",
       "    .dataframe thead th {\n",
       "        text-align: right;\n",
       "    }\n",
       "</style>\n",
       "<table border=\"1\" class=\"dataframe\">\n",
       "  <thead>\n",
       "    <tr style=\"text-align: right;\">\n",
       "      <th></th>\n",
       "      <th>country</th>\n",
       "      <th>continent</th>\n",
       "      <th>covid_cases</th>\n",
       "      <th>covid_deaths</th>\n",
       "      <th>land_area_km2</th>\n",
       "      <th>population</th>\n",
       "    </tr>\n",
       "  </thead>\n",
       "  <tbody>\n",
       "    <tr>\n",
       "      <th>168</th>\n",
       "      <td>Trinidad And Tobago</td>\n",
       "      <td>North America</td>\n",
       "      <td>0</td>\n",
       "      <td>0</td>\n",
       "      <td>0</td>\n",
       "      <td>0</td>\n",
       "    </tr>\n",
       "  </tbody>\n",
       "</table>\n",
       "</div>"
      ],
      "text/plain": [
       "                 country      continent  covid_cases  covid_deaths  \\\n",
       "168  Trinidad And Tobago  North America            0             0   \n",
       "\n",
       "     land_area_km2  population  \n",
       "168              0           0  "
      ]
     },
     "execution_count": 38,
     "metadata": {},
     "output_type": "execute_result"
    }
   ],
   "source": [
    "# review changes\n",
    "country_df[country_df['country']=='Trinidad And Tobago']"
   ]
  },
  {
   "cell_type": "code",
   "execution_count": 39,
   "id": "1f4fc725-c197-4e34-ba67-3947b7ce2883",
   "metadata": {},
   "outputs": [
    {
     "data": {
      "text/html": [
       "<div>\n",
       "<style scoped>\n",
       "    .dataframe tbody tr th:only-of-type {\n",
       "        vertical-align: middle;\n",
       "    }\n",
       "\n",
       "    .dataframe tbody tr th {\n",
       "        vertical-align: top;\n",
       "    }\n",
       "\n",
       "    .dataframe thead th {\n",
       "        text-align: right;\n",
       "    }\n",
       "</style>\n",
       "<table border=\"1\" class=\"dataframe\">\n",
       "  <thead>\n",
       "    <tr style=\"text-align: right;\">\n",
       "      <th></th>\n",
       "      <th>country</th>\n",
       "      <th>continent</th>\n",
       "      <th>covid_cases</th>\n",
       "      <th>covid_deaths</th>\n",
       "      <th>land_area_km2</th>\n",
       "      <th>population</th>\n",
       "    </tr>\n",
       "  </thead>\n",
       "  <tbody>\n",
       "    <tr>\n",
       "      <th>169</th>\n",
       "      <td>Tunisia</td>\n",
       "      <td>Africa</td>\n",
       "      <td>96769</td>\n",
       "      <td>3260</td>\n",
       "      <td>0</td>\n",
       "      <td>0</td>\n",
       "    </tr>\n",
       "  </tbody>\n",
       "</table>\n",
       "</div>"
      ],
      "text/plain": [
       "     country continent  covid_cases  covid_deaths  land_area_km2  population\n",
       "169  Tunisia    Africa        96769          3260              0           0"
      ]
     },
     "execution_count": 39,
     "metadata": {},
     "output_type": "execute_result"
    }
   ],
   "source": [
    "country_df[country_df['country']=='Tunisia']"
   ]
  },
  {
   "cell_type": "code",
   "execution_count": 40,
   "id": "567e8467-47c8-4e53-980c-b3458ec926b7",
   "metadata": {},
   "outputs": [
    {
     "name": "stdout",
     "output_type": "stream",
     "text": [
      "Country Data Nulls (cleaned)\n"
     ]
    },
    {
     "data": {
      "text/html": [
       "<div>\n",
       "<style scoped>\n",
       "    .dataframe tbody tr th:only-of-type {\n",
       "        vertical-align: middle;\n",
       "    }\n",
       "\n",
       "    .dataframe tbody tr th {\n",
       "        vertical-align: top;\n",
       "    }\n",
       "\n",
       "    .dataframe thead th {\n",
       "        text-align: right;\n",
       "    }\n",
       "</style>\n",
       "<table border=\"1\" class=\"dataframe\">\n",
       "  <thead>\n",
       "    <tr style=\"text-align: right;\">\n",
       "      <th></th>\n",
       "      <th>Nulls</th>\n",
       "      <th>Nulls (%)</th>\n",
       "    </tr>\n",
       "  </thead>\n",
       "  <tbody>\n",
       "    <tr>\n",
       "      <th>country</th>\n",
       "      <td>0</td>\n",
       "      <td>0.0</td>\n",
       "    </tr>\n",
       "    <tr>\n",
       "      <th>continent</th>\n",
       "      <td>0</td>\n",
       "      <td>0.0</td>\n",
       "    </tr>\n",
       "    <tr>\n",
       "      <th>covid_cases</th>\n",
       "      <td>0</td>\n",
       "      <td>0.0</td>\n",
       "    </tr>\n",
       "    <tr>\n",
       "      <th>covid_deaths</th>\n",
       "      <td>0</td>\n",
       "      <td>0.0</td>\n",
       "    </tr>\n",
       "    <tr>\n",
       "      <th>land_area_km2</th>\n",
       "      <td>0</td>\n",
       "      <td>0.0</td>\n",
       "    </tr>\n",
       "    <tr>\n",
       "      <th>population</th>\n",
       "      <td>0</td>\n",
       "      <td>0.0</td>\n",
       "    </tr>\n",
       "  </tbody>\n",
       "</table>\n",
       "</div>"
      ],
      "text/plain": [
       "               Nulls  Nulls (%)\n",
       "country            0        0.0\n",
       "continent          0        0.0\n",
       "covid_cases        0        0.0\n",
       "covid_deaths       0        0.0\n",
       "land_area_km2      0        0.0\n",
       "population         0        0.0"
      ]
     },
     "execution_count": 40,
     "metadata": {},
     "output_type": "execute_result"
    }
   ],
   "source": [
    "# display nulls again\n",
    "null_counts=country_df.isna().sum()\n",
    "null_percentages=round((country_df.isna().sum()/shape[0])*100,2)\n",
    "\n",
    "# data frame for results\n",
    "nulls_df=pd.DataFrame({\n",
    "    'Nulls':null_counts,\n",
    "    'Nulls (%)':null_percentages\n",
    "})\n",
    "\n",
    "# display\n",
    "print(\"Country Data Nulls (cleaned)\")\n",
    "nulls_df"
   ]
  },
  {
   "cell_type": "code",
   "execution_count": 41,
   "id": "6204374b-a89c-482f-8ec6-0e8c863bccb5",
   "metadata": {},
   "outputs": [
    {
     "data": {
      "text/html": [
       "<div>\n",
       "<style scoped>\n",
       "    .dataframe tbody tr th:only-of-type {\n",
       "        vertical-align: middle;\n",
       "    }\n",
       "\n",
       "    .dataframe tbody tr th {\n",
       "        vertical-align: top;\n",
       "    }\n",
       "\n",
       "    .dataframe thead th {\n",
       "        text-align: right;\n",
       "    }\n",
       "</style>\n",
       "<table border=\"1\" class=\"dataframe\">\n",
       "  <thead>\n",
       "    <tr style=\"text-align: right;\">\n",
       "      <th></th>\n",
       "      <th>country</th>\n",
       "      <th>continent</th>\n",
       "      <th>covid_cases</th>\n",
       "      <th>covid_deaths</th>\n",
       "      <th>land_area_km2</th>\n",
       "      <th>population</th>\n",
       "    </tr>\n",
       "  </thead>\n",
       "  <tbody>\n",
       "    <tr>\n",
       "      <th>0</th>\n",
       "      <td>Afghanistan</td>\n",
       "      <td>Asia</td>\n",
       "      <td>46498</td>\n",
       "      <td>1774</td>\n",
       "      <td>652000</td>\n",
       "      <td>39306195</td>\n",
       "    </tr>\n",
       "    <tr>\n",
       "      <th>1</th>\n",
       "      <td>Albania</td>\n",
       "      <td>Europe</td>\n",
       "      <td>37625</td>\n",
       "      <td>798</td>\n",
       "      <td>28748</td>\n",
       "      <td>2876490</td>\n",
       "    </tr>\n",
       "    <tr>\n",
       "      <th>2</th>\n",
       "      <td>Algeria</td>\n",
       "      <td>Africa</td>\n",
       "      <td>83199</td>\n",
       "      <td>2431</td>\n",
       "      <td>2381741</td>\n",
       "      <td>44190030</td>\n",
       "    </tr>\n",
       "    <tr>\n",
       "      <th>3</th>\n",
       "      <td>Andorra</td>\n",
       "      <td>Europe</td>\n",
       "      <td>6712</td>\n",
       "      <td>76</td>\n",
       "      <td>468</td>\n",
       "      <td>77317</td>\n",
       "    </tr>\n",
       "    <tr>\n",
       "      <th>4</th>\n",
       "      <td>Angola</td>\n",
       "      <td>Africa</td>\n",
       "      <td>15139</td>\n",
       "      <td>348</td>\n",
       "      <td>1246620</td>\n",
       "      <td>33312843</td>\n",
       "    </tr>\n",
       "  </tbody>\n",
       "</table>\n",
       "</div>"
      ],
      "text/plain": [
       "       country continent  covid_cases  covid_deaths  land_area_km2  population\n",
       "0  Afghanistan      Asia        46498          1774         652000    39306195\n",
       "1      Albania    Europe        37625           798          28748     2876490\n",
       "2      Algeria    Africa        83199          2431        2381741    44190030\n",
       "3      Andorra    Europe         6712            76            468       77317\n",
       "4       Angola    Africa        15139           348        1246620    33312843"
      ]
     },
     "execution_count": 41,
     "metadata": {},
     "output_type": "execute_result"
    }
   ],
   "source": [
    "# display head one last time\n",
    "country_df.head()"
   ]
  },
  {
   "cell_type": "markdown",
   "id": "0aeb36f7-3cd5-40ae-bd47-ea5a40773192",
   "metadata": {},
   "source": [
    "---\n",
    "### Save Data\n",
    "* **api_country_data_clean.csv**"
   ]
  },
  {
   "cell_type": "code",
   "execution_count": 43,
   "id": "2a9494c2-11d2-449a-a2f1-5d3dfd16812b",
   "metadata": {},
   "outputs": [],
   "source": [
    "# save to csv\n",
    "country_df.to_csv('api_country_data_clean.csv',sep=',',encoding='utf-8',header=True,index=False)"
   ]
  }
 ],
 "metadata": {
  "kernelspec": {
   "display_name": "Python 3 (ipykernel)",
   "language": "python",
   "name": "python3"
  },
  "language_info": {
   "codemirror_mode": {
    "name": "ipython",
    "version": 3
   },
   "file_extension": ".py",
   "mimetype": "text/x-python",
   "name": "python",
   "nbconvert_exporter": "python",
   "pygments_lexer": "ipython3",
   "version": "3.12.3"
  }
 },
 "nbformat": 4,
 "nbformat_minor": 5
}

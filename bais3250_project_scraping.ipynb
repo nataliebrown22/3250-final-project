{
 "cells": [
  {
   "cell_type": "markdown",
   "id": "be6d8e8a-262c-4323-9f88-8ce4e9e4bfe4",
   "metadata": {},
   "source": [
    "## BAIS 3250 Project\n",
    "### Scraping Country Data\n",
    "11/13/2024"
   ]
  },
  {
   "cell_type": "code",
   "execution_count": null,
   "id": "03b87c76-706c-461a-9467-01b385103025",
   "metadata": {},
   "outputs": [],
   "source": [
    "## code goes here"
   ]
  },
  {
   "cell_type": "code",
   "execution_count": 1,
   "id": "9156a82a-5068-4997-97fb-0fd42ef056a8",
   "metadata": {},
   "outputs": [
    {
     "name": "stdout",
     "output_type": "stream",
     "text": [
      "hello world\n"
     ]
    }
   ],
   "source": [
    "print(f'hello world')"
   ]
  },
  {
   "cell_type": "code",
   "execution_count": null,
   "id": "16038297-0dd7-4ce2-84e1-763746b91bc5",
   "metadata": {},
   "outputs": [],
   "source": []
  }
 ],
 "metadata": {
  "kernelspec": {
   "display_name": "Python 3 (ipykernel)",
   "language": "python",
   "name": "python3"
  },
  "language_info": {
   "codemirror_mode": {
    "name": "ipython",
    "version": 3
   },
   "file_extension": ".py",
   "mimetype": "text/x-python",
   "name": "python",
   "nbconvert_exporter": "python",
   "pygments_lexer": "ipython3",
   "version": "3.12.3"
  }
 },
 "nbformat": 4,
 "nbformat_minor": 5
}
